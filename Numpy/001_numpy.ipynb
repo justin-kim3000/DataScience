{
 "cells": [
  {
   "cell_type": "code",
   "execution_count": 1,
   "metadata": {},
   "outputs": [],
   "source": [
    "import numpy as np"
   ]
  },
  {
   "cell_type": "markdown",
   "metadata": {},
   "source": [
    "## numpy: 과학 계산을 위한 lib\n",
    "### matrix/vector 연산 // python list 보다 처리 속도가 빠름"
   ]
  },
  {
   "cell_type": "code",
   "execution_count": 32,
   "metadata": {},
   "outputs": [],
   "source": [
    "def numpy1_f():\n",
    "    a = [[1,2,3],[4,5,6]]\n",
    "    print(a)\n",
    "    print(type(a))\n",
    "    # 리스트를 배열로 바꿈\n",
    "    b = np.array(a)\n",
    "    print(b)    \n",
    "    print(type(b))\n",
    "    \n",
    "    print(f'a[0][0]:{a[0][0]}')\n",
    "    print(f'a[1][1]:{a[1][1]}')\n",
    "    \n",
    "    print('배열의 차원:', b.ndim)\n",
    "    print('배열의 크기:', b.shape)\n",
    "#     b= b.reshape(3,2)\n",
    "#     print(b)    \n",
    "\n",
    "    # ex) 2배하기 : 파이썬 일반적 방법\n",
    "    data = [1,2,3,4,5]\n",
    "    res = []\n",
    "    for n in data:\n",
    "        res.append(n*2)\n",
    "    print(res)\n",
    "    print(data*2)\n",
    "    \n",
    "    # numpy 벡터화 연산\n",
    "    x = np.array(data)\n",
    "    print(x *2)\n",
    "    print(x[-1])"
   ]
  },
  {
   "cell_type": "code",
   "execution_count": 38,
   "metadata": {},
   "outputs": [],
   "source": [
    "def numpy2_f():\n",
    "    data = [[1,2,3],[4,5,6]]\n",
    "    nd = np.array(data)\n",
    "    # 3개 모두 같은 방법\n",
    "    for i, j, k in nd:\n",
    "        print(i,j,k)\n",
    "        \n",
    "    print('='*20)\n",
    "    for i in nd:\n",
    "        for j in i:\n",
    "            print(j, end='\\t')\n",
    "        print()\n",
    "    print('='*20)\n",
    "    for i in range(len(nd)):\n",
    "        for j in range(len(nd[i])):\n",
    "            print(nd[i][j], end='\\t')\n",
    "        print()"
   ]
  },
  {
   "cell_type": "code",
   "execution_count": 46,
   "metadata": {},
   "outputs": [],
   "source": [
    "def numpy3_f():\n",
    "    data = [[0,1,2,3],[4,5,6,7]]\n",
    "    a = np.array(data)\n",
    "    # 첫번째 행 전체\n",
    "    print(a[0,:])\n",
    "    # 첫번째 열 전체\n",
    "    print(a[:,0])\n",
    "    # 2번째 행, 2번째 열부터 끝까지\n",
    "    print(a[1][1:])"
   ]
  },
  {
   "cell_type": "code",
   "execution_count": 190,
   "metadata": {},
   "outputs": [],
   "source": [
    "def numpy4_f():\n",
    "    data = [[0,1,2,3],\n",
    "           [4,5,6,7],\n",
    "           [8,9,10,11],\n",
    "           [12,13,14,15]]\n",
    "    a= np.array(data)\n",
    "    #a[시작: 끝: 증가치]\n",
    "    print(a[::2])\n",
    "    print(a[:2:])\n",
    "    \n",
    "    # 1) 모든 행에서 1,3 열만 추출\n",
    "    print('1번')\n",
    "    print(a[:,::2])\n",
    "\n",
    "    # 2) 1,3행의 2번째 열~3번째 열\n",
    "    print('2번')\n",
    "    print(a[::2, 1:3])\n",
    "    \n",
    "    data2 = [[0,1,2,3,4],\n",
    "             [5,6,7,8,9],\n",
    "             [10,11,12,13,14]]\n",
    "    b = np.array(data2)\n",
    "    # 3) 7 indexing\n",
    "    print('3번')\n",
    "    print(b[1][2])\n",
    "    # 4) 14 indexing\n",
    "    print('4번')\n",
    "    print(b[2][-1])\n",
    "    # 5) [6,7] slicing\n",
    "    print('5번')\n",
    "    print(b[1,1:3])\n",
    "    # 6) [7,12] slicing\n",
    "    print('6번')\n",
    "    print(b[1:3,2])\n",
    "    print('배열의 차원:', b[1:3,2].ndim)\n",
    "    print('배열의 크기:', b[1:3,2].shape)\n",
    "    \n",
    "    # 7) [[7],[12]] slicing\n",
    "    print('7번')\n",
    "    print(b[1:3,2:3])\n",
    "    print('배열의 차원:', b[1:3,2:3].ndim)\n",
    "    print('배열의 크기:', b[1:3,2:3].shape)\n",
    "    \n",
    "    # 8) [[3,4],[8,9]] slicing\n",
    "    print('8번')\n",
    "    print(b[0:2,3:5])\n",
    "    print('배열의 차원:', b[0:2,3:5].ndim)\n",
    "    print('배열의 크기:', b[0:2,3:5].shape)\n",
    "    \n"
   ]
  },
  {
   "cell_type": "code",
   "execution_count": 191,
   "metadata": {},
   "outputs": [
    {
     "name": "stdout",
     "output_type": "stream",
     "text": [
      "[[ 0  1  2  3]\n",
      " [ 8  9 10 11]]\n",
      "[[0 1 2 3]\n",
      " [4 5 6 7]]\n",
      "1번\n",
      "[[ 0  2]\n",
      " [ 4  6]\n",
      " [ 8 10]\n",
      " [12 14]]\n",
      "2번\n",
      "[[ 1  2]\n",
      " [ 9 10]]\n",
      "3번\n",
      "7\n",
      "4번\n",
      "14\n",
      "5번\n",
      "[6 7]\n",
      "6번\n",
      "[ 7 12]\n",
      "배열의 차원: 1\n",
      "배열의 크기: (2,)\n",
      "7번\n",
      "[[ 7]\n",
      " [12]]\n",
      "배열의 차원: 2\n",
      "배열의 크기: (2, 1)\n",
      "8번\n",
      "[[3 4]\n",
      " [8 9]]\n",
      "배열의 차원: 2\n",
      "배열의 크기: (2, 2)\n"
     ]
    }
   ],
   "source": [
    "if __name__ == '__main__':\n",
    "#     numpy1_f()\n",
    "#     numpy2_f()\n",
    "#     numpy3_f()\n",
    "    numpy4_f()"
   ]
  },
  {
   "cell_type": "code",
   "execution_count": null,
   "metadata": {},
   "outputs": [],
   "source": []
  },
  {
   "cell_type": "code",
   "execution_count": null,
   "metadata": {},
   "outputs": [],
   "source": []
  },
  {
   "cell_type": "code",
   "execution_count": null,
   "metadata": {},
   "outputs": [],
   "source": []
  },
  {
   "cell_type": "code",
   "execution_count": null,
   "metadata": {},
   "outputs": [],
   "source": []
  },
  {
   "cell_type": "code",
   "execution_count": null,
   "metadata": {},
   "outputs": [],
   "source": []
  },
  {
   "cell_type": "code",
   "execution_count": null,
   "metadata": {},
   "outputs": [],
   "source": []
  }
 ],
 "metadata": {
  "kernelspec": {
   "display_name": "Python 3 (ipykernel)",
   "language": "python",
   "name": "python3"
  },
  "language_info": {
   "codemirror_mode": {
    "name": "ipython",
    "version": 3
   },
   "file_extension": ".py",
   "mimetype": "text/x-python",
   "name": "python",
   "nbconvert_exporter": "python",
   "pygments_lexer": "ipython3",
   "version": "3.7.13"
  }
 },
 "nbformat": 4,
 "nbformat_minor": 2
}
