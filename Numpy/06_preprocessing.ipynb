{
  "nbformat": 4,
  "nbformat_minor": 0,
  "metadata": {
    "colab": {
      "provenance": []
    },
    "kernelspec": {
      "name": "python3",
      "display_name": "Python 3"
    },
    "language_info": {
      "name": "python"
    }
  },
  "cells": [
    {
      "cell_type": "code",
      "execution_count": 30,
      "metadata": {
        "id": "DJM2bttWyFGX"
      },
      "outputs": [],
      "source": [
        "# !sudo apt-get install -y fonts-nanum\n",
        "# !sudo fc-cache -fv\n",
        "# !rm ~/.cache/matplotlib -rf\n",
        "# !pip install pyreadstat\n",
        "# !pip install --upgrade pandas"
      ]
    },
    {
      "cell_type": "code",
      "source": [
        "import pandas as pd\n",
        "import matplotlib.pyplot as plt\n",
        "import matplotlib as mpl\n",
        "import seaborn as sns\n",
        "\n",
        "plt.rc('font', family='NanumBarunGothic')\n",
        "plt.rcParams['axes.unicode_minus'] = False"
      ],
      "metadata": {
        "id": "D3fY3FIzye7q"
      },
      "execution_count": 31,
      "outputs": []
    },
    {
      "cell_type": "code",
      "source": [
        "df = pd.read_csv('/content/drive/MyDrive/Colab Notebooks/stock_market.csv')\n",
        "df.describe()"
      ],
      "metadata": {
        "colab": {
          "base_uri": "https://localhost:8080/",
          "height": 394
        },
        "id": "rJGFgGBy1j8F",
        "outputId": "6a75ce49-7352-44ac-d0b1-78354f163ec1"
      },
      "execution_count": 32,
      "outputs": [
        {
          "output_type": "execute_result",
          "data": {
            "text/plain": [
              "             Capital         PER           EPS        ROE         PBR  \\\n",
              "count     250.000000  249.000000    250.000000  249.00000  250.000000   \n",
              "mean    10898.852000    4.545221    209.928000    6.77510    1.072160   \n",
              "std     57713.804674   92.761163   3551.201312   24.26233    1.220344   \n",
              "min        30.000000 -554.080000 -27196.000000 -118.36000   -5.150000   \n",
              "25%       855.250000    2.930000    -71.000000    1.59000    0.430000   \n",
              "50%      1663.500000    6.760000     79.500000    6.39000    0.670000   \n",
              "75%      4144.000000   16.850000    672.250000   11.48000    1.367500   \n",
              "max    819003.000000  544.240000  15024.000000  305.77000    9.220000   \n",
              "\n",
              "                BPS   Group_PER        Revenue  Operating_Income  \\\n",
              "count  2.500000e+02  250.000000     250.000000        250.000000   \n",
              "mean   7.551041e+04   17.908800    9316.360000        632.992000   \n",
              "std    1.883453e+05   24.351651   23830.066818       3001.286352   \n",
              "min   -5.380000e+02  -54.430000      13.000000       -579.000000   \n",
              "25%    5.237000e+03    6.710000     495.000000          2.000000   \n",
              "50%    1.570500e+04   10.405000    1774.000000         47.000000   \n",
              "75%    6.239950e+04   20.600000    5452.000000        216.000000   \n",
              "max    2.011830e+06  127.460000  171884.000000      42195.000000   \n",
              "\n",
              "         Net_Income  ...  Debt_continuous     Retention  Retention_Continuous  \\\n",
              "count    250.000000  ...       250.000000    250.000000            250.000000   \n",
              "mean     362.128000  ...         1.828000   2839.620400              2.996000   \n",
              "std     2320.302106  ...         1.208411   6751.631504              1.768756   \n",
              "min    -2322.000000  ...         1.000000   -140.670000              1.000000   \n",
              "25%      -20.000000  ...         1.000000    271.360000              1.000000   \n",
              "50%       22.000000  ...         1.000000    957.585000              3.000000   \n",
              "75%      148.250000  ...         2.000000   2720.487500              5.000000   \n",
              "max    33199.000000  ...         5.000000  64024.100000              5.000000   \n",
              "\n",
              "                Open           High            Low          Close  \\\n",
              "count     250.000000     250.000000     250.000000     250.000000   \n",
              "mean    38892.124000   39676.600000   38561.144000   39294.172000   \n",
              "std     72336.989575   73809.494728   71944.046303   73414.157777   \n",
              "min         0.000000       0.000000       0.000000     299.000000   \n",
              "25%      4631.250000    4756.250000    4575.000000    4647.500000   \n",
              "50%     14175.000000   14425.000000   14025.000000   14325.000000   \n",
              "75%     41162.500000   41987.500000   39875.000000   40287.500000   \n",
              "max    632000.000000  654000.000000  632000.000000  654000.000000   \n",
              "\n",
              "           DaytoDay        Volume  Highest_Price  \n",
              "count    250.000000  2.500000e+02     250.000000  \n",
              "mean     633.944000  6.018891e+05   56882.124000  \n",
              "std     1661.466236  2.976599e+06  103776.416399  \n",
              "min        0.000000  0.000000e+00       0.000000  \n",
              "25%       45.000000  5.815000e+03    7369.500000  \n",
              "50%      160.000000  5.475950e+04   21450.000000  \n",
              "75%      500.000000  2.313110e+05   60806.750000  \n",
              "max    19000.000000  4.290845e+07  813000.000000  \n",
              "\n",
              "[8 rows x 22 columns]"
            ],
            "text/html": [
              "\n",
              "  <div id=\"df-5f30619d-e389-42eb-8b06-34ac377791fa\">\n",
              "    <div class=\"colab-df-container\">\n",
              "      <div>\n",
              "<style scoped>\n",
              "    .dataframe tbody tr th:only-of-type {\n",
              "        vertical-align: middle;\n",
              "    }\n",
              "\n",
              "    .dataframe tbody tr th {\n",
              "        vertical-align: top;\n",
              "    }\n",
              "\n",
              "    .dataframe thead th {\n",
              "        text-align: right;\n",
              "    }\n",
              "</style>\n",
              "<table border=\"1\" class=\"dataframe\">\n",
              "  <thead>\n",
              "    <tr style=\"text-align: right;\">\n",
              "      <th></th>\n",
              "      <th>Capital</th>\n",
              "      <th>PER</th>\n",
              "      <th>EPS</th>\n",
              "      <th>ROE</th>\n",
              "      <th>PBR</th>\n",
              "      <th>BPS</th>\n",
              "      <th>Group_PER</th>\n",
              "      <th>Revenue</th>\n",
              "      <th>Operating_Income</th>\n",
              "      <th>Net_Income</th>\n",
              "      <th>...</th>\n",
              "      <th>Debt_continuous</th>\n",
              "      <th>Retention</th>\n",
              "      <th>Retention_Continuous</th>\n",
              "      <th>Open</th>\n",
              "      <th>High</th>\n",
              "      <th>Low</th>\n",
              "      <th>Close</th>\n",
              "      <th>DaytoDay</th>\n",
              "      <th>Volume</th>\n",
              "      <th>Highest_Price</th>\n",
              "    </tr>\n",
              "  </thead>\n",
              "  <tbody>\n",
              "    <tr>\n",
              "      <th>count</th>\n",
              "      <td>250.000000</td>\n",
              "      <td>249.000000</td>\n",
              "      <td>250.000000</td>\n",
              "      <td>249.00000</td>\n",
              "      <td>250.000000</td>\n",
              "      <td>2.500000e+02</td>\n",
              "      <td>250.000000</td>\n",
              "      <td>250.000000</td>\n",
              "      <td>250.000000</td>\n",
              "      <td>250.000000</td>\n",
              "      <td>...</td>\n",
              "      <td>250.000000</td>\n",
              "      <td>250.000000</td>\n",
              "      <td>250.000000</td>\n",
              "      <td>250.000000</td>\n",
              "      <td>250.000000</td>\n",
              "      <td>250.000000</td>\n",
              "      <td>250.000000</td>\n",
              "      <td>250.000000</td>\n",
              "      <td>2.500000e+02</td>\n",
              "      <td>250.000000</td>\n",
              "    </tr>\n",
              "    <tr>\n",
              "      <th>mean</th>\n",
              "      <td>10898.852000</td>\n",
              "      <td>4.545221</td>\n",
              "      <td>209.928000</td>\n",
              "      <td>6.77510</td>\n",
              "      <td>1.072160</td>\n",
              "      <td>7.551041e+04</td>\n",
              "      <td>17.908800</td>\n",
              "      <td>9316.360000</td>\n",
              "      <td>632.992000</td>\n",
              "      <td>362.128000</td>\n",
              "      <td>...</td>\n",
              "      <td>1.828000</td>\n",
              "      <td>2839.620400</td>\n",
              "      <td>2.996000</td>\n",
              "      <td>38892.124000</td>\n",
              "      <td>39676.600000</td>\n",
              "      <td>38561.144000</td>\n",
              "      <td>39294.172000</td>\n",
              "      <td>633.944000</td>\n",
              "      <td>6.018891e+05</td>\n",
              "      <td>56882.124000</td>\n",
              "    </tr>\n",
              "    <tr>\n",
              "      <th>std</th>\n",
              "      <td>57713.804674</td>\n",
              "      <td>92.761163</td>\n",
              "      <td>3551.201312</td>\n",
              "      <td>24.26233</td>\n",
              "      <td>1.220344</td>\n",
              "      <td>1.883453e+05</td>\n",
              "      <td>24.351651</td>\n",
              "      <td>23830.066818</td>\n",
              "      <td>3001.286352</td>\n",
              "      <td>2320.302106</td>\n",
              "      <td>...</td>\n",
              "      <td>1.208411</td>\n",
              "      <td>6751.631504</td>\n",
              "      <td>1.768756</td>\n",
              "      <td>72336.989575</td>\n",
              "      <td>73809.494728</td>\n",
              "      <td>71944.046303</td>\n",
              "      <td>73414.157777</td>\n",
              "      <td>1661.466236</td>\n",
              "      <td>2.976599e+06</td>\n",
              "      <td>103776.416399</td>\n",
              "    </tr>\n",
              "    <tr>\n",
              "      <th>min</th>\n",
              "      <td>30.000000</td>\n",
              "      <td>-554.080000</td>\n",
              "      <td>-27196.000000</td>\n",
              "      <td>-118.36000</td>\n",
              "      <td>-5.150000</td>\n",
              "      <td>-5.380000e+02</td>\n",
              "      <td>-54.430000</td>\n",
              "      <td>13.000000</td>\n",
              "      <td>-579.000000</td>\n",
              "      <td>-2322.000000</td>\n",
              "      <td>...</td>\n",
              "      <td>1.000000</td>\n",
              "      <td>-140.670000</td>\n",
              "      <td>1.000000</td>\n",
              "      <td>0.000000</td>\n",
              "      <td>0.000000</td>\n",
              "      <td>0.000000</td>\n",
              "      <td>299.000000</td>\n",
              "      <td>0.000000</td>\n",
              "      <td>0.000000e+00</td>\n",
              "      <td>0.000000</td>\n",
              "    </tr>\n",
              "    <tr>\n",
              "      <th>25%</th>\n",
              "      <td>855.250000</td>\n",
              "      <td>2.930000</td>\n",
              "      <td>-71.000000</td>\n",
              "      <td>1.59000</td>\n",
              "      <td>0.430000</td>\n",
              "      <td>5.237000e+03</td>\n",
              "      <td>6.710000</td>\n",
              "      <td>495.000000</td>\n",
              "      <td>2.000000</td>\n",
              "      <td>-20.000000</td>\n",
              "      <td>...</td>\n",
              "      <td>1.000000</td>\n",
              "      <td>271.360000</td>\n",
              "      <td>1.000000</td>\n",
              "      <td>4631.250000</td>\n",
              "      <td>4756.250000</td>\n",
              "      <td>4575.000000</td>\n",
              "      <td>4647.500000</td>\n",
              "      <td>45.000000</td>\n",
              "      <td>5.815000e+03</td>\n",
              "      <td>7369.500000</td>\n",
              "    </tr>\n",
              "    <tr>\n",
              "      <th>50%</th>\n",
              "      <td>1663.500000</td>\n",
              "      <td>6.760000</td>\n",
              "      <td>79.500000</td>\n",
              "      <td>6.39000</td>\n",
              "      <td>0.670000</td>\n",
              "      <td>1.570500e+04</td>\n",
              "      <td>10.405000</td>\n",
              "      <td>1774.000000</td>\n",
              "      <td>47.000000</td>\n",
              "      <td>22.000000</td>\n",
              "      <td>...</td>\n",
              "      <td>1.000000</td>\n",
              "      <td>957.585000</td>\n",
              "      <td>3.000000</td>\n",
              "      <td>14175.000000</td>\n",
              "      <td>14425.000000</td>\n",
              "      <td>14025.000000</td>\n",
              "      <td>14325.000000</td>\n",
              "      <td>160.000000</td>\n",
              "      <td>5.475950e+04</td>\n",
              "      <td>21450.000000</td>\n",
              "    </tr>\n",
              "    <tr>\n",
              "      <th>75%</th>\n",
              "      <td>4144.000000</td>\n",
              "      <td>16.850000</td>\n",
              "      <td>672.250000</td>\n",
              "      <td>11.48000</td>\n",
              "      <td>1.367500</td>\n",
              "      <td>6.239950e+04</td>\n",
              "      <td>20.600000</td>\n",
              "      <td>5452.000000</td>\n",
              "      <td>216.000000</td>\n",
              "      <td>148.250000</td>\n",
              "      <td>...</td>\n",
              "      <td>2.000000</td>\n",
              "      <td>2720.487500</td>\n",
              "      <td>5.000000</td>\n",
              "      <td>41162.500000</td>\n",
              "      <td>41987.500000</td>\n",
              "      <td>39875.000000</td>\n",
              "      <td>40287.500000</td>\n",
              "      <td>500.000000</td>\n",
              "      <td>2.313110e+05</td>\n",
              "      <td>60806.750000</td>\n",
              "    </tr>\n",
              "    <tr>\n",
              "      <th>max</th>\n",
              "      <td>819003.000000</td>\n",
              "      <td>544.240000</td>\n",
              "      <td>15024.000000</td>\n",
              "      <td>305.77000</td>\n",
              "      <td>9.220000</td>\n",
              "      <td>2.011830e+06</td>\n",
              "      <td>127.460000</td>\n",
              "      <td>171884.000000</td>\n",
              "      <td>42195.000000</td>\n",
              "      <td>33199.000000</td>\n",
              "      <td>...</td>\n",
              "      <td>5.000000</td>\n",
              "      <td>64024.100000</td>\n",
              "      <td>5.000000</td>\n",
              "      <td>632000.000000</td>\n",
              "      <td>654000.000000</td>\n",
              "      <td>632000.000000</td>\n",
              "      <td>654000.000000</td>\n",
              "      <td>19000.000000</td>\n",
              "      <td>4.290845e+07</td>\n",
              "      <td>813000.000000</td>\n",
              "    </tr>\n",
              "  </tbody>\n",
              "</table>\n",
              "<p>8 rows × 22 columns</p>\n",
              "</div>\n",
              "      <button class=\"colab-df-convert\" onclick=\"convertToInteractive('df-5f30619d-e389-42eb-8b06-34ac377791fa')\"\n",
              "              title=\"Convert this dataframe to an interactive table.\"\n",
              "              style=\"display:none;\">\n",
              "        \n",
              "  <svg xmlns=\"http://www.w3.org/2000/svg\" height=\"24px\"viewBox=\"0 0 24 24\"\n",
              "       width=\"24px\">\n",
              "    <path d=\"M0 0h24v24H0V0z\" fill=\"none\"/>\n",
              "    <path d=\"M18.56 5.44l.94 2.06.94-2.06 2.06-.94-2.06-.94-.94-2.06-.94 2.06-2.06.94zm-11 1L8.5 8.5l.94-2.06 2.06-.94-2.06-.94L8.5 2.5l-.94 2.06-2.06.94zm10 10l.94 2.06.94-2.06 2.06-.94-2.06-.94-.94-2.06-.94 2.06-2.06.94z\"/><path d=\"M17.41 7.96l-1.37-1.37c-.4-.4-.92-.59-1.43-.59-.52 0-1.04.2-1.43.59L10.3 9.45l-7.72 7.72c-.78.78-.78 2.05 0 2.83L4 21.41c.39.39.9.59 1.41.59.51 0 1.02-.2 1.41-.59l7.78-7.78 2.81-2.81c.8-.78.8-2.07 0-2.86zM5.41 20L4 18.59l7.72-7.72 1.47 1.35L5.41 20z\"/>\n",
              "  </svg>\n",
              "      </button>\n",
              "      \n",
              "  <style>\n",
              "    .colab-df-container {\n",
              "      display:flex;\n",
              "      flex-wrap:wrap;\n",
              "      gap: 12px;\n",
              "    }\n",
              "\n",
              "    .colab-df-convert {\n",
              "      background-color: #E8F0FE;\n",
              "      border: none;\n",
              "      border-radius: 50%;\n",
              "      cursor: pointer;\n",
              "      display: none;\n",
              "      fill: #1967D2;\n",
              "      height: 32px;\n",
              "      padding: 0 0 0 0;\n",
              "      width: 32px;\n",
              "    }\n",
              "\n",
              "    .colab-df-convert:hover {\n",
              "      background-color: #E2EBFA;\n",
              "      box-shadow: 0px 1px 2px rgba(60, 64, 67, 0.3), 0px 1px 3px 1px rgba(60, 64, 67, 0.15);\n",
              "      fill: #174EA6;\n",
              "    }\n",
              "\n",
              "    [theme=dark] .colab-df-convert {\n",
              "      background-color: #3B4455;\n",
              "      fill: #D2E3FC;\n",
              "    }\n",
              "\n",
              "    [theme=dark] .colab-df-convert:hover {\n",
              "      background-color: #434B5C;\n",
              "      box-shadow: 0px 1px 3px 1px rgba(0, 0, 0, 0.15);\n",
              "      filter: drop-shadow(0px 1px 2px rgba(0, 0, 0, 0.3));\n",
              "      fill: #FFFFFF;\n",
              "    }\n",
              "  </style>\n",
              "\n",
              "      <script>\n",
              "        const buttonEl =\n",
              "          document.querySelector('#df-5f30619d-e389-42eb-8b06-34ac377791fa button.colab-df-convert');\n",
              "        buttonEl.style.display =\n",
              "          google.colab.kernel.accessAllowed ? 'block' : 'none';\n",
              "\n",
              "        async function convertToInteractive(key) {\n",
              "          const element = document.querySelector('#df-5f30619d-e389-42eb-8b06-34ac377791fa');\n",
              "          const dataTable =\n",
              "            await google.colab.kernel.invokeFunction('convertToInteractive',\n",
              "                                                     [key], {});\n",
              "          if (!dataTable) return;\n",
              "\n",
              "          const docLinkHtml = 'Like what you see? Visit the ' +\n",
              "            '<a target=\"_blank\" href=https://colab.research.google.com/notebooks/data_table.ipynb>data table notebook</a>'\n",
              "            + ' to learn more about interactive tables.';\n",
              "          element.innerHTML = '';\n",
              "          dataTable['output_type'] = 'display_data';\n",
              "          await google.colab.output.renderOutput(dataTable, element);\n",
              "          const docLink = document.createElement('div');\n",
              "          docLink.innerHTML = docLinkHtml;\n",
              "          element.appendChild(docLink);\n",
              "        }\n",
              "      </script>\n",
              "    </div>\n",
              "  </div>\n",
              "  "
            ]
          },
          "metadata": {},
          "execution_count": 32
        }
      ]
    },
    {
      "cell_type": "code",
      "source": [
        "df.head()"
      ],
      "metadata": {
        "colab": {
          "base_uri": "https://localhost:8080/",
          "height": 421
        },
        "id": "tb4yaF0A10q8",
        "outputId": "876821ee-d938-47cb-9645-167f86ecb8aa"
      },
      "execution_count": 33,
      "outputs": [
        {
          "output_type": "execute_result",
          "data": {
            "text/plain": [
              "   ID   Name Market      Category  Capital    PER   EPS    ROE   PBR     BPS  \\\n",
              "0  20   동화약품  KOSPI            제약     3282  22.82   204   5.27  1.16   12534   \n",
              "1  40  KR모터스  KOSPI           자동차      761  -8.77   -48 -25.82  2.25     385   \n",
              "2  50     경방  KOSPI  섬유,의류,신발,호화품     4208  16.92   155   2.98  0.46   30043   \n",
              "3  60  메리츠화재  KOSPI          손해보험    44269   6.13  1605  26.08  1.52   22115   \n",
              "4  70  삼양홀딩스  KOSPI            식품     6988   3.66  1645  14.53  0.43  226314   \n",
              "\n",
              "   ...  Retention_Continuous   Open   High    Low  Close  DaytoDay  Volume  \\\n",
              "0  ...                     5  11400  11750  11400  11750       300   67692   \n",
              "1  ...                     1    786    804    786    792         8   80163   \n",
              "2  ...                     5  15100  15350  14900  15350       200    8396   \n",
              "3  ...                     4  37250  37350  34650  36700       350  545472   \n",
              "4  ...                     1  81800  82300  81000  81600       500    9234   \n",
              "\n",
              "   Highest_Price  Highest_Date      update_date  \n",
              "0          21550    2020-08-11  2022-05-13 7:04  \n",
              "1           1450    2019-07-05  2022-05-13 6:31  \n",
              "2          17750    2022-04-26  2022-05-13 6:48  \n",
              "3          53500    2022-01-21  2022-05-13 7:05  \n",
              "4         134000    2021-04-22  2022-05-13 6:48  \n",
              "\n",
              "[5 rows x 28 columns]"
            ],
            "text/html": [
              "\n",
              "  <div id=\"df-14b76fde-f2b4-448e-87b8-a5c484429d5b\">\n",
              "    <div class=\"colab-df-container\">\n",
              "      <div>\n",
              "<style scoped>\n",
              "    .dataframe tbody tr th:only-of-type {\n",
              "        vertical-align: middle;\n",
              "    }\n",
              "\n",
              "    .dataframe tbody tr th {\n",
              "        vertical-align: top;\n",
              "    }\n",
              "\n",
              "    .dataframe thead th {\n",
              "        text-align: right;\n",
              "    }\n",
              "</style>\n",
              "<table border=\"1\" class=\"dataframe\">\n",
              "  <thead>\n",
              "    <tr style=\"text-align: right;\">\n",
              "      <th></th>\n",
              "      <th>ID</th>\n",
              "      <th>Name</th>\n",
              "      <th>Market</th>\n",
              "      <th>Category</th>\n",
              "      <th>Capital</th>\n",
              "      <th>PER</th>\n",
              "      <th>EPS</th>\n",
              "      <th>ROE</th>\n",
              "      <th>PBR</th>\n",
              "      <th>BPS</th>\n",
              "      <th>...</th>\n",
              "      <th>Retention_Continuous</th>\n",
              "      <th>Open</th>\n",
              "      <th>High</th>\n",
              "      <th>Low</th>\n",
              "      <th>Close</th>\n",
              "      <th>DaytoDay</th>\n",
              "      <th>Volume</th>\n",
              "      <th>Highest_Price</th>\n",
              "      <th>Highest_Date</th>\n",
              "      <th>update_date</th>\n",
              "    </tr>\n",
              "  </thead>\n",
              "  <tbody>\n",
              "    <tr>\n",
              "      <th>0</th>\n",
              "      <td>20</td>\n",
              "      <td>동화약품</td>\n",
              "      <td>KOSPI</td>\n",
              "      <td>제약</td>\n",
              "      <td>3282</td>\n",
              "      <td>22.82</td>\n",
              "      <td>204</td>\n",
              "      <td>5.27</td>\n",
              "      <td>1.16</td>\n",
              "      <td>12534</td>\n",
              "      <td>...</td>\n",
              "      <td>5</td>\n",
              "      <td>11400</td>\n",
              "      <td>11750</td>\n",
              "      <td>11400</td>\n",
              "      <td>11750</td>\n",
              "      <td>300</td>\n",
              "      <td>67692</td>\n",
              "      <td>21550</td>\n",
              "      <td>2020-08-11</td>\n",
              "      <td>2022-05-13 7:04</td>\n",
              "    </tr>\n",
              "    <tr>\n",
              "      <th>1</th>\n",
              "      <td>40</td>\n",
              "      <td>KR모터스</td>\n",
              "      <td>KOSPI</td>\n",
              "      <td>자동차</td>\n",
              "      <td>761</td>\n",
              "      <td>-8.77</td>\n",
              "      <td>-48</td>\n",
              "      <td>-25.82</td>\n",
              "      <td>2.25</td>\n",
              "      <td>385</td>\n",
              "      <td>...</td>\n",
              "      <td>1</td>\n",
              "      <td>786</td>\n",
              "      <td>804</td>\n",
              "      <td>786</td>\n",
              "      <td>792</td>\n",
              "      <td>8</td>\n",
              "      <td>80163</td>\n",
              "      <td>1450</td>\n",
              "      <td>2019-07-05</td>\n",
              "      <td>2022-05-13 6:31</td>\n",
              "    </tr>\n",
              "    <tr>\n",
              "      <th>2</th>\n",
              "      <td>50</td>\n",
              "      <td>경방</td>\n",
              "      <td>KOSPI</td>\n",
              "      <td>섬유,의류,신발,호화품</td>\n",
              "      <td>4208</td>\n",
              "      <td>16.92</td>\n",
              "      <td>155</td>\n",
              "      <td>2.98</td>\n",
              "      <td>0.46</td>\n",
              "      <td>30043</td>\n",
              "      <td>...</td>\n",
              "      <td>5</td>\n",
              "      <td>15100</td>\n",
              "      <td>15350</td>\n",
              "      <td>14900</td>\n",
              "      <td>15350</td>\n",
              "      <td>200</td>\n",
              "      <td>8396</td>\n",
              "      <td>17750</td>\n",
              "      <td>2022-04-26</td>\n",
              "      <td>2022-05-13 6:48</td>\n",
              "    </tr>\n",
              "    <tr>\n",
              "      <th>3</th>\n",
              "      <td>60</td>\n",
              "      <td>메리츠화재</td>\n",
              "      <td>KOSPI</td>\n",
              "      <td>손해보험</td>\n",
              "      <td>44269</td>\n",
              "      <td>6.13</td>\n",
              "      <td>1605</td>\n",
              "      <td>26.08</td>\n",
              "      <td>1.52</td>\n",
              "      <td>22115</td>\n",
              "      <td>...</td>\n",
              "      <td>4</td>\n",
              "      <td>37250</td>\n",
              "      <td>37350</td>\n",
              "      <td>34650</td>\n",
              "      <td>36700</td>\n",
              "      <td>350</td>\n",
              "      <td>545472</td>\n",
              "      <td>53500</td>\n",
              "      <td>2022-01-21</td>\n",
              "      <td>2022-05-13 7:05</td>\n",
              "    </tr>\n",
              "    <tr>\n",
              "      <th>4</th>\n",
              "      <td>70</td>\n",
              "      <td>삼양홀딩스</td>\n",
              "      <td>KOSPI</td>\n",
              "      <td>식품</td>\n",
              "      <td>6988</td>\n",
              "      <td>3.66</td>\n",
              "      <td>1645</td>\n",
              "      <td>14.53</td>\n",
              "      <td>0.43</td>\n",
              "      <td>226314</td>\n",
              "      <td>...</td>\n",
              "      <td>1</td>\n",
              "      <td>81800</td>\n",
              "      <td>82300</td>\n",
              "      <td>81000</td>\n",
              "      <td>81600</td>\n",
              "      <td>500</td>\n",
              "      <td>9234</td>\n",
              "      <td>134000</td>\n",
              "      <td>2021-04-22</td>\n",
              "      <td>2022-05-13 6:48</td>\n",
              "    </tr>\n",
              "  </tbody>\n",
              "</table>\n",
              "<p>5 rows × 28 columns</p>\n",
              "</div>\n",
              "      <button class=\"colab-df-convert\" onclick=\"convertToInteractive('df-14b76fde-f2b4-448e-87b8-a5c484429d5b')\"\n",
              "              title=\"Convert this dataframe to an interactive table.\"\n",
              "              style=\"display:none;\">\n",
              "        \n",
              "  <svg xmlns=\"http://www.w3.org/2000/svg\" height=\"24px\"viewBox=\"0 0 24 24\"\n",
              "       width=\"24px\">\n",
              "    <path d=\"M0 0h24v24H0V0z\" fill=\"none\"/>\n",
              "    <path d=\"M18.56 5.44l.94 2.06.94-2.06 2.06-.94-2.06-.94-.94-2.06-.94 2.06-2.06.94zm-11 1L8.5 8.5l.94-2.06 2.06-.94-2.06-.94L8.5 2.5l-.94 2.06-2.06.94zm10 10l.94 2.06.94-2.06 2.06-.94-2.06-.94-.94-2.06-.94 2.06-2.06.94z\"/><path d=\"M17.41 7.96l-1.37-1.37c-.4-.4-.92-.59-1.43-.59-.52 0-1.04.2-1.43.59L10.3 9.45l-7.72 7.72c-.78.78-.78 2.05 0 2.83L4 21.41c.39.39.9.59 1.41.59.51 0 1.02-.2 1.41-.59l7.78-7.78 2.81-2.81c.8-.78.8-2.07 0-2.86zM5.41 20L4 18.59l7.72-7.72 1.47 1.35L5.41 20z\"/>\n",
              "  </svg>\n",
              "      </button>\n",
              "      \n",
              "  <style>\n",
              "    .colab-df-container {\n",
              "      display:flex;\n",
              "      flex-wrap:wrap;\n",
              "      gap: 12px;\n",
              "    }\n",
              "\n",
              "    .colab-df-convert {\n",
              "      background-color: #E8F0FE;\n",
              "      border: none;\n",
              "      border-radius: 50%;\n",
              "      cursor: pointer;\n",
              "      display: none;\n",
              "      fill: #1967D2;\n",
              "      height: 32px;\n",
              "      padding: 0 0 0 0;\n",
              "      width: 32px;\n",
              "    }\n",
              "\n",
              "    .colab-df-convert:hover {\n",
              "      background-color: #E2EBFA;\n",
              "      box-shadow: 0px 1px 2px rgba(60, 64, 67, 0.3), 0px 1px 3px 1px rgba(60, 64, 67, 0.15);\n",
              "      fill: #174EA6;\n",
              "    }\n",
              "\n",
              "    [theme=dark] .colab-df-convert {\n",
              "      background-color: #3B4455;\n",
              "      fill: #D2E3FC;\n",
              "    }\n",
              "\n",
              "    [theme=dark] .colab-df-convert:hover {\n",
              "      background-color: #434B5C;\n",
              "      box-shadow: 0px 1px 3px 1px rgba(0, 0, 0, 0.15);\n",
              "      filter: drop-shadow(0px 1px 2px rgba(0, 0, 0, 0.3));\n",
              "      fill: #FFFFFF;\n",
              "    }\n",
              "  </style>\n",
              "\n",
              "      <script>\n",
              "        const buttonEl =\n",
              "          document.querySelector('#df-14b76fde-f2b4-448e-87b8-a5c484429d5b button.colab-df-convert');\n",
              "        buttonEl.style.display =\n",
              "          google.colab.kernel.accessAllowed ? 'block' : 'none';\n",
              "\n",
              "        async function convertToInteractive(key) {\n",
              "          const element = document.querySelector('#df-14b76fde-f2b4-448e-87b8-a5c484429d5b');\n",
              "          const dataTable =\n",
              "            await google.colab.kernel.invokeFunction('convertToInteractive',\n",
              "                                                     [key], {});\n",
              "          if (!dataTable) return;\n",
              "\n",
              "          const docLinkHtml = 'Like what you see? Visit the ' +\n",
              "            '<a target=\"_blank\" href=https://colab.research.google.com/notebooks/data_table.ipynb>data table notebook</a>'\n",
              "            + ' to learn more about interactive tables.';\n",
              "          element.innerHTML = '';\n",
              "          dataTable['output_type'] = 'display_data';\n",
              "          await google.colab.output.renderOutput(dataTable, element);\n",
              "          const docLink = document.createElement('div');\n",
              "          docLink.innerHTML = docLinkHtml;\n",
              "          element.appendChild(docLink);\n",
              "        }\n",
              "      </script>\n",
              "    </div>\n",
              "  </div>\n",
              "  "
            ]
          },
          "metadata": {},
          "execution_count": 33
        }
      ]
    },
    {
      "cell_type": "code",
      "source": [
        "# 배당금(Dividend), 주가 순자산 비율(PBR)\n",
        "df[['Dividend','PBR']]"
      ],
      "metadata": {
        "colab": {
          "base_uri": "https://localhost:8080/",
          "height": 424
        },
        "id": "ejMFwuKQ1ux5",
        "outputId": "60938edc-ef33-4ac9-e6f7-b84b99633a55"
      },
      "execution_count": 34,
      "outputs": [
        {
          "output_type": "execute_result",
          "data": {
            "text/plain": [
              "     Dividend   PBR\n",
              "0        1.23  1.16\n",
              "1         NaN  2.25\n",
              "2        0.91  0.46\n",
              "3        1.85  1.52\n",
              "4        3.05  0.43\n",
              "..        ...   ...\n",
              "245       NaN  1.27\n",
              "246      2.23  0.27\n",
              "247      3.73  0.38\n",
              "248      1.21  0.99\n",
              "249      1.42  0.99\n",
              "\n",
              "[250 rows x 2 columns]"
            ],
            "text/html": [
              "\n",
              "  <div id=\"df-87dc4626-fe1b-4777-9a99-62b24d15a8d6\">\n",
              "    <div class=\"colab-df-container\">\n",
              "      <div>\n",
              "<style scoped>\n",
              "    .dataframe tbody tr th:only-of-type {\n",
              "        vertical-align: middle;\n",
              "    }\n",
              "\n",
              "    .dataframe tbody tr th {\n",
              "        vertical-align: top;\n",
              "    }\n",
              "\n",
              "    .dataframe thead th {\n",
              "        text-align: right;\n",
              "    }\n",
              "</style>\n",
              "<table border=\"1\" class=\"dataframe\">\n",
              "  <thead>\n",
              "    <tr style=\"text-align: right;\">\n",
              "      <th></th>\n",
              "      <th>Dividend</th>\n",
              "      <th>PBR</th>\n",
              "    </tr>\n",
              "  </thead>\n",
              "  <tbody>\n",
              "    <tr>\n",
              "      <th>0</th>\n",
              "      <td>1.23</td>\n",
              "      <td>1.16</td>\n",
              "    </tr>\n",
              "    <tr>\n",
              "      <th>1</th>\n",
              "      <td>NaN</td>\n",
              "      <td>2.25</td>\n",
              "    </tr>\n",
              "    <tr>\n",
              "      <th>2</th>\n",
              "      <td>0.91</td>\n",
              "      <td>0.46</td>\n",
              "    </tr>\n",
              "    <tr>\n",
              "      <th>3</th>\n",
              "      <td>1.85</td>\n",
              "      <td>1.52</td>\n",
              "    </tr>\n",
              "    <tr>\n",
              "      <th>4</th>\n",
              "      <td>3.05</td>\n",
              "      <td>0.43</td>\n",
              "    </tr>\n",
              "    <tr>\n",
              "      <th>...</th>\n",
              "      <td>...</td>\n",
              "      <td>...</td>\n",
              "    </tr>\n",
              "    <tr>\n",
              "      <th>245</th>\n",
              "      <td>NaN</td>\n",
              "      <td>1.27</td>\n",
              "    </tr>\n",
              "    <tr>\n",
              "      <th>246</th>\n",
              "      <td>2.23</td>\n",
              "      <td>0.27</td>\n",
              "    </tr>\n",
              "    <tr>\n",
              "      <th>247</th>\n",
              "      <td>3.73</td>\n",
              "      <td>0.38</td>\n",
              "    </tr>\n",
              "    <tr>\n",
              "      <th>248</th>\n",
              "      <td>1.21</td>\n",
              "      <td>0.99</td>\n",
              "    </tr>\n",
              "    <tr>\n",
              "      <th>249</th>\n",
              "      <td>1.42</td>\n",
              "      <td>0.99</td>\n",
              "    </tr>\n",
              "  </tbody>\n",
              "</table>\n",
              "<p>250 rows × 2 columns</p>\n",
              "</div>\n",
              "      <button class=\"colab-df-convert\" onclick=\"convertToInteractive('df-87dc4626-fe1b-4777-9a99-62b24d15a8d6')\"\n",
              "              title=\"Convert this dataframe to an interactive table.\"\n",
              "              style=\"display:none;\">\n",
              "        \n",
              "  <svg xmlns=\"http://www.w3.org/2000/svg\" height=\"24px\"viewBox=\"0 0 24 24\"\n",
              "       width=\"24px\">\n",
              "    <path d=\"M0 0h24v24H0V0z\" fill=\"none\"/>\n",
              "    <path d=\"M18.56 5.44l.94 2.06.94-2.06 2.06-.94-2.06-.94-.94-2.06-.94 2.06-2.06.94zm-11 1L8.5 8.5l.94-2.06 2.06-.94-2.06-.94L8.5 2.5l-.94 2.06-2.06.94zm10 10l.94 2.06.94-2.06 2.06-.94-2.06-.94-.94-2.06-.94 2.06-2.06.94z\"/><path d=\"M17.41 7.96l-1.37-1.37c-.4-.4-.92-.59-1.43-.59-.52 0-1.04.2-1.43.59L10.3 9.45l-7.72 7.72c-.78.78-.78 2.05 0 2.83L4 21.41c.39.39.9.59 1.41.59.51 0 1.02-.2 1.41-.59l7.78-7.78 2.81-2.81c.8-.78.8-2.07 0-2.86zM5.41 20L4 18.59l7.72-7.72 1.47 1.35L5.41 20z\"/>\n",
              "  </svg>\n",
              "      </button>\n",
              "      \n",
              "  <style>\n",
              "    .colab-df-container {\n",
              "      display:flex;\n",
              "      flex-wrap:wrap;\n",
              "      gap: 12px;\n",
              "    }\n",
              "\n",
              "    .colab-df-convert {\n",
              "      background-color: #E8F0FE;\n",
              "      border: none;\n",
              "      border-radius: 50%;\n",
              "      cursor: pointer;\n",
              "      display: none;\n",
              "      fill: #1967D2;\n",
              "      height: 32px;\n",
              "      padding: 0 0 0 0;\n",
              "      width: 32px;\n",
              "    }\n",
              "\n",
              "    .colab-df-convert:hover {\n",
              "      background-color: #E2EBFA;\n",
              "      box-shadow: 0px 1px 2px rgba(60, 64, 67, 0.3), 0px 1px 3px 1px rgba(60, 64, 67, 0.15);\n",
              "      fill: #174EA6;\n",
              "    }\n",
              "\n",
              "    [theme=dark] .colab-df-convert {\n",
              "      background-color: #3B4455;\n",
              "      fill: #D2E3FC;\n",
              "    }\n",
              "\n",
              "    [theme=dark] .colab-df-convert:hover {\n",
              "      background-color: #434B5C;\n",
              "      box-shadow: 0px 1px 3px 1px rgba(0, 0, 0, 0.15);\n",
              "      filter: drop-shadow(0px 1px 2px rgba(0, 0, 0, 0.3));\n",
              "      fill: #FFFFFF;\n",
              "    }\n",
              "  </style>\n",
              "\n",
              "      <script>\n",
              "        const buttonEl =\n",
              "          document.querySelector('#df-87dc4626-fe1b-4777-9a99-62b24d15a8d6 button.colab-df-convert');\n",
              "        buttonEl.style.display =\n",
              "          google.colab.kernel.accessAllowed ? 'block' : 'none';\n",
              "\n",
              "        async function convertToInteractive(key) {\n",
              "          const element = document.querySelector('#df-87dc4626-fe1b-4777-9a99-62b24d15a8d6');\n",
              "          const dataTable =\n",
              "            await google.colab.kernel.invokeFunction('convertToInteractive',\n",
              "                                                     [key], {});\n",
              "          if (!dataTable) return;\n",
              "\n",
              "          const docLinkHtml = 'Like what you see? Visit the ' +\n",
              "            '<a target=\"_blank\" href=https://colab.research.google.com/notebooks/data_table.ipynb>data table notebook</a>'\n",
              "            + ' to learn more about interactive tables.';\n",
              "          element.innerHTML = '';\n",
              "          dataTable['output_type'] = 'display_data';\n",
              "          await google.colab.output.renderOutput(dataTable, element);\n",
              "          const docLink = document.createElement('div');\n",
              "          docLink.innerHTML = docLinkHtml;\n",
              "          element.appendChild(docLink);\n",
              "        }\n",
              "      </script>\n",
              "    </div>\n",
              "  </div>\n",
              "  "
            ]
          },
          "metadata": {},
          "execution_count": 34
        }
      ]
    },
    {
      "cell_type": "markdown",
      "source": [
        "## 결측치 처리\n",
        "### 10% 미만 : 삭제 or 특정값(평균, 중앙값, 최빈값)으로 대체\n",
        "### 50% 이상 : 컬럼 삭제\n",
        "### 10% ~20% : 이전 데이터 참조 또는 머신러닝 모델\n",
        "### 20% ~50% : 머신러닝 모델 사용\n",
        "\n",
        " "
      ],
      "metadata": {
        "id": "uIFeQqnu5jdJ"
      }
    },
    {
      "cell_type": "code",
      "source": [
        "print('배당금 결측치:',df[['Dividend']].isna().sum())\n",
        "len(df[['Dividend']])"
      ],
      "metadata": {
        "colab": {
          "base_uri": "https://localhost:8080/"
        },
        "id": "n2e5Hr1e1-3X",
        "outputId": "170020f2-55fa-422e-90c8-867ecb78a97b"
      },
      "execution_count": 35,
      "outputs": [
        {
          "output_type": "stream",
          "name": "stdout",
          "text": [
            "배당금 결측치: Dividend    61\n",
            "dtype: int64\n"
          ]
        },
        {
          "output_type": "execute_result",
          "data": {
            "text/plain": [
              "250"
            ]
          },
          "metadata": {},
          "execution_count": 35
        }
      ]
    },
    {
      "cell_type": "code",
      "source": [
        "# 모든 결측치 행 삭제\n",
        "# df = df.dropna()\n",
        "# print('배당금 결측치:',df[['Dividend']].isna().sum())\n",
        "# len(df[['Dividend']])"
      ],
      "metadata": {
        "id": "faV2yVHn2PBy"
      },
      "execution_count": 36,
      "outputs": []
    },
    {
      "cell_type": "code",
      "source": [
        "sns.histplot(df['Dividend'])"
      ],
      "metadata": {
        "colab": {
          "base_uri": "https://localhost:8080/",
          "height": 297
        },
        "id": "6iBOv8om8mui",
        "outputId": "61d89457-633f-4f62-cbcb-0a1939fceb0e"
      },
      "execution_count": 37,
      "outputs": [
        {
          "output_type": "execute_result",
          "data": {
            "text/plain": [
              "<matplotlib.axes._subplots.AxesSubplot at 0x7fb1063b4d60>"
            ]
          },
          "metadata": {},
          "execution_count": 37
        },
        {
          "output_type": "display_data",
          "data": {
            "text/plain": [
              "<Figure size 432x288 with 1 Axes>"
            ],
            "image/png": "[encoded data removed]"
          },
          "metadata": {
            "needs_background": "light"
          }
        }
      ]
    },
    {
      "cell_type": "code",
      "source": [
        "# 결측치를 평균으로 채움\n",
        "df['Dividend'] = df['Dividend'].fillna(df['Dividend'].mean())\n",
        "sns.histplot(df['Dividend'])\n",
        "# 결측치 0으로 채움\n",
        "# df['Dividend'] = df['Dividend'].fillna(0)"
      ],
      "metadata": {
        "colab": {
          "base_uri": "https://localhost:8080/",
          "height": 297
        },
        "id": "0U67ztfM9NZ6",
        "outputId": "0cdc7005-c7fb-4063-eeea-1107cb9b9e2a"
      },
      "execution_count": 38,
      "outputs": [
        {
          "output_type": "execute_result",
          "data": {
            "text/plain": [
              "<matplotlib.axes._subplots.AxesSubplot at 0x7fb10581a550>"
            ]
          },
          "metadata": {},
          "execution_count": 38
        },
        {
          "output_type": "display_data",
          "data": {
            "text/plain": [
              "<Figure size 432x288 with 1 Axes>"
            ],
            "image/png": "[encoded data removed]"
          },
          "metadata": {
            "needs_background": "light"
          }
        }
      ]
    },
    {
      "cell_type": "code",
      "source": [
        "# interpolate: 등차 간격으로 값을 집어넣음\n",
        "# df = df.interpolate(method='linear', limit_direction='forward')"
      ],
      "metadata": {
        "id": "8Qh5JHLo99eK"
      },
      "execution_count": 39,
      "outputs": []
    },
    {
      "cell_type": "markdown",
      "source": [
        "# IQR 이상치 처리\n",
        "### 사분위수 : 전체 데이터를 4등분\n",
        "### Q1 ~ Q3: 0.25 - 0.5 - 0.75\n",
        "### IQR = Q3 - Q1\n",
        "### 이상치 = (Q3+IQR*1.5보다 큰 값) & (Q1-IQR*1.5보다 작은값)\n"
      ],
      "metadata": {
        "id": "FsQ1oIdoHqBE"
      }
    },
    {
      "cell_type": "code",
      "source": [
        "import numpy as np"
      ],
      "metadata": {
        "id": "QtqcECNHiue2"
      },
      "execution_count": 40,
      "outputs": []
    },
    {
      "cell_type": "code",
      "source": [
        "def iqr_outliers(data):\n",
        "    q1, q3 = np.percentile(data, [25, 75])\n",
        "    iqr = q3 - q1\n",
        "    lower_bound = q1 - (1.5 * iqr)\n",
        "    upper_bound = q3 + (1.5 * iqr)\n",
        "    outliers = [i for i, x in enumerate(data) if x < lower_bound or x > upper_bound]\n",
        "    return outliers"
      ],
      "metadata": {
        "id": "MI-rXP17isU4"
      },
      "execution_count": 41,
      "outputs": []
    },
    {
      "cell_type": "code",
      "source": [
        "iqr_outliers(df['PBR'])"
      ],
      "metadata": {
        "colab": {
          "base_uri": "https://localhost:8080/"
        },
        "id": "SEzO0-gUjGtA",
        "outputId": "f7aad942-d57a-4862-d56e-f281c1826fe1"
      },
      "execution_count": 42,
      "outputs": [
        {
          "output_type": "execute_result",
          "data": {
            "text/plain": [
              "[22, 24, 62, 63, 64, 76, 91, 124, 137, 177, 187, 189, 191, 220, 221, 239, 240]"
            ]
          },
          "metadata": {},
          "execution_count": 42
        }
      ]
    },
    {
      "cell_type": "code",
      "source": [
        "Q1 = df['PBR'].quantile(q=0.25)\n",
        "Q3 = df['PBR'].quantile(q=0.75)\n",
        "IQR_w = (Q3 - Q1)*1.5\n",
        "th_min = Q1 - IQR_w\n",
        "th_max = Q3 + IQR_w\n",
        "\n",
        "idx = df[(df['PBR']< th_min)|(df['PBR']> th_max)].index.tolist()\n",
        "df['PBR']=df['PBR'].drop(idx)"
      ],
      "metadata": {
        "id": "CMdOX7jnHqYv"
      },
      "execution_count": 52,
      "outputs": []
    },
    {
      "cell_type": "code",
      "source": [
        "idx"
      ],
      "metadata": {
        "colab": {
          "base_uri": "https://localhost:8080/"
        },
        "id": "AwJaHicykdYm",
        "outputId": "5a6a075c-c160-4e34-9a79-9c6581e4b18d"
      },
      "execution_count": 53,
      "outputs": [
        {
          "output_type": "execute_result",
          "data": {
            "text/plain": [
              "[22, 24, 62, 63, 64, 76, 91, 124, 137, 177, 187, 189, 191, 220, 221, 239, 240]"
            ]
          },
          "metadata": {},
          "execution_count": 53
        }
      ]
    },
    {
      "cell_type": "code",
      "source": [
        "df['PBR'].tail(20)"
      ],
      "metadata": {
        "colab": {
          "base_uri": "https://localhost:8080/"
        },
        "id": "Gps3lZHdHqeY",
        "outputId": "531e3abb-42bb-482c-dcfa-fbf557caf4e8"
      },
      "execution_count": 54,
      "outputs": [
        {
          "output_type": "execute_result",
          "data": {
            "text/plain": [
              "230    0.75\n",
              "231    0.74\n",
              "232    0.23\n",
              "233    0.51\n",
              "234    0.88\n",
              "235    1.26\n",
              "236    2.38\n",
              "237    0.67\n",
              "238    0.72\n",
              "239     NaN\n",
              "240     NaN\n",
              "241    0.28\n",
              "242    2.00\n",
              "243    0.80\n",
              "244    0.51\n",
              "245    1.27\n",
              "246    0.27\n",
              "247    0.38\n",
              "248    0.99\n",
              "249    0.99\n",
              "Name: PBR, dtype: float64"
            ]
          },
          "metadata": {},
          "execution_count": 54
        }
      ]
    },
    {
      "cell_type": "code",
      "source": [
        "import numpy as np\n",
        "def boxplot_scatter(col):\n",
        "  for i, d in enumerate(col):\n",
        "    y = col[d]\n",
        "    x = np.random.normal(i+1, 0.04, len(y))\n",
        "    plt.scatter(x,y)\n",
        "  plt.title('boxplot & scatter')\n",
        "df[['PBR']].boxplot()\n",
        "boxplot_scatter(df[['PBR']])"
      ],
      "metadata": {
        "colab": {
          "base_uri": "https://localhost:8080/",
          "height": 319
        },
        "id": "zyfPy3QVHqkX",
        "outputId": "0fc34394-d9a8-4ee1-f6fa-5a82b53ccaa0"
      },
      "execution_count": 55,
      "outputs": [
        {
          "output_type": "stream",
          "name": "stderr",
          "text": [
            "WARNING:matplotlib.font_manager:findfont: Font family ['NanumBarunGothic'] not found. Falling back to DejaVu Sans.\n"
          ]
        },
        {
          "output_type": "display_data",
          "data": {
            "text/plain": [
              "<Figure size 432x288 with 1 Axes>"
            ],
            "image/png": "[encoded data removed]"
          },
          "metadata": {
            "needs_background": "light"
          }
        }
      ]
    },
    {
      "cell_type": "code",
      "source": [
        "df[['PBR']].hist()"
      ],
      "metadata": {
        "colab": {
          "base_uri": "https://localhost:8080/",
          "height": 335
        },
        "id": "HgLJb3FenHi-",
        "outputId": "d840f728-5dfe-424a-a5da-b113b4f0f4d3"
      },
      "execution_count": 56,
      "outputs": [
        {
          "output_type": "execute_result",
          "data": {
            "text/plain": [
              "array([[<matplotlib.axes._subplots.AxesSubplot object at 0x7fb103556400>]],\n",
              "      dtype=object)"
            ]
          },
          "metadata": {},
          "execution_count": 56
        },
        {
          "output_type": "display_data",
          "data": {
            "text/plain": [
              "<Figure size 432x288 with 1 Axes>"
            ],
            "image/png": "[encoded data removed]"
          },
          "metadata": {
            "needs_background": "light"
          }
        }
      ]
    },
    {
      "cell_type": "code",
      "source": [
        "sns.violinplot(df['PBR'])"
      ],
      "metadata": {
        "colab": {
          "base_uri": "https://localhost:8080/",
          "height": 353
        },
        "id": "IU6SvM0KoqAq",
        "outputId": "e82db339-ccb9-431a-9e19-9aaafe29d182"
      },
      "execution_count": 57,
      "outputs": [
        {
          "output_type": "stream",
          "name": "stderr",
          "text": [
            "/usr/local/lib/python3.8/dist-packages/seaborn/_decorators.py:36: FutureWarning: Pass the following variable as a keyword arg: x. From version 0.12, the only valid positional argument will be `data`, and passing other arguments without an explicit keyword will result in an error or misinterpretation.\n",
            "  warnings.warn(\n"
          ]
        },
        {
          "output_type": "execute_result",
          "data": {
            "text/plain": [
              "<matplotlib.axes._subplots.AxesSubplot at 0x7fb103492b20>"
            ]
          },
          "metadata": {},
          "execution_count": 57
        },
        {
          "output_type": "display_data",
          "data": {
            "text/plain": [
              "<Figure size 432x288 with 1 Axes>"
            ],
            "image/png": "[encoded data removed]"
          },
          "metadata": {
            "needs_background": "light"
          }
        }
      ]
    },
    {
      "cell_type": "code",
      "source": [],
      "metadata": {
        "id": "Xa5Efv6ForC4"
      },
      "execution_count": null,
      "outputs": []
    }
  ]
}