{
  "nbformat": 4,
  "nbformat_minor": 0,
  "metadata": {
    "colab": {
      "provenance": []
    },
    "kernelspec": {
      "name": "python3",
      "display_name": "Python 3"
    },
    "language_info": {
      "name": "python"
    }
  },
  "cells": [
    {
      "cell_type": "code",
      "source": [
        "# admit -> target -> 0또는 1 이므로 분류(classification) 문제"
      ],
      "metadata": {
        "id": "lzzIWq04tIWz"
      },
      "execution_count": 4,
      "outputs": []
    },
    {
      "cell_type": "code",
      "execution_count": 5,
      "metadata": {
        "id": "y0RROlWtnipc"
      },
      "outputs": [],
      "source": [
        "import pandas as pd\n",
        "import numpy as np\n",
        "from sklearn.preprocessing import MinMaxScaler\n",
        "from sklearn.model_selection import train_test_split"
      ]
    },
    {
      "cell_type": "code",
      "source": [
        "df = pd.read_csv('/content/drive/MyDrive/Colab Notebooks/admission.csv')\n",
        "df.info()"
      ],
      "metadata": {
        "colab": {
          "base_uri": "https://localhost:8080/"
        },
        "id": "bP63_pdRn4k7",
        "outputId": "e94d31a2-4d85-4942-9781-0d30b5fa71b8"
      },
      "execution_count": 6,
      "outputs": [
        {
          "output_type": "stream",
          "name": "stdout",
          "text": [
            "<class 'pandas.core.frame.DataFrame'>\n",
            "RangeIndex: 400 entries, 0 to 399\n",
            "Data columns (total 4 columns):\n",
            " #   Column  Non-Null Count  Dtype  \n",
            "---  ------  --------------  -----  \n",
            " 0   admit   400 non-null    int64  \n",
            " 1   gre     400 non-null    int64  \n",
            " 2   gpa     400 non-null    float64\n",
            " 3   rank    400 non-null    int64  \n",
            "dtypes: float64(1), int64(3)\n",
            "memory usage: 12.6 KB\n"
          ]
        }
      ]
    },
    {
      "cell_type": "code",
      "source": [
        "df.head()"
      ],
      "metadata": {
        "colab": {
          "base_uri": "https://localhost:8080/",
          "height": 206
        },
        "id": "JKpFNFTStW07",
        "outputId": "19bc18bd-4cac-4500-97a9-fe2119e9c7b2"
      },
      "execution_count": 7,
      "outputs": [
        {
          "output_type": "execute_result",
          "data": {
            "text/plain": [
              "   admit  gre   gpa  rank\n",
              "0      0  380  3.61     3\n",
              "1      1  660  3.67     3\n",
              "2      1  800  4.00     1\n",
              "3      1  640  3.19     4\n",
              "4      0  520  2.93     4"
            ],
            "text/html": [
              "\n",
              "  <div id=\"df-c61c714d-f71f-4582-9a23-9ce58cb6baab\">\n",
              "    <div class=\"colab-df-container\">\n",
              "      <div>\n",
              "<style scoped>\n",
              "    .dataframe tbody tr th:only-of-type {\n",
              "        vertical-align: middle;\n",
              "    }\n",
              "\n",
              "    .dataframe tbody tr th {\n",
              "        vertical-align: top;\n",
              "    }\n",
              "\n",
              "    .dataframe thead th {\n",
              "        text-align: right;\n",
              "    }\n",
              "</style>\n",
              "<table border=\"1\" class=\"dataframe\">\n",
              "  <thead>\n",
              "    <tr style=\"text-align: right;\">\n",
              "      <th></th>\n",
              "      <th>admit</th>\n",
              "      <th>gre</th>\n",
              "      <th>gpa</th>\n",
              "      <th>rank</th>\n",
              "    </tr>\n",
              "  </thead>\n",
              "  <tbody>\n",
              "    <tr>\n",
              "      <th>0</th>\n",
              "      <td>0</td>\n",
              "      <td>380</td>\n",
              "      <td>3.61</td>\n",
              "      <td>3</td>\n",
              "    </tr>\n",
              "    <tr>\n",
              "      <th>1</th>\n",
              "      <td>1</td>\n",
              "      <td>660</td>\n",
              "      <td>3.67</td>\n",
              "      <td>3</td>\n",
              "    </tr>\n",
              "    <tr>\n",
              "      <th>2</th>\n",
              "      <td>1</td>\n",
              "      <td>800</td>\n",
              "      <td>4.00</td>\n",
              "      <td>1</td>\n",
              "    </tr>\n",
              "    <tr>\n",
              "      <th>3</th>\n",
              "      <td>1</td>\n",
              "      <td>640</td>\n",
              "      <td>3.19</td>\n",
              "      <td>4</td>\n",
              "    </tr>\n",
              "    <tr>\n",
              "      <th>4</th>\n",
              "      <td>0</td>\n",
              "      <td>520</td>\n",
              "      <td>2.93</td>\n",
              "      <td>4</td>\n",
              "    </tr>\n",
              "  </tbody>\n",
              "</table>\n",
              "</div>\n",
              "      <button class=\"colab-df-convert\" onclick=\"convertToInteractive('df-c61c714d-f71f-4582-9a23-9ce58cb6baab')\"\n",
              "              title=\"Convert this dataframe to an interactive table.\"\n",
              "              style=\"display:none;\">\n",
              "        \n",
              "  <svg xmlns=\"http://www.w3.org/2000/svg\" height=\"24px\"viewBox=\"0 0 24 24\"\n",
              "       width=\"24px\">\n",
              "    <path d=\"M0 0h24v24H0V0z\" fill=\"none\"/>\n",
              "    <path d=\"M18.56 5.44l.94 2.06.94-2.06 2.06-.94-2.06-.94-.94-2.06-.94 2.06-2.06.94zm-11 1L8.5 8.5l.94-2.06 2.06-.94-2.06-.94L8.5 2.5l-.94 2.06-2.06.94zm10 10l.94 2.06.94-2.06 2.06-.94-2.06-.94-.94-2.06-.94 2.06-2.06.94z\"/><path d=\"M17.41 7.96l-1.37-1.37c-.4-.4-.92-.59-1.43-.59-.52 0-1.04.2-1.43.59L10.3 9.45l-7.72 7.72c-.78.78-.78 2.05 0 2.83L4 21.41c.39.39.9.59 1.41.59.51 0 1.02-.2 1.41-.59l7.78-7.78 2.81-2.81c.8-.78.8-2.07 0-2.86zM5.41 20L4 18.59l7.72-7.72 1.47 1.35L5.41 20z\"/>\n",
              "  </svg>\n",
              "      </button>\n",
              "      \n",
              "  <style>\n",
              "    .colab-df-container {\n",
              "      display:flex;\n",
              "      flex-wrap:wrap;\n",
              "      gap: 12px;\n",
              "    }\n",
              "\n",
              "    .colab-df-convert {\n",
              "      background-color: #E8F0FE;\n",
              "      border: none;\n",
              "      border-radius: 50%;\n",
              "      cursor: pointer;\n",
              "      display: none;\n",
              "      fill: #1967D2;\n",
              "      height: 32px;\n",
              "      padding: 0 0 0 0;\n",
              "      width: 32px;\n",
              "    }\n",
              "\n",
              "    .colab-df-convert:hover {\n",
              "      background-color: #E2EBFA;\n",
              "      box-shadow: 0px 1px 2px rgba(60, 64, 67, 0.3), 0px 1px 3px 1px rgba(60, 64, 67, 0.15);\n",
              "      fill: #174EA6;\n",
              "    }\n",
              "\n",
              "    [theme=dark] .colab-df-convert {\n",
              "      background-color: #3B4455;\n",
              "      fill: #D2E3FC;\n",
              "    }\n",
              "\n",
              "    [theme=dark] .colab-df-convert:hover {\n",
              "      background-color: #434B5C;\n",
              "      box-shadow: 0px 1px 3px 1px rgba(0, 0, 0, 0.15);\n",
              "      filter: drop-shadow(0px 1px 2px rgba(0, 0, 0, 0.3));\n",
              "      fill: #FFFFFF;\n",
              "    }\n",
              "  </style>\n",
              "\n",
              "      <script>\n",
              "        const buttonEl =\n",
              "          document.querySelector('#df-c61c714d-f71f-4582-9a23-9ce58cb6baab button.colab-df-convert');\n",
              "        buttonEl.style.display =\n",
              "          google.colab.kernel.accessAllowed ? 'block' : 'none';\n",
              "\n",
              "        async function convertToInteractive(key) {\n",
              "          const element = document.querySelector('#df-c61c714d-f71f-4582-9a23-9ce58cb6baab');\n",
              "          const dataTable =\n",
              "            await google.colab.kernel.invokeFunction('convertToInteractive',\n",
              "                                                     [key], {});\n",
              "          if (!dataTable) return;\n",
              "\n",
              "          const docLinkHtml = 'Like what you see? Visit the ' +\n",
              "            '<a target=\"_blank\" href=https://colab.research.google.com/notebooks/data_table.ipynb>data table notebook</a>'\n",
              "            + ' to learn more about interactive tables.';\n",
              "          element.innerHTML = '';\n",
              "          dataTable['output_type'] = 'display_data';\n",
              "          await google.colab.output.renderOutput(dataTable, element);\n",
              "          const docLink = document.createElement('div');\n",
              "          docLink.innerHTML = docLinkHtml;\n",
              "          element.appendChild(docLink);\n",
              "        }\n",
              "      </script>\n",
              "    </div>\n",
              "  </div>\n",
              "  "
            ]
          },
          "metadata": {},
          "execution_count": 7
        }
      ]
    },
    {
      "cell_type": "code",
      "source": [
        "y = df['admit'].values.reshape(-1,1)\n",
        "X = df.drop(columns='admit',axis=1).values"
      ],
      "metadata": {
        "id": "d935uMccn-qW"
      },
      "execution_count": 8,
      "outputs": []
    },
    {
      "cell_type": "code",
      "source": [
        "X"
      ],
      "metadata": {
        "colab": {
          "base_uri": "https://localhost:8080/"
        },
        "id": "t0FFLNVdt0c0",
        "outputId": "581416e8-7103-4163-d7f2-8084c2b7cd49"
      },
      "execution_count": 9,
      "outputs": [
        {
          "output_type": "execute_result",
          "data": {
            "text/plain": [
              "array([[380.  ,   3.61,   3.  ],\n",
              "       [660.  ,   3.67,   3.  ],\n",
              "       [800.  ,   4.  ,   1.  ],\n",
              "       ...,\n",
              "       [460.  ,   2.63,   2.  ],\n",
              "       [700.  ,   3.65,   2.  ],\n",
              "       [600.  ,   3.89,   3.  ]])"
            ]
          },
          "metadata": {},
          "execution_count": 9
        }
      ]
    },
    {
      "cell_type": "code",
      "source": [
        "X_train, X_test, y_train, y_test=train_test_split(X,y,test_size=0.3)"
      ],
      "metadata": {
        "id": "oKD9VDni6qxI"
      },
      "execution_count": 10,
      "outputs": []
    },
    {
      "cell_type": "code",
      "source": [
        "# 정규화(0~1 값으로)\n",
        "sc = MinMaxScaler()\n",
        "# fit -> 모델링을 한다\n",
        "X_train_sc = sc.fit_transform(X_train)\n",
        "# transform -> 변형을 한다.\n",
        "X_test_sc = sc.transform(X_test)"
      ],
      "metadata": {
        "id": "VPV_91bHt0yD"
      },
      "execution_count": 11,
      "outputs": []
    },
    {
      "cell_type": "code",
      "source": [
        "import tensorflow as tf\n",
        "from tensorflow import keras\n",
        "# 모델\n",
        "from keras.models import Sequential\n",
        "# 평탄화, 깊이\n",
        "from keras.layers import Flatten, Dense, Dropout\n",
        "# 옵티마이져\n",
        "from keras.optimizers import SGD, Adam\n",
        "\n",
        "from keras.regularizers import l2\n",
        "from keras.models import Sequential\n",
        "from keras.layers import Flatten, Dense, BatchNormalization\n",
        "from keras.optimizers import Adam\n",
        "from keras.callbacks import EarlyStopping, LearningRateScheduler\n",
        "from keras.metrics import Precision, Recall, AUC"
      ],
      "metadata": {
        "id": "4zR40UdeuTki"
      },
      "execution_count": 33,
      "outputs": []
    },
    {
      "cell_type": "code",
      "source": [],
      "metadata": {
        "id": "e8wEwPIixsMP"
      },
      "execution_count": 13,
      "outputs": []
    },
    {
      "cell_type": "code",
      "source": [
        "# seq_model = Sequential()\n",
        "# seq_model.add(Flatten(input_shape=(3,)))  # 입력노드\n",
        "# seq_model.add(Dense(units=10, activation='relu')) # 은닉층\n",
        "# seq_model.add(Dense(units=10, activation='relu')) # 은닉층\n",
        "# # 다중분류 (soft max) / 0 or 1 sigmoid\n",
        "# seq_model.add(Dense(units=1, activation='sigmoid')) # 출력\n",
        "# # loss option -> mean_squared_error / binary_crossentropy / categorical_crossentropy / mean_absolute_error\n",
        "# seq_model.compile(optimizer=SGD(learning_rate=0.01),\n",
        "#               loss='binary_crossentropy', metrics=['accuracy'])"
      ],
      "metadata": {
        "id": "NSUY9d1QuUDL"
      },
      "execution_count": 14,
      "outputs": []
    },
    {
      "cell_type": "code",
      "source": [
        "def lr_schedule(epoch):\n",
        "    \"\"\"Learning rate scheduler\"\"\"\n",
        "    lr = 0.01\n",
        "    if epoch > 50:\n",
        "        lr = 0.001\n",
        "    if epoch > 100:\n",
        "        lr = 0.0001\n",
        "    return lr\n"
      ],
      "metadata": {
        "id": "TSmas4LDIamc"
      },
      "execution_count": 36,
      "outputs": []
    },
    {
      "cell_type": "code",
      "source": [
        "# Define the model\n",
        "seq_model = Sequential([\n",
        "    Flatten(input_shape=(3,)),\n",
        "    Dense(units=32, activation='relu'),\n",
        "    BatchNormalization(),\n",
        "    Dense(units=16, activation='relu'),\n",
        "    BatchNormalization(),\n",
        "    Dense(units=1, activation='sigmoid')\n",
        "])\n",
        "\n",
        "# Compile the model\n",
        "seq_model.compile(optimizer=Adam(learning_rate=0.01),\n",
        "                  loss='binary_crossentropy',\n",
        "                  metrics=['accuracy', Precision(), Recall(), AUC()])"
      ],
      "metadata": {
        "id": "X18UBpPmJbtl"
      },
      "execution_count": 34,
      "outputs": []
    },
    {
      "cell_type": "code",
      "source": [
        "# Define callbacks\n",
        "early_stop = EarlyStopping(monitor='val_loss', patience=10, mode='min')\n",
        "lr_scheduler = LearningRateScheduler(lr_schedule)\n",
        "\n",
        "seq_model.summary()"
      ],
      "metadata": {
        "colab": {
          "base_uri": "https://localhost:8080/"
        },
        "id": "iP7Y_wmhzUhU",
        "outputId": "23fa05fb-5213-40a7-c906-233cf26b75e9"
      },
      "execution_count": 37,
      "outputs": [
        {
          "output_type": "stream",
          "name": "stdout",
          "text": [
            "Model: \"sequential_2\"\n",
            "_________________________________________________________________\n",
            " Layer (type)                Output Shape              Param #   \n",
            "=================================================================\n",
            " flatten_3 (Flatten)         (None, 3)                 0         \n",
            "                                                                 \n",
            " dense_7 (Dense)             (None, 32)                128       \n",
            "                                                                 \n",
            " batch_normalization (BatchN  (None, 32)               128       \n",
            " ormalization)                                                   \n",
            "                                                                 \n",
            " dense_8 (Dense)             (None, 16)                528       \n",
            "                                                                 \n",
            " batch_normalization_1 (Batc  (None, 16)               64        \n",
            " hNormalization)                                                 \n",
            "                                                                 \n",
            " dense_9 (Dense)             (None, 1)                 17        \n",
            "                                                                 \n",
            "=================================================================\n",
            "Total params: 865\n",
            "Trainable params: 769\n",
            "Non-trainable params: 96\n",
            "_________________________________________________________________\n"
          ]
        }
      ]
    },
    {
      "cell_type": "code",
      "source": [
        "# Train the model\n",
        "history = seq_model.fit(X_train_sc, y_train, epochs=500,\n",
        "                        validation_data=(X_train_sc, y_train),\n",
        "                        callbacks=[early_stop, lr_scheduler])"
      ],
      "metadata": {
        "colab": {
          "base_uri": "https://localhost:8080/"
        },
        "id": "xz2dR5Y3JyOn",
        "outputId": "ca84b06e-b4fe-46f6-ea93-c5346050f2c4"
      },
      "execution_count": 40,
      "outputs": [
        {
          "output_type": "stream",
          "name": "stdout",
          "text": [
            "Epoch 1/500\n",
            "9/9 [==============================] - 0s 25ms/step - loss: 0.5149 - accuracy: 0.7500 - precision: 0.6610 - recall: 0.4382 - auc: 0.7646 - val_loss: 0.5154 - val_accuracy: 0.7036 - val_precision: 0.5417 - val_recall: 0.4382 - val_auc: 0.7683 - lr: 0.0100\n",
            "Epoch 2/500\n",
            "9/9 [==============================] - 0s 26ms/step - loss: 0.5150 - accuracy: 0.7571 - precision: 0.6780 - recall: 0.4494 - auc: 0.7713 - val_loss: 0.5149 - val_accuracy: 0.7393 - val_precision: 0.7500 - val_recall: 0.2697 - val_auc: 0.7819 - lr: 0.0100\n",
            "Epoch 3/500\n",
            "9/9 [==============================] - 0s 18ms/step - loss: 0.5243 - accuracy: 0.7357 - precision: 0.6923 - recall: 0.3034 - auc: 0.7510 - val_loss: 0.5609 - val_accuracy: 0.7286 - val_precision: 0.8824 - val_recall: 0.1685 - val_auc: 0.7625 - lr: 0.0100\n",
            "Epoch 4/500\n",
            "9/9 [==============================] - 0s 19ms/step - loss: 0.4883 - accuracy: 0.7321 - precision: 0.6458 - recall: 0.3483 - auc: 0.8013 - val_loss: 0.5113 - val_accuracy: 0.7429 - val_precision: 0.7576 - val_recall: 0.2809 - val_auc: 0.7778 - lr: 0.0100\n",
            "Epoch 5/500\n",
            "9/9 [==============================] - 0s 17ms/step - loss: 0.5241 - accuracy: 0.7429 - precision: 0.6393 - recall: 0.4382 - auc: 0.7582 - val_loss: 0.5097 - val_accuracy: 0.7286 - val_precision: 0.6444 - val_recall: 0.3258 - val_auc: 0.7820 - lr: 0.0100\n",
            "Epoch 6/500\n",
            "9/9 [==============================] - 0s 19ms/step - loss: 0.5233 - accuracy: 0.7286 - precision: 0.6102 - recall: 0.4045 - auc: 0.7790 - val_loss: 0.5536 - val_accuracy: 0.7357 - val_precision: 0.8000 - val_recall: 0.2247 - val_auc: 0.7618 - lr: 0.0100\n",
            "Epoch 7/500\n",
            "9/9 [==============================] - 0s 17ms/step - loss: 0.5013 - accuracy: 0.7214 - precision: 0.6571 - recall: 0.2584 - auc: 0.7925 - val_loss: 0.5311 - val_accuracy: 0.7286 - val_precision: 0.6383 - val_recall: 0.3371 - val_auc: 0.7337 - lr: 0.0100\n",
            "Epoch 8/500\n",
            "9/9 [==============================] - 0s 9ms/step - loss: 0.5079 - accuracy: 0.7500 - precision: 0.6863 - recall: 0.3933 - auc: 0.7816 - val_loss: 0.5397 - val_accuracy: 0.7357 - val_precision: 0.7586 - val_recall: 0.2472 - val_auc: 0.7554 - lr: 0.0100\n",
            "Epoch 9/500\n",
            "9/9 [==============================] - 0s 9ms/step - loss: 0.5149 - accuracy: 0.7250 - precision: 0.6071 - recall: 0.3820 - auc: 0.7655 - val_loss: 0.5069 - val_accuracy: 0.7500 - val_precision: 0.7317 - val_recall: 0.3371 - val_auc: 0.7707 - lr: 0.0100\n",
            "Epoch 10/500\n",
            "9/9 [==============================] - 0s 10ms/step - loss: 0.5300 - accuracy: 0.7107 - precision: 0.5741 - recall: 0.3483 - auc: 0.7502 - val_loss: 0.5187 - val_accuracy: 0.7536 - val_precision: 0.8333 - val_recall: 0.2809 - val_auc: 0.7820 - lr: 0.0100\n",
            "Epoch 11/500\n",
            "9/9 [==============================] - 0s 8ms/step - loss: 0.5166 - accuracy: 0.7321 - precision: 0.6346 - recall: 0.3708 - auc: 0.7609 - val_loss: 0.5043 - val_accuracy: 0.7500 - val_precision: 0.8276 - val_recall: 0.2697 - val_auc: 0.7815 - lr: 0.0100\n",
            "Epoch 12/500\n",
            "9/9 [==============================] - 0s 10ms/step - loss: 0.5054 - accuracy: 0.7500 - precision: 0.7317 - recall: 0.3371 - auc: 0.7717 - val_loss: 0.4860 - val_accuracy: 0.7679 - val_precision: 0.8333 - val_recall: 0.3371 - val_auc: 0.7943 - lr: 0.0100\n",
            "Epoch 13/500\n",
            "9/9 [==============================] - 0s 9ms/step - loss: 0.5039 - accuracy: 0.7500 - precision: 0.7021 - recall: 0.3708 - auc: 0.7780 - val_loss: 0.4946 - val_accuracy: 0.7357 - val_precision: 0.6415 - val_recall: 0.3820 - val_auc: 0.7811 - lr: 0.0100\n",
            "Epoch 14/500\n",
            "9/9 [==============================] - 0s 10ms/step - loss: 0.5151 - accuracy: 0.7286 - precision: 0.6102 - recall: 0.4045 - auc: 0.7695 - val_loss: 0.5282 - val_accuracy: 0.6964 - val_precision: 0.5244 - val_recall: 0.4831 - val_auc: 0.7589 - lr: 0.0100\n",
            "Epoch 15/500\n",
            "9/9 [==============================] - 0s 15ms/step - loss: 0.5231 - accuracy: 0.7321 - precision: 0.6250 - recall: 0.3933 - auc: 0.7622 - val_loss: 0.5463 - val_accuracy: 0.7464 - val_precision: 0.8000 - val_recall: 0.2697 - val_auc: 0.7699 - lr: 0.0100\n",
            "Epoch 16/500\n",
            "9/9 [==============================] - 0s 9ms/step - loss: 0.4964 - accuracy: 0.7536 - precision: 0.7381 - recall: 0.3483 - auc: 0.7820 - val_loss: 0.5044 - val_accuracy: 0.7393 - val_precision: 0.7222 - val_recall: 0.2921 - val_auc: 0.7740 - lr: 0.0100\n",
            "Epoch 17/500\n",
            "9/9 [==============================] - 0s 8ms/step - loss: 0.5189 - accuracy: 0.7286 - precision: 0.6182 - recall: 0.3820 - auc: 0.7553 - val_loss: 0.5053 - val_accuracy: 0.7464 - val_precision: 0.8000 - val_recall: 0.2697 - val_auc: 0.7783 - lr: 0.0100\n",
            "Epoch 18/500\n",
            "9/9 [==============================] - 0s 8ms/step - loss: 0.4989 - accuracy: 0.7429 - precision: 0.6889 - recall: 0.3483 - auc: 0.7852 - val_loss: 0.5228 - val_accuracy: 0.7107 - val_precision: 0.5500 - val_recall: 0.4944 - val_auc: 0.7632 - lr: 0.0100\n",
            "Epoch 19/500\n",
            "9/9 [==============================] - 0s 8ms/step - loss: 0.5186 - accuracy: 0.7429 - precision: 0.7073 - recall: 0.3258 - auc: 0.7602 - val_loss: 0.5070 - val_accuracy: 0.7607 - val_precision: 0.7500 - val_recall: 0.3708 - val_auc: 0.7733 - lr: 0.0100\n",
            "Epoch 20/500\n",
            "9/9 [==============================] - 0s 9ms/step - loss: 0.5170 - accuracy: 0.7179 - precision: 0.6000 - recall: 0.3371 - auc: 0.7618 - val_loss: 0.5285 - val_accuracy: 0.7286 - val_precision: 0.7407 - val_recall: 0.2247 - val_auc: 0.7674 - lr: 0.0100\n",
            "Epoch 21/500\n",
            "9/9 [==============================] - 0s 14ms/step - loss: 0.5092 - accuracy: 0.7607 - precision: 0.7619 - recall: 0.3596 - auc: 0.7794 - val_loss: 0.5388 - val_accuracy: 0.7214 - val_precision: 0.5965 - val_recall: 0.3820 - val_auc: 0.7439 - lr: 0.0100\n",
            "Epoch 22/500\n",
            "9/9 [==============================] - 0s 8ms/step - loss: 0.5267 - accuracy: 0.7107 - precision: 0.5556 - recall: 0.4494 - auc: 0.7528 - val_loss: 0.5237 - val_accuracy: 0.7036 - val_precision: 0.5429 - val_recall: 0.4270 - val_auc: 0.7522 - lr: 0.0100\n"
          ]
        }
      ]
    },
    {
      "cell_type": "code",
      "source": [
        "# seq_model.fit(X_train_sc, y_train, epochs=1000)"
      ],
      "metadata": {
        "id": "43gYQfhO0Qqn"
      },
      "execution_count": null,
      "outputs": []
    },
    {
      "cell_type": "code",
      "source": [
        "# 결 , 결과치\n",
        "score = seq_model.evaluate(X_test_sc, y_test)\n",
        "score"
      ],
      "metadata": {
        "colab": {
          "base_uri": "https://localhost:8080/"
        },
        "id": "eRhMRLtJ0gM7",
        "outputId": "09d0f3fa-60a3-47dd-e8e6-3f2a2a67631b"
      },
      "execution_count": 42,
      "outputs": [
        {
          "output_type": "stream",
          "name": "stdout",
          "text": [
            "4/4 [==============================] - 0s 6ms/step - loss: 0.8081 - accuracy: 0.6333 - precision: 0.4062 - recall: 0.3421 - auc: 0.5388\n"
          ]
        },
        {
          "output_type": "execute_result",
          "data": {
            "text/plain": [
              "[0.8080738186836243,\n",
              " 0.6333333253860474,\n",
              " 0.40625,\n",
              " 0.34210526943206787,\n",
              " 0.5388318300247192]"
            ]
          },
          "metadata": {},
          "execution_count": 42
        }
      ]
    },
    {
      "cell_type": "code",
      "source": [],
      "metadata": {
        "id": "dWPEmt1h0pE3"
      },
      "execution_count": 17,
      "outputs": []
    }
  ]
}