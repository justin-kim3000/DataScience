{
  "nbformat": 4,
  "nbformat_minor": 0,
  "metadata": {
    "colab": {
      "provenance": []
    },
    "kernelspec": {
      "name": "python3",
      "display_name": "Python 3"
    },
    "language_info": {
      "name": "python"
    },
    "accelerator": "GPU",
    "gpuClass": "standard"
  },
  "cells": [
    {
      "cell_type": "code",
      "execution_count": 18,
      "metadata": {
        "id": "ycp9D9jy3D7q"
      },
      "outputs": [],
      "source": [
        "import pandas as pd\n",
        "import numpy as np\n",
        "import tensorflow as tf\n",
        "import matplotlib.pyplot as plt\n",
        "from keras.models import Sequential\n",
        "from keras.layers import Conv2D, Flatten, Dense, Dropout, MaxPooling2D\n",
        "from keras.optimizers import Adam\n",
        "from sklearn.model_selection import train_test_split"
      ]
    },
    {
      "cell_type": "code",
      "source": [
        "# seed 값 고정\n",
        "tf.keras.utils.set_random_seed(42)\n",
        "tf.config.experimental.enable_op_determinism()"
      ],
      "metadata": {
        "id": "QsMpITaD3NOh"
      },
      "execution_count": 19,
      "outputs": []
    },
    {
      "cell_type": "code",
      "source": [
        "fa_mnist = tf.keras.datasets.fashion_mnist\n",
        "(X_train_full, y_train_full), (X_test, y_test) = fa_mnist.load_data()"
      ],
      "metadata": {
        "id": "erzqv3h43PFJ"
      },
      "execution_count": 20,
      "outputs": []
    },
    {
      "cell_type": "code",
      "source": [
        "X_train_full = X_train_full / 255.0\n",
        "X_test = X_test / 255.0"
      ],
      "metadata": {
        "id": "Zy0csVpa34my"
      },
      "execution_count": 21,
      "outputs": []
    },
    {
      "cell_type": "code",
      "source": [
        "X_train, X_valid, y_train, y_valid = train_test_split(X_train_full, y_train_full, test_size=0.2)"
      ],
      "metadata": {
        "id": "QsY_6jUR3Rms"
      },
      "execution_count": 22,
      "outputs": []
    },
    {
      "cell_type": "markdown",
      "source": [
        "### np.array()에서 [...은 생략을 나타냄]"
      ],
      "metadata": {
        "id": "CcClGUDE5aJZ"
      }
    },
    {
      "cell_type": "code",
      "source": [
        "# test_mat = np.array(range(12)).reshape(2,3,2)\n",
        "# print(test_mat[...])\n",
        "# test_mat[0,...]\n",
        "\n",
        "print(X_train.shape)\n",
        "X_train = X_train[..., np.newaxis]\n",
        "print(X_train.shape)\n",
        "X_valid = X_valid[..., np.newaxis]\n",
        "X_test = X_test[..., np.newaxis]"
      ],
      "metadata": {
        "colab": {
          "base_uri": "https://localhost:8080/"
        },
        "id": "peT7YxL14G2y",
        "outputId": "d2535260-dd4c-4004-bc4a-212cf28b0c51"
      },
      "execution_count": 28,
      "outputs": [
        {
          "output_type": "stream",
          "name": "stdout",
          "text": [
            "(48000, 28, 28, 1)\n",
            "(48000, 28, 28, 1, 1)\n"
          ]
        }
      ]
    },
    {
      "cell_type": "code",
      "source": [
        "model = Sequential()\n",
        "model.add(Conv2D(32, kernel_size=3, activation='relu',\n",
        "                 padding='same', input_shape=(28,28,1)))\n",
        "model.add(Conv2D(64, (3,3), activation='relu'))\n",
        "model.add(MaxPooling2D())\n",
        "model.add(Flatten())\n",
        "model.add(Dropout(0.25))\n",
        "model.add(Dense(128, activation='relu'))\n",
        "model.add(Dropout(0.5))\n",
        "model.add(Dense(10, activation='softmax'))\n",
        "model.compile(loss='sparse_categorical_crossentropy',\n",
        "              optimizer='nadam',metrics=['accuracy'])\n",
        "model.summary()"
      ],
      "metadata": {
        "colab": {
          "base_uri": "https://localhost:8080/"
        },
        "id": "2hLBNQMI5B0L",
        "outputId": "228941ec-7b59-4bec-bf28-d621e964ded5"
      },
      "execution_count": 24,
      "outputs": [
        {
          "output_type": "stream",
          "name": "stdout",
          "text": [
            "Model: \"sequential_3\"\n",
            "_________________________________________________________________\n",
            " Layer (type)                Output Shape              Param #   \n",
            "=================================================================\n",
            " conv2d_6 (Conv2D)           (None, 28, 28, 32)        320       \n",
            "                                                                 \n",
            " conv2d_7 (Conv2D)           (None, 26, 26, 64)        18496     \n",
            "                                                                 \n",
            " max_pooling2d_3 (MaxPooling  (None, 13, 13, 64)       0         \n",
            " 2D)                                                             \n",
            "                                                                 \n",
            " flatten_3 (Flatten)         (None, 10816)             0         \n",
            "                                                                 \n",
            " dropout_6 (Dropout)         (None, 10816)             0         \n",
            "                                                                 \n",
            " dense_6 (Dense)             (None, 128)               1384576   \n",
            "                                                                 \n",
            " dropout_7 (Dropout)         (None, 128)               0         \n",
            "                                                                 \n",
            " dense_7 (Dense)             (None, 10)                1290      \n",
            "                                                                 \n",
            "=================================================================\n",
            "Total params: 1,404,682\n",
            "Trainable params: 1,404,682\n",
            "Non-trainable params: 0\n",
            "_________________________________________________________________\n"
          ]
        }
      ]
    },
    {
      "cell_type": "code",
      "source": [
        "fit_model=model.fit(X_train, y_train, epochs=10,\n",
        "                    validation_data=(X_valid, y_valid))"
      ],
      "metadata": {
        "colab": {
          "base_uri": "https://localhost:8080/"
        },
        "id": "jaEQhhQS7KKR",
        "outputId": "8ddf064c-0e2c-4ccb-8e1c-a91baef149a3"
      },
      "execution_count": 25,
      "outputs": [
        {
          "output_type": "stream",
          "name": "stdout",
          "text": [
            "Epoch 1/10\n",
            "1500/1500 [==============================] - 12s 7ms/step - loss: 0.4692 - accuracy: 0.8344 - val_loss: 0.2894 - val_accuracy: 0.8939\n",
            "Epoch 2/10\n",
            "1500/1500 [==============================] - 9s 6ms/step - loss: 0.3117 - accuracy: 0.8872 - val_loss: 0.2413 - val_accuracy: 0.9078\n",
            "Epoch 3/10\n",
            "1500/1500 [==============================] - 9s 6ms/step - loss: 0.2626 - accuracy: 0.9039 - val_loss: 0.2372 - val_accuracy: 0.9113\n",
            "Epoch 4/10\n",
            "1500/1500 [==============================] - 10s 7ms/step - loss: 0.2321 - accuracy: 0.9132 - val_loss: 0.2179 - val_accuracy: 0.9199\n",
            "Epoch 5/10\n",
            "1500/1500 [==============================] - 9s 6ms/step - loss: 0.2045 - accuracy: 0.9249 - val_loss: 0.2249 - val_accuracy: 0.9206\n",
            "Epoch 6/10\n",
            "1500/1500 [==============================] - 9s 6ms/step - loss: 0.1888 - accuracy: 0.9304 - val_loss: 0.2118 - val_accuracy: 0.9247\n",
            "Epoch 7/10\n",
            "1500/1500 [==============================] - 10s 6ms/step - loss: 0.1711 - accuracy: 0.9355 - val_loss: 0.2014 - val_accuracy: 0.9268\n",
            "Epoch 8/10\n",
            "1500/1500 [==============================] - 10s 6ms/step - loss: 0.1585 - accuracy: 0.9405 - val_loss: 0.2253 - val_accuracy: 0.9217\n",
            "Epoch 9/10\n",
            "1500/1500 [==============================] - 9s 6ms/step - loss: 0.1448 - accuracy: 0.9455 - val_loss: 0.2147 - val_accuracy: 0.9270\n",
            "Epoch 10/10\n",
            "1500/1500 [==============================] - 9s 6ms/step - loss: 0.1340 - accuracy: 0.9497 - val_loss: 0.2178 - val_accuracy: 0.9270\n"
          ]
        }
      ]
    },
    {
      "cell_type": "code",
      "source": [
        "model.evaluate(X_test,y_test)"
      ],
      "metadata": {
        "colab": {
          "base_uri": "https://localhost:8080/"
        },
        "id": "O0ECtDIm8ZXW",
        "outputId": "0e2b26b3-756a-47a3-8712-6bdd4e385e78"
      },
      "execution_count": 29,
      "outputs": [
        {
          "output_type": "stream",
          "name": "stdout",
          "text": [
            "313/313 [==============================] - 1s 3ms/step - loss: 0.2278 - accuracy: 0.9248\n"
          ]
        },
        {
          "output_type": "execute_result",
          "data": {
            "text/plain": [
              "[0.22783516347408295, 0.9247999787330627]"
            ]
          },
          "metadata": {},
          "execution_count": 29
        }
      ]
    },
    {
      "cell_type": "code",
      "source": [
        "plot_target=['loss', 'val_loss','accuracy','val_accuracy']\n",
        "plt.figure(figsize=(12, 8))\n",
        "for each in plot_target:\n",
        "  plt.plot(fit_model.history[each], label=each)\n",
        "plt.legend()\n",
        "plt.grid()\n",
        "plt.show()"
      ],
      "metadata": {
        "colab": {
          "base_uri": "https://localhost:8080/",
          "height": 483
        },
        "id": "1rQ3V4Ac_2SZ",
        "outputId": "0ccaf90e-edfb-485a-9343-19e5257f00fe"
      },
      "execution_count": 27,
      "outputs": [
        {
          "output_type": "display_data",
          "data": {
            "text/plain": [
              "<Figure size 864x576 with 1 Axes>"
            ],
            "image/png": "[encoded data removed]"
          },
          "metadata": {
            "needs_background": "light"
          }
        }
      ]
    },
    {
      "cell_type": "code",
      "source": [],
      "metadata": {
        "id": "7z0ERAGdARql"
      },
      "execution_count": null,
      "outputs": []
    }
  ]
}