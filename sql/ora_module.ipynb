{
 "cells": [
  {
   "cell_type": "code",
   "execution_count": 4,
   "metadata": {},
   "outputs": [],
   "source": [
    "import pymysql\n",
    "import cx_Oracle as db"
   ]
  },
  {
   "cell_type": "code",
   "execution_count": 5,
   "metadata": {},
   "outputs": [],
   "source": [
    "con = None"
   ]
  },
  {
   "cell_type": "code",
   "execution_count": 6,
   "metadata": {},
   "outputs": [],
   "source": [
    "def connectDB():\n",
    "    global con\n",
    "    try:\n",
    "        con = db.connect('test/1234@127.0.0.1/XE')\n",
    "        print('버전:',con.version)\n",
    "    except db.DatabaseError as e:\n",
    "        err_msg(e)"
   ]
  },
  {
   "cell_type": "code",
   "execution_count": 7,
   "metadata": {},
   "outputs": [],
   "source": [
    "def closeDB():\n",
    "    try:\n",
    "        con.close()\n",
    "        print('오라클 DB 해제!')\n",
    "    except db.DatabaseError as e:\n",
    "        err_msg(e)   "
   ]
  },
  {
   "cell_type": "code",
   "execution_count": 8,
   "metadata": {},
   "outputs": [],
   "source": [
    "def err_msg(e):\n",
    "    err_obj, = e.args\n",
    "    print('----------')\n",
    "    print(\"에러 코드:\",err_obj.code)\n",
    "    print(\"에러 메세지: \",err_obj.message)"
   ]
  },
  {
   "cell_type": "code",
   "execution_count": null,
   "metadata": {},
   "outputs": [],
   "source": []
  }
 ],
 "metadata": {
  "kernelspec": {
   "display_name": "Python 3 (ipykernel)",
   "language": "python",
   "name": "python3"
  },
  "language_info": {
   "codemirror_mode": {
    "name": "ipython",
    "version": 3
   },
   "file_extension": ".py",
   "mimetype": "text/x-python",
   "name": "python",
   "nbconvert_exporter": "python",
   "pygments_lexer": "ipython3",
   "version": "3.7.13"
  }
 },
 "nbformat": 4,
 "nbformat_minor": 2
}
