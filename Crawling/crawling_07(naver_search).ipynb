{
 "cells": [
  {
   "cell_type": "code",
   "execution_count": 1,
   "metadata": {},
   "outputs": [],
   "source": [
    "import datetime\n",
    "import urllib.parse\n",
    "import urllib.request\n",
    "import json\n",
    "import re"
   ]
  },
  {
   "cell_type": "code",
   "execution_count": 2,
   "metadata": {},
   "outputs": [],
   "source": [
    "file_name = None"
   ]
  },
  {
   "cell_type": "code",
   "execution_count": 3,
   "metadata": {},
   "outputs": [],
   "source": [
    "def get_request_url(url):\n",
    "    req = urllib.request.Request(url)\n",
    "    id_naver = 'jZmv5fKEpC2UFb0IHTwx'\n",
    "    secret_naver = 'T1Wdnw90BT'\n",
    "    req.add_header('X-Naver-Client-Id',id_naver)\n",
    "    req.add_header('X-Naver-Client-Secret',secret_naver)\n",
    "    \n",
    "    try:\n",
    "        response = urllib.request.urlopen(req)\n",
    "        # 200 -> 성공 \n",
    "        \n",
    "        if response.getcode() == 200:\n",
    "            print(f'[{datetime.datetime.now()}]서버요청성공:{url}')\n",
    "            return response.read().decode('utf-8')\n",
    "    except Exception:\n",
    "        print(f'[{datetime.datetime.now()}])서버요청에러:{url}')\n",
    "        return None"
   ]
  },
  {
   "cell_type": "code",
   "execution_count": 4,
   "metadata": {},
   "outputs": [],
   "source": [
    "def cleanhtml(raw_html):\n",
    "    cleanr = '<.*?>'\n",
    "    cleantext = re.sub(cleanr, '', raw_html) \n",
    "    return cleantext"
   ]
  },
  {
   "cell_type": "code",
   "execution_count": 5,
   "metadata": {},
   "outputs": [],
   "source": [
    "def getNaverSearchResult(sNode,search_text,page_start=1,display=10):\n",
    "    baseURL = 'https://openapi.naver.com/v1/search/'\n",
    "    node = f'{sNode}.json'\n",
    "    param = f'?query={urllib.parse.quote(search_text)}'\n",
    "    param += f'&start={page_start}'\n",
    "    param += f'&display={display}'\n",
    "    URL = baseURL + node + param\n",
    "    result_data=get_request_url(URL)\n",
    "#     print(result_data)\n",
    "    return json.loads(result_data)"
   ]
  },
  {
   "cell_type": "code",
   "execution_count": 6,
   "metadata": {},
   "outputs": [],
   "source": [
    "def getPostData(post):\n",
    "    title = post['title']\n",
    "    description = post['description']\n",
    "    org_link = post['originallink']\n",
    "    link = post['link']\n",
    "    # wne, 25 Jan 2023 12:00:02 +0900\n",
    "    pdate = datetime.datetime.strptime(post['pubDate'],'%a, %d %b %Y %H:%M:%S +0900')\n",
    "    # 2023-1-25 12:01:30\n",
    "    pdate = pdate.strftime('%Y-%m-%d %H:%M:%S')\n",
    "    title = title.replace('<b>','').replace('</b>','').replace('&apos;','').replace('&quot;','')\n",
    "    description = description.replace('<b>','').replace('</b>','').replace('&apos;','').replace('&quot;','')\n",
    "    \n",
    "    print('title:', title)\n",
    "    print('description:', description)\n",
    "    print('org_link:', org_link)\n",
    "    print('link:', link)\n",
    "    print('업로드 날짜:', pdate)\n",
    "    "
   ]
  },
  {
   "cell_type": "code",
   "execution_count": 7,
   "metadata": {},
   "outputs": [],
   "source": [
    "def main():\n",
    "    global file_name\n",
    "    sNode = 'shop'\n",
    "    search_text = '노트북'\n",
    "    start_page = 1 #1000 최대\n",
    "    display_count = 12 # 100 최대\n",
    "    file_name = f'{search_text}_naver_{sNode}.json'\n",
    "    \n",
    "    json_search=getNaverSearchResult(sNode, search_text,start_page,display_count)\n",
    "    num = 1\n",
    "#     print(json_search)\n",
    "    print(f'시작 페이지 \"{start_page}\"')\n",
    "\n",
    "    for post in json_search['items']:\n",
    "        print('번호: ',num)\n",
    "        getPostData(post)\n",
    "        print('----------------------------------------')\n",
    "        num +=1\n",
    "    try:\n",
    "        with open(file_name,'w', encoding = 'utf-8') as outfile:\n",
    "            ret = json.dumps(json_search, indent=4, sort_keys = False, ensure_ascii=False)\n",
    "            outfile.write(ret)\n",
    "            print('json 파일이 저장되었습니다.')\n",
    "    except BaseException as ex:\n",
    "        print(\"파일 저장 에러\",ex)\n",
    "    \n",
    "#     while start_page<13:\n",
    "\n",
    "#         json_search=getNaverSearchResult(sNode, search_text,start_page,display_count)\n",
    "#         num = 1\n",
    "#     #     print(json_search)\n",
    "#         print(f'시작 페이지 \"{start_page}\"')\n",
    "        \n",
    "#         for post in json_search['items']:\n",
    "#             print('번호: ',num)\n",
    "#             getPostData(post)\n",
    "#             print('----------------------------------------')\n",
    "#             num +=1\n",
    "#         try:\n",
    "#             if start_page == 1:\n",
    "#                 with open(file_name,'w', encoding = 'utf-8') as outfile:\n",
    "#                     ret = json.dumps(json_search, indent=4, sort_keys = False, ensure_ascii=False)\n",
    "#                     outfile.write(ret)\n",
    "#                     print('json 파일이 저장되었습니다.')\n",
    "#                     start_page += 1\n",
    "#             elif start_page != 1:\n",
    "#                 with open(file_name,'a', encoding = 'utf-8') as outfile:\n",
    "#                     ret = json.dumps(json_search, indent=4, sort_keys = False, ensure_ascii=False)\n",
    "#                     outfile.write(ret)\n",
    "#                     print('json 파일이 저장되었습니다.')\n",
    "#                     start_page += 1\n",
    "                    \n",
    "#         except BaseException as ex:\n",
    "#             print(\"파일 저장 에러\",ex)"
   ]
  },
  {
   "cell_type": "code",
   "execution_count": 8,
   "metadata": {},
   "outputs": [],
   "source": [
    "def load_jsonFile():\n",
    "    global file_name\n",
    "    with open(file_name,'r',encoding='utf-8') as rf:\n",
    "        json_dic = json.load(rf)\n",
    "        print(json_dic)\n",
    "        # json 파싱 + 전처리(불필요한 문자 제거) + 페이지 증가\n",
    "        "
   ]
  },
  {
   "cell_type": "code",
   "execution_count": 9,
   "metadata": {},
   "outputs": [],
   "source": [
    "# load_jsonFile()"
   ]
  },
  {
   "cell_type": "code",
   "execution_count": 10,
   "metadata": {
    "scrolled": true
   },
   "outputs": [
    {
     "name": "stdout",
     "output_type": "stream",
     "text": [
      "[2023-01-25 16:25:35.896630]서버요청성공:https://openapi.naver.com/v1/search/shop.json?query=%EB%85%B8%ED%8A%B8%EB%B6%81&start=1&display=12\n",
      "시작 페이지 \"1\"\n",
      "번호:  1\n"
     ]
    },
    {
     "ename": "KeyError",
     "evalue": "'description'",
     "output_type": "error",
     "traceback": [
      "\u001b[0;31m---------------------------------------------------------------------------\u001b[0m",
      "\u001b[0;31mKeyError\u001b[0m                                  Traceback (most recent call last)",
      "\u001b[0;32m/var/folders/wh/5g5p83j54pg070vprb1sydyh0000gn/T/ipykernel_76959/520687569.py\u001b[0m in \u001b[0;36m<module>\u001b[0;34m\u001b[0m\n\u001b[1;32m      1\u001b[0m \u001b[0;32mif\u001b[0m \u001b[0m__name__\u001b[0m \u001b[0;34m==\u001b[0m\u001b[0;34m'__main__'\u001b[0m\u001b[0;34m:\u001b[0m\u001b[0;34m\u001b[0m\u001b[0;34m\u001b[0m\u001b[0m\n\u001b[0;32m----> 2\u001b[0;31m     \u001b[0mmain\u001b[0m\u001b[0;34m(\u001b[0m\u001b[0;34m)\u001b[0m\u001b[0;34m\u001b[0m\u001b[0;34m\u001b[0m\u001b[0m\n\u001b[0m\u001b[1;32m      3\u001b[0m \u001b[0;31m#     load_jsonFile()\u001b[0m\u001b[0;34m\u001b[0m\u001b[0;34m\u001b[0m\u001b[0;34m\u001b[0m\u001b[0m\n",
      "\u001b[0;32m/var/folders/wh/5g5p83j54pg070vprb1sydyh0000gn/T/ipykernel_76959/4196941305.py\u001b[0m in \u001b[0;36mmain\u001b[0;34m()\u001b[0m\n\u001b[1;32m     14\u001b[0m     \u001b[0;32mfor\u001b[0m \u001b[0mpost\u001b[0m \u001b[0;32min\u001b[0m \u001b[0mjson_search\u001b[0m\u001b[0;34m[\u001b[0m\u001b[0;34m'items'\u001b[0m\u001b[0;34m]\u001b[0m\u001b[0;34m:\u001b[0m\u001b[0;34m\u001b[0m\u001b[0;34m\u001b[0m\u001b[0m\n\u001b[1;32m     15\u001b[0m         \u001b[0mprint\u001b[0m\u001b[0;34m(\u001b[0m\u001b[0;34m'번호: '\u001b[0m\u001b[0;34m,\u001b[0m\u001b[0mnum\u001b[0m\u001b[0;34m)\u001b[0m\u001b[0;34m\u001b[0m\u001b[0;34m\u001b[0m\u001b[0m\n\u001b[0;32m---> 16\u001b[0;31m         \u001b[0mgetPostData\u001b[0m\u001b[0;34m(\u001b[0m\u001b[0mpost\u001b[0m\u001b[0;34m)\u001b[0m\u001b[0;34m\u001b[0m\u001b[0;34m\u001b[0m\u001b[0m\n\u001b[0m\u001b[1;32m     17\u001b[0m         \u001b[0mprint\u001b[0m\u001b[0;34m(\u001b[0m\u001b[0;34m'----------------------------------------'\u001b[0m\u001b[0;34m)\u001b[0m\u001b[0;34m\u001b[0m\u001b[0;34m\u001b[0m\u001b[0m\n\u001b[1;32m     18\u001b[0m         \u001b[0mnum\u001b[0m \u001b[0;34m+=\u001b[0m\u001b[0;36m1\u001b[0m\u001b[0;34m\u001b[0m\u001b[0;34m\u001b[0m\u001b[0m\n",
      "\u001b[0;32m/var/folders/wh/5g5p83j54pg070vprb1sydyh0000gn/T/ipykernel_76959/1551890339.py\u001b[0m in \u001b[0;36mgetPostData\u001b[0;34m(post)\u001b[0m\n\u001b[1;32m      1\u001b[0m \u001b[0;32mdef\u001b[0m \u001b[0mgetPostData\u001b[0m\u001b[0;34m(\u001b[0m\u001b[0mpost\u001b[0m\u001b[0;34m)\u001b[0m\u001b[0;34m:\u001b[0m\u001b[0;34m\u001b[0m\u001b[0;34m\u001b[0m\u001b[0m\n\u001b[1;32m      2\u001b[0m     \u001b[0mtitle\u001b[0m \u001b[0;34m=\u001b[0m \u001b[0mpost\u001b[0m\u001b[0;34m[\u001b[0m\u001b[0;34m'title'\u001b[0m\u001b[0;34m]\u001b[0m\u001b[0;34m\u001b[0m\u001b[0;34m\u001b[0m\u001b[0m\n\u001b[0;32m----> 3\u001b[0;31m     \u001b[0mdescription\u001b[0m \u001b[0;34m=\u001b[0m \u001b[0mpost\u001b[0m\u001b[0;34m[\u001b[0m\u001b[0;34m'description'\u001b[0m\u001b[0;34m]\u001b[0m\u001b[0;34m\u001b[0m\u001b[0;34m\u001b[0m\u001b[0m\n\u001b[0m\u001b[1;32m      4\u001b[0m     \u001b[0morg_link\u001b[0m \u001b[0;34m=\u001b[0m \u001b[0mpost\u001b[0m\u001b[0;34m[\u001b[0m\u001b[0;34m'originallink'\u001b[0m\u001b[0;34m]\u001b[0m\u001b[0;34m\u001b[0m\u001b[0;34m\u001b[0m\u001b[0m\n\u001b[1;32m      5\u001b[0m     \u001b[0mlink\u001b[0m \u001b[0;34m=\u001b[0m \u001b[0mpost\u001b[0m\u001b[0;34m[\u001b[0m\u001b[0;34m'link'\u001b[0m\u001b[0;34m]\u001b[0m\u001b[0;34m\u001b[0m\u001b[0;34m\u001b[0m\u001b[0m\n",
      "\u001b[0;31mKeyError\u001b[0m: 'description'"
     ]
    }
   ],
   "source": [
    "if __name__ =='__main__':\n",
    "    main()\n",
    "#     load_jsonFile()"
   ]
  },
  {
   "cell_type": "code",
   "execution_count": null,
   "metadata": {},
   "outputs": [],
   "source": []
  },
  {
   "cell_type": "code",
   "execution_count": null,
   "metadata": {},
   "outputs": [],
   "source": []
  },
  {
   "cell_type": "code",
   "execution_count": null,
   "metadata": {},
   "outputs": [],
   "source": []
  },
  {
   "cell_type": "code",
   "execution_count": null,
   "metadata": {},
   "outputs": [],
   "source": []
  },
  {
   "cell_type": "code",
   "execution_count": null,
   "metadata": {},
   "outputs": [],
   "source": []
  }
 ],
 "metadata": {
  "kernelspec": {
   "display_name": "Python 3 (ipykernel)",
   "language": "python",
   "name": "python3"
  },
  "language_info": {
   "codemirror_mode": {
    "name": "ipython",
    "version": 3
   },
   "file_extension": ".py",
   "mimetype": "text/x-python",
   "name": "python",
   "nbconvert_exporter": "python",
   "pygments_lexer": "ipython3",
   "version": "3.7.13"
  }
 },
 "nbformat": 4,
 "nbformat_minor": 2
}
