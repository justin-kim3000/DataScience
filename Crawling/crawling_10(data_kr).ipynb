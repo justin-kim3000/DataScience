{
 "cells": [
  {
   "cell_type": "code",
   "execution_count": 20,
   "metadata": {},
   "outputs": [],
   "source": [
    "import requests\n",
    "import urllib.request\n",
    "import json\n",
    "serviceKey = 'KBP%2Fvv9KzdxSV216NM06KUSJ8JVm7bysRqEeCWLA8wZcDUXL%2Bf%2FwLx%2Bk5wawVQP99yVoGPnhnMS8k2%2BLehpg7A%3D%3D'"
   ]
  },
  {
   "cell_type": "code",
   "execution_count": 15,
   "metadata": {},
   "outputs": [
    {
     "name": "stdout",
     "output_type": "stream",
     "text": [
      "b'<?xml version=\"1.0\" encoding=\"UTF-8\" standalone=\"yes\"?><response><header><responseTime>2023-01-27T10:23:43.293+09:00</responseTime><resultCode>30</resultCode><resultMsg>SERVICE KEY IS NOT REGISTERED ERROR.</resultMsg></header></response>'\n"
     ]
    }
   ],
   "source": [
    "url = 'http://openapi.tour.go.kr/openapi/service/TourismResourceStatsService/getPchrgTrrsrtVisitorList'\n",
    "params ={'serviceKey' : serviceKey, 'YM' : '202207', 'SIDO' : '부산광역시', 'GUNGU' : '해운대구' }\n",
    "\n",
    "response = requests.get(url, params=params)\n",
    "print(response.content)"
   ]
  },
  {
   "cell_type": "markdown",
   "metadata": {},
   "source": [
    "## Make url"
   ]
  },
  {
   "cell_type": "code",
   "execution_count": 44,
   "metadata": {},
   "outputs": [],
   "source": [
    "def json_write(file_name, dic):\n",
    "    try:\n",
    "        with open(file_name, 'a', encoding ='utf-8') as outfile:\n",
    "            ret = json.dumps(dic, indent=4, sort_keys=False, ensure_ascii=False)\n",
    "            outfile.write(ret)\n",
    "            print(f'{file_name}저장 성공')\n",
    "    except BaseException as ex:\n",
    "        print('파일 저장 에러',ex)"
   ]
  },
  {
   "cell_type": "code",
   "execution_count": 16,
   "metadata": {},
   "outputs": [
    {
     "name": "stdout",
     "output_type": "stream",
     "text": [
      "http://openapi.tour.go.kr/openapi/service/TourismResourceStatsService/getPchrgTrrsrtVisitorList?_type=json&serviceKey=KBP%2Fvv9KzdxSV216NM06KUSJ8JVm7bysRqEeCWLA8wZcDUXL%2Bf%2FwLx%2Bk5wawVQP99yVoGPnhnMS8k2%2BLehpg7A%3D%3D&YM=202207&SIDO=%EB%B6%80%EC%82%B0%EA%B4%91%EC%97%AD%EC%8B%9C&gungu=%ED%95%B4%EC%9A%B4%EB%8C%80%EA%B5%AC\n"
     ]
    }
   ],
   "source": [
    "ym = 202207\n",
    "sido = '부산광역시'\n",
    "gungu = '해운대구'\n",
    "baseURL = 'http://openapi.tour.go.kr/openapi/service/TourismResourceStatsService/getPchrgTrrsrtVisitorList'\n",
    "# json 타입으로 열기\n",
    "param = f'?_type=json&serviceKey={serviceKey}'\n",
    "# html로 열기\n",
    "# param = f'?serviceKey={serviceKey}'v\n",
    "param += f'&YM={ym}&SIDO={urllib.parse.quote(sido)}&gungu={urllib.parse.quote(gungu)}'\n",
    "\n",
    "URL = baseURL + param\n",
    "print(URL)"
   ]
  },
  {
   "cell_type": "code",
   "execution_count": 17,
   "metadata": {},
   "outputs": [
    {
     "name": "stdout",
     "output_type": "stream",
     "text": [
      "{\"response\":{\"header\":{\"resultCode\":\"0000\",\"resultMsg\":\"OK\"},\"body\":{\"items\":{\"item\":[{\"addrCd\":2620,\"csMvCnt\":50415,\"gungu\":\"영도구\",\"resNm\":\"태종대 관광지\",\"rnum\":1,\"sido\":\"부산광역시\",\"ym\":202207},{\"addrCd\":2632,\"csMvCnt\":573,\"gungu\":\"북구\",\"resNm\":\"구포국수체험관\",\"rnum\":2,\"sido\":\"부산광역시\",\"ym\":202207},{\"addrCd\":2632,\"csMvCnt\":7215,\"gungu\":\"북구\",\"resNm\":\"문화빙상센터\",\"rnum\":3,\"sido\":\"부산광역시\",\"ym\":202207},{\"addrCd\":2632,\"csMvCnt\":7392,\"gungu\":\"북구\",\"resNm\":\"기후변화체험관\",\"rnum\":4,\"sido\":\"부산광역시\",\"ym\":202207},{\"addrCd\":2635,\"csMvCnt\":76642,\"gungu\":\"해운대구\",\"resNm\":\"부산아쿠아리움\",\"rnum\":5,\"sido\":\"부산광역시\",\"ym\":202207},{\"addrCd\":2641,\"csMvCnt\":23885,\"gungu\":\"금정구\",\"resNm\":\"스포원\",\"rnum\":6,\"sido\":\"부산광역시\",\"ym\":202207},{\"addrCd\":2644,\"csForCnt\":0,\"csMvCnt\":70599,\"csNatCnt\":70599,\"gungu\":\"강서구\",\"resNm\":\"한국마사회 렛츠런파크 부산경남\",\"rnum\":7,\"sido\":\"부산광역시\",\"ym\":202207},{\"addrCd\":2671,\"csMvCnt\":8084,\"gungu\":\"기장군\",\"resNm\":\"아홉산숲\",\"rnum\":8,\"sido\":\"부산광역시\",\"ym\":202207},{\"addrCd\":2671,\"csMvCnt\":89332,\"gungu\":\"기장군\",\"resNm\":\"국립부산과학관\",\"rnum\":9,\"sido\":\"부산광역시\",\"ym\":202207}]},\"numOfRows\":10,\"pageNo\":1,\"totalCount\":9}}}\n"
     ]
    }
   ],
   "source": [
    "try:\n",
    "    request = urllib.request.Request(URL)\n",
    "    response = urllib.request.urlopen(request)\n",
    "    if response.getcode() == 200:\n",
    "        ret_data = response.read().decode('utf-8')\n",
    "except Exception as ex:\n",
    "    print('http 에러: ',ex)\n",
    "print(ret_data)"
   ]
  },
  {
   "cell_type": "code",
   "execution_count": 18,
   "metadata": {},
   "outputs": [
    {
     "name": "stdout",
     "output_type": "stream",
     "text": [
      "<class 'str'>\n"
     ]
    }
   ],
   "source": [
    "print(type(ret_data))"
   ]
  },
  {
   "cell_type": "code",
   "execution_count": 36,
   "metadata": {},
   "outputs": [
    {
     "name": "stdout",
     "output_type": "stream",
     "text": [
      "<class 'dict'>\n"
     ]
    },
    {
     "data": {
      "text/plain": [
       "{'response': {'header': {'resultCode': '0000', 'resultMsg': 'OK'},\n",
       "  'body': {'items': {'item': [{'addrCd': 2620,\n",
       "      'csMvCnt': 50415,\n",
       "      'gungu': '영도구',\n",
       "      'resNm': '태종대 관광지',\n",
       "      'rnum': 1,\n",
       "      'sido': '부산광역시',\n",
       "      'ym': 202207},\n",
       "     {'addrCd': 2632,\n",
       "      'csMvCnt': 573,\n",
       "      'gungu': '북구',\n",
       "      'resNm': '구포국수체험관',\n",
       "      'rnum': 2,\n",
       "      'sido': '부산광역시',\n",
       "      'ym': 202207},\n",
       "     {'addrCd': 2632,\n",
       "      'csMvCnt': 7215,\n",
       "      'gungu': '북구',\n",
       "      'resNm': '문화빙상센터',\n",
       "      'rnum': 3,\n",
       "      'sido': '부산광역시',\n",
       "      'ym': 202207},\n",
       "     {'addrCd': 2632,\n",
       "      'csMvCnt': 7392,\n",
       "      'gungu': '북구',\n",
       "      'resNm': '기후변화체험관',\n",
       "      'rnum': 4,\n",
       "      'sido': '부산광역시',\n",
       "      'ym': 202207},\n",
       "     {'addrCd': 2635,\n",
       "      'csMvCnt': 76642,\n",
       "      'gungu': '해운대구',\n",
       "      'resNm': '부산아쿠아리움',\n",
       "      'rnum': 5,\n",
       "      'sido': '부산광역시',\n",
       "      'ym': 202207},\n",
       "     {'addrCd': 2641,\n",
       "      'csMvCnt': 23885,\n",
       "      'gungu': '금정구',\n",
       "      'resNm': '스포원',\n",
       "      'rnum': 6,\n",
       "      'sido': '부산광역시',\n",
       "      'ym': 202207},\n",
       "     {'addrCd': 2644,\n",
       "      'csForCnt': 0,\n",
       "      'csMvCnt': 70599,\n",
       "      'csNatCnt': 70599,\n",
       "      'gungu': '강서구',\n",
       "      'resNm': '한국마사회 렛츠런파크 부산경남',\n",
       "      'rnum': 7,\n",
       "      'sido': '부산광역시',\n",
       "      'ym': 202207},\n",
       "     {'addrCd': 2671,\n",
       "      'csMvCnt': 8084,\n",
       "      'gungu': '기장군',\n",
       "      'resNm': '아홉산숲',\n",
       "      'rnum': 8,\n",
       "      'sido': '부산광역시',\n",
       "      'ym': 202207},\n",
       "     {'addrCd': 2671,\n",
       "      'csMvCnt': 89332,\n",
       "      'gungu': '기장군',\n",
       "      'resNm': '국립부산과학관',\n",
       "      'rnum': 9,\n",
       "      'sido': '부산광역시',\n",
       "      'ym': 202207}]},\n",
       "   'numOfRows': 10,\n",
       "   'pageNo': 1,\n",
       "   'totalCount': 9}}}"
      ]
     },
     "execution_count": 36,
     "metadata": {},
     "output_type": "execute_result"
    }
   ],
   "source": [
    "dic_data = json.loads(ret_data)\n",
    "print(type(dic_data))\n",
    "dic_data"
   ]
  },
  {
   "cell_type": "code",
   "execution_count": 42,
   "metadata": {},
   "outputs": [],
   "source": [
    "data = dic_data['response']['body']['items']['item']"
   ]
  },
  {
   "cell_type": "code",
   "execution_count": 45,
   "metadata": {},
   "outputs": [
    {
     "name": "stdout",
     "output_type": "stream",
     "text": [
      "test.json저장 성공\n"
     ]
    }
   ],
   "source": [
    "json_write('test.json',data)"
   ]
  },
  {
   "cell_type": "code",
   "execution_count": null,
   "metadata": {},
   "outputs": [],
   "source": []
  }
 ],
 "metadata": {
  "kernelspec": {
   "display_name": "Python 3 (ipykernel)",
   "language": "python",
   "name": "python3"
  },
  "language_info": {
   "codemirror_mode": {
    "name": "ipython",
    "version": 3
   },
   "file_extension": ".py",
   "mimetype": "text/x-python",
   "name": "python",
   "nbconvert_exporter": "python",
   "pygments_lexer": "ipython3",
   "version": "3.7.13"
  }
 },
 "nbformat": 4,
 "nbformat_minor": 2
}
