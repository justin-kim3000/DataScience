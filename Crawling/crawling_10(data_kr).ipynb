{
 "cells": [
  {
   "cell_type": "code",
   "execution_count": 23,
   "metadata": {},
   "outputs": [],
   "source": [
    "import requests\n",
    "import urllib.request\n",
    "import json\n",
    "serviceKey = 'KBP%2Fvv9KzdxSV216NM06KUSJ8JVm7bysRqEeCWLA8wZcDUXL%2Bf%2FwLx%2Bk5wawVQP99yVoGPnhnMS8k2%2BLehpg7A%3D%3D'"
   ]
  },
  {
   "cell_type": "code",
   "execution_count": 24,
   "metadata": {},
   "outputs": [
    {
     "name": "stdout",
     "output_type": "stream",
     "text": [
      "b'<?xml version=\"1.0\" encoding=\"UTF-8\" standalone=\"yes\"?><response><header><responseTime>2023-01-27T15:13:21.184+09:00</responseTime><resultCode>30</resultCode><resultMsg>SERVICE KEY IS NOT REGISTERED ERROR.</resultMsg></header></response>'\n"
     ]
    }
   ],
   "source": [
    "url = 'http://openapi.tour.go.kr/openapi/service/TourismResourceStatsService/getPchrgTrrsrtVisitorList'\n",
    "params ={'serviceKey' : serviceKey, 'YM' : '202207', 'SIDO' : '부산광역시', 'GUNGU' : '해운대구' }\n",
    "response = requests.get(url, params=params)\n",
    "print(response.content)"
   ]
  },
  {
   "cell_type": "markdown",
   "metadata": {},
   "source": [
    "## Make url"
   ]
  },
  {
   "cell_type": "code",
   "execution_count": 25,
   "metadata": {},
   "outputs": [],
   "source": [
    "def json_write(file_name,dic):\n",
    "    \n",
    "    try:\n",
    "        with open(file_name, 'a', encoding ='utf-8') as outfile:\n",
    "            ret = json.dumps(dic, indent=4, sort_keys=False, ensure_ascii=False)\n",
    "            outfile.write(ret)\n",
    "            print(f'{file_name}저장 성공')\n",
    "    except BaseException as ex:\n",
    "        print('파일 저장 에러',ex)"
   ]
  },
  {
   "cell_type": "code",
   "execution_count": 28,
   "metadata": {},
   "outputs": [
    {
     "name": "stdout",
     "output_type": "stream",
     "text": [
      "01\n",
      "http://openapi.tour.go.kr/openapi/service/TourismResourceStatsService/getPchrgTrrsrtVisitorList?_type=json&serviceKey=KBP%2Fvv9KzdxSV216NM06KUSJ8JVm7bysRqEeCWLA8wZcDUXL%2Bf%2FwLx%2Bk5wawVQP99yVoGPnhnMS8k2%2BLehpg7A%3D%3D&YM=201801&SIDO=%EB%B6%80%EC%82%B0%EA%B4%91%EC%97%AD%EC%8B%9C&gungu=%ED%95%B4%EC%9A%B4%EB%8C%80%EA%B5%AC&numOfRows=20&pageNo=1\n",
      "02\n",
      "http://openapi.tour.go.kr/openapi/service/TourismResourceStatsService/getPchrgTrrsrtVisitorList?_type=json&serviceKey=KBP%2Fvv9KzdxSV216NM06KUSJ8JVm7bysRqEeCWLA8wZcDUXL%2Bf%2FwLx%2Bk5wawVQP99yVoGPnhnMS8k2%2BLehpg7A%3D%3D&YM=201802&SIDO=%EB%B6%80%EC%82%B0%EA%B4%91%EC%97%AD%EC%8B%9C&gungu=%ED%95%B4%EC%9A%B4%EB%8C%80%EA%B5%AC&numOfRows=20&pageNo=1\n",
      "03\n",
      "http://openapi.tour.go.kr/openapi/service/TourismResourceStatsService/getPchrgTrrsrtVisitorList?_type=json&serviceKey=KBP%2Fvv9KzdxSV216NM06KUSJ8JVm7bysRqEeCWLA8wZcDUXL%2Bf%2FwLx%2Bk5wawVQP99yVoGPnhnMS8k2%2BLehpg7A%3D%3D&YM=201803&SIDO=%EB%B6%80%EC%82%B0%EA%B4%91%EC%97%AD%EC%8B%9C&gungu=%ED%95%B4%EC%9A%B4%EB%8C%80%EA%B5%AC&numOfRows=20&pageNo=1\n",
      "04\n",
      "http://openapi.tour.go.kr/openapi/service/TourismResourceStatsService/getPchrgTrrsrtVisitorList?_type=json&serviceKey=KBP%2Fvv9KzdxSV216NM06KUSJ8JVm7bysRqEeCWLA8wZcDUXL%2Bf%2FwLx%2Bk5wawVQP99yVoGPnhnMS8k2%2BLehpg7A%3D%3D&YM=201804&SIDO=%EB%B6%80%EC%82%B0%EA%B4%91%EC%97%AD%EC%8B%9C&gungu=%ED%95%B4%EC%9A%B4%EB%8C%80%EA%B5%AC&numOfRows=20&pageNo=1\n",
      "05\n",
      "http://openapi.tour.go.kr/openapi/service/TourismResourceStatsService/getPchrgTrrsrtVisitorList?_type=json&serviceKey=KBP%2Fvv9KzdxSV216NM06KUSJ8JVm7bysRqEeCWLA8wZcDUXL%2Bf%2FwLx%2Bk5wawVQP99yVoGPnhnMS8k2%2BLehpg7A%3D%3D&YM=201805&SIDO=%EB%B6%80%EC%82%B0%EA%B4%91%EC%97%AD%EC%8B%9C&gungu=%ED%95%B4%EC%9A%B4%EB%8C%80%EA%B5%AC&numOfRows=20&pageNo=1\n",
      "06\n",
      "http://openapi.tour.go.kr/openapi/service/TourismResourceStatsService/getPchrgTrrsrtVisitorList?_type=json&serviceKey=KBP%2Fvv9KzdxSV216NM06KUSJ8JVm7bysRqEeCWLA8wZcDUXL%2Bf%2FwLx%2Bk5wawVQP99yVoGPnhnMS8k2%2BLehpg7A%3D%3D&YM=201806&SIDO=%EB%B6%80%EC%82%B0%EA%B4%91%EC%97%AD%EC%8B%9C&gungu=%ED%95%B4%EC%9A%B4%EB%8C%80%EA%B5%AC&numOfRows=20&pageNo=1\n",
      "07\n",
      "http://openapi.tour.go.kr/openapi/service/TourismResourceStatsService/getPchrgTrrsrtVisitorList?_type=json&serviceKey=KBP%2Fvv9KzdxSV216NM06KUSJ8JVm7bysRqEeCWLA8wZcDUXL%2Bf%2FwLx%2Bk5wawVQP99yVoGPnhnMS8k2%2BLehpg7A%3D%3D&YM=201807&SIDO=%EB%B6%80%EC%82%B0%EA%B4%91%EC%97%AD%EC%8B%9C&gungu=%ED%95%B4%EC%9A%B4%EB%8C%80%EA%B5%AC&numOfRows=20&pageNo=1\n",
      "08\n",
      "http://openapi.tour.go.kr/openapi/service/TourismResourceStatsService/getPchrgTrrsrtVisitorList?_type=json&serviceKey=KBP%2Fvv9KzdxSV216NM06KUSJ8JVm7bysRqEeCWLA8wZcDUXL%2Bf%2FwLx%2Bk5wawVQP99yVoGPnhnMS8k2%2BLehpg7A%3D%3D&YM=201808&SIDO=%EB%B6%80%EC%82%B0%EA%B4%91%EC%97%AD%EC%8B%9C&gungu=%ED%95%B4%EC%9A%B4%EB%8C%80%EA%B5%AC&numOfRows=20&pageNo=1\n",
      "09\n",
      "http://openapi.tour.go.kr/openapi/service/TourismResourceStatsService/getPchrgTrrsrtVisitorList?_type=json&serviceKey=KBP%2Fvv9KzdxSV216NM06KUSJ8JVm7bysRqEeCWLA8wZcDUXL%2Bf%2FwLx%2Bk5wawVQP99yVoGPnhnMS8k2%2BLehpg7A%3D%3D&YM=201809&SIDO=%EB%B6%80%EC%82%B0%EA%B4%91%EC%97%AD%EC%8B%9C&gungu=%ED%95%B4%EC%9A%B4%EB%8C%80%EA%B5%AC&numOfRows=20&pageNo=1\n",
      "10\n",
      "http://openapi.tour.go.kr/openapi/service/TourismResourceStatsService/getPchrgTrrsrtVisitorList?_type=json&serviceKey=KBP%2Fvv9KzdxSV216NM06KUSJ8JVm7bysRqEeCWLA8wZcDUXL%2Bf%2FwLx%2Bk5wawVQP99yVoGPnhnMS8k2%2BLehpg7A%3D%3D&YM=201810&SIDO=%EB%B6%80%EC%82%B0%EA%B4%91%EC%97%AD%EC%8B%9C&gungu=%ED%95%B4%EC%9A%B4%EB%8C%80%EA%B5%AC&numOfRows=20&pageNo=1\n",
      "11\n",
      "http://openapi.tour.go.kr/openapi/service/TourismResourceStatsService/getPchrgTrrsrtVisitorList?_type=json&serviceKey=KBP%2Fvv9KzdxSV216NM06KUSJ8JVm7bysRqEeCWLA8wZcDUXL%2Bf%2FwLx%2Bk5wawVQP99yVoGPnhnMS8k2%2BLehpg7A%3D%3D&YM=201811&SIDO=%EB%B6%80%EC%82%B0%EA%B4%91%EC%97%AD%EC%8B%9C&gungu=%ED%95%B4%EC%9A%B4%EB%8C%80%EA%B5%AC&numOfRows=20&pageNo=1\n",
      "12\n",
      "http://openapi.tour.go.kr/openapi/service/TourismResourceStatsService/getPchrgTrrsrtVisitorList?_type=json&serviceKey=KBP%2Fvv9KzdxSV216NM06KUSJ8JVm7bysRqEeCWLA8wZcDUXL%2Bf%2FwLx%2Bk5wawVQP99yVoGPnhnMS8k2%2BLehpg7A%3D%3D&YM=201812&SIDO=%EB%B6%80%EC%82%B0%EA%B4%91%EC%97%AD%EC%8B%9C&gungu=%ED%95%B4%EC%9A%B4%EB%8C%80%EA%B5%AC&numOfRows=20&pageNo=1\n"
     ]
    }
   ],
   "source": [
    "li = []\n",
    "for i in range(1,13):\n",
    "    year = 2018\n",
    "    month = str(i).zfill(2)\n",
    "    ym = str(year)+month\n",
    "    print(month)\n",
    "    sido = '부산광역시'\n",
    "    gungu = '해운대구'\n",
    "    numOfRows = 20\n",
    "    pageNo =1\n",
    "\n",
    "    baseURL = 'http://openapi.tour.go.kr/openapi/service/TourismResourceStatsService/getPchrgTrrsrtVisitorList'\n",
    "    # json 타입으로 열기\n",
    "    param = f'?_type=json&serviceKey={serviceKey}'\n",
    "    # html로 열기\n",
    "    # param = f'?serviceKey={serviceKey}'v\n",
    "    param += f'&YM={ym}&SIDO={urllib.parse.quote(sido)}&gungu={urllib.parse.quote(gungu)}'\n",
    "    param += f'&numOfRows={numOfRows}&pageNo={pageNo}'\n",
    "\n",
    "    URL = baseURL + param\n",
    "    print(URL)\n",
    "    try:\n",
    "        request = urllib.request.Request(URL)\n",
    "        response = urllib.request.urlopen(request)\n",
    "        if response.getcode() == 200:\n",
    "            ret_data = response.read().decode('utf-8')\n",
    "    except Exception as ex:\n",
    "        print('http 에러: ',ex)\n",
    "    li.append(ret_data)"
   ]
  },
  {
   "cell_type": "code",
   "execution_count": 39,
   "metadata": {},
   "outputs": [
    {
     "data": {
      "text/plain": [
       "{'response': {'header': {'resultCode': '0000', 'resultMsg': 'OK'},\n",
       "  'body': {'items': {'item': [{'addrCd': 2620,\n",
       "      'csForCnt': 0,\n",
       "      'csMvCnt': 60728,\n",
       "      'csNatCnt': 60728,\n",
       "      'gungu': '영도구',\n",
       "      'resNm': '태종대 관광지',\n",
       "      'rnum': 1,\n",
       "      'sido': '부산광역시',\n",
       "      'ym': 201801},\n",
       "     {'addrCd': 2632,\n",
       "      'csMvCnt': 1066,\n",
       "      'gungu': '북구',\n",
       "      'resNm': '구포국수체험관',\n",
       "      'rnum': 2,\n",
       "      'sido': '부산광역시',\n",
       "      'ym': 201801},\n",
       "     {'addrCd': 2632,\n",
       "      'csMvCnt': 21803,\n",
       "      'gungu': '북구',\n",
       "      'resNm': '문화빙상센터',\n",
       "      'rnum': 3,\n",
       "      'sido': '부산광역시',\n",
       "      'ym': 201801},\n",
       "     {'addrCd': 2632,\n",
       "      'csMvCnt': 4840,\n",
       "      'gungu': '북구',\n",
       "      'resNm': '기후변화체험관',\n",
       "      'rnum': 4,\n",
       "      'sido': '부산광역시',\n",
       "      'ym': 201801},\n",
       "     {'addrCd': 2635,\n",
       "      'csForCnt': 0,\n",
       "      'csMvCnt': 70778,\n",
       "      'csNatCnt': 70778,\n",
       "      'gungu': '해운대구',\n",
       "      'resNm': '부산아쿠아리움',\n",
       "      'rnum': 5,\n",
       "      'sido': '부산광역시',\n",
       "      'ym': 201801},\n",
       "     {'addrCd': 2644,\n",
       "      'csForCnt': 0,\n",
       "      'csMvCnt': 67515,\n",
       "      'csNatCnt': 67515,\n",
       "      'gungu': '강서구',\n",
       "      'resNm': '한국마사회 렛츠런파크 부산경남',\n",
       "      'rnum': 6,\n",
       "      'sido': '부산광역시',\n",
       "      'ym': 201801},\n",
       "     {'addrCd': 2671,\n",
       "      'csMvCnt': 107335,\n",
       "      'gungu': '기장군',\n",
       "      'resNm': '국립부산과학관',\n",
       "      'rnum': 7,\n",
       "      'sido': '부산광역시',\n",
       "      'ym': 201801}]},\n",
       "   'numOfRows': 20,\n",
       "   'pageNo': 1,\n",
       "   'totalCount': 7}}}"
      ]
     },
     "execution_count": 39,
     "metadata": {},
     "output_type": "execute_result"
    }
   ],
   "source": [
    "li\n",
    "dic_data = json.loads(li[0])\n",
    "dic_data"
   ]
  },
  {
   "cell_type": "code",
   "execution_count": 12,
   "metadata": {},
   "outputs": [
    {
     "name": "stdout",
     "output_type": "stream",
     "text": [
      "{\"response\":{\"header\":{\"resultCode\":\"0000\",\"resultMsg\":\"OK\"},\"body\":{\"items\":{\"item\":[{\"addrCd\":2620,\"csForCnt\":0,\"csMvCnt\":60728,\"csNatCnt\":60728,\"gungu\":\"영도구\",\"resNm\":\"태종대 관광지\",\"rnum\":1,\"sido\":\"부산광역시\",\"ym\":201801},{\"addrCd\":2632,\"csMvCnt\":1066,\"gungu\":\"북구\",\"resNm\":\"구포국수체험관\",\"rnum\":2,\"sido\":\"부산광역시\",\"ym\":201801},{\"addrCd\":2632,\"csMvCnt\":21803,\"gungu\":\"북구\",\"resNm\":\"문화빙상센터\",\"rnum\":3,\"sido\":\"부산광역시\",\"ym\":201801},{\"addrCd\":2632,\"csMvCnt\":4840,\"gungu\":\"북구\",\"resNm\":\"기후변화체험관\",\"rnum\":4,\"sido\":\"부산광역시\",\"ym\":201801},{\"addrCd\":2635,\"csForCnt\":0,\"csMvCnt\":70778,\"csNatCnt\":70778,\"gungu\":\"해운대구\",\"resNm\":\"부산아쿠아리움\",\"rnum\":5,\"sido\":\"부산광역시\",\"ym\":201801},{\"addrCd\":2644,\"csForCnt\":0,\"csMvCnt\":67515,\"csNatCnt\":67515,\"gungu\":\"강서구\",\"resNm\":\"한국마사회 렛츠런파크 부산경남\",\"rnum\":6,\"sido\":\"부산광역시\",\"ym\":201801},{\"addrCd\":2671,\"csMvCnt\":107335,\"gungu\":\"기장군\",\"resNm\":\"국립부산과학관\",\"rnum\":7,\"sido\":\"부산광역시\",\"ym\":201801}]},\"numOfRows\":20,\"pageNo\":1,\"totalCount\":7}}}\n"
     ]
    }
   ],
   "source": [
    "# try:\n",
    "#     request = urllib.request.Request(URL)\n",
    "#     response = urllib.request.urlopen(request)\n",
    "#     if response.getcode() == 200:\n",
    "#         ret_data = response.read().decode('utf-8')\n",
    "# except Exception as ex:\n",
    "#     print('http 에러: ',ex)\n",
    "# print(ret_data)"
   ]
  },
  {
   "cell_type": "code",
   "execution_count": 13,
   "metadata": {},
   "outputs": [
    {
     "name": "stdout",
     "output_type": "stream",
     "text": [
      "<class 'str'>\n"
     ]
    }
   ],
   "source": [
    "print(type(ret_data))"
   ]
  },
  {
   "cell_type": "code",
   "execution_count": 14,
   "metadata": {},
   "outputs": [
    {
     "name": "stdout",
     "output_type": "stream",
     "text": [
      "<class 'dict'>\n"
     ]
    },
    {
     "data": {
      "text/plain": [
       "{'response': {'header': {'resultCode': '0000', 'resultMsg': 'OK'},\n",
       "  'body': {'items': {'item': [{'addrCd': 2620,\n",
       "      'csForCnt': 0,\n",
       "      'csMvCnt': 60728,\n",
       "      'csNatCnt': 60728,\n",
       "      'gungu': '영도구',\n",
       "      'resNm': '태종대 관광지',\n",
       "      'rnum': 1,\n",
       "      'sido': '부산광역시',\n",
       "      'ym': 201801},\n",
       "     {'addrCd': 2632,\n",
       "      'csMvCnt': 1066,\n",
       "      'gungu': '북구',\n",
       "      'resNm': '구포국수체험관',\n",
       "      'rnum': 2,\n",
       "      'sido': '부산광역시',\n",
       "      'ym': 201801},\n",
       "     {'addrCd': 2632,\n",
       "      'csMvCnt': 21803,\n",
       "      'gungu': '북구',\n",
       "      'resNm': '문화빙상센터',\n",
       "      'rnum': 3,\n",
       "      'sido': '부산광역시',\n",
       "      'ym': 201801},\n",
       "     {'addrCd': 2632,\n",
       "      'csMvCnt': 4840,\n",
       "      'gungu': '북구',\n",
       "      'resNm': '기후변화체험관',\n",
       "      'rnum': 4,\n",
       "      'sido': '부산광역시',\n",
       "      'ym': 201801},\n",
       "     {'addrCd': 2635,\n",
       "      'csForCnt': 0,\n",
       "      'csMvCnt': 70778,\n",
       "      'csNatCnt': 70778,\n",
       "      'gungu': '해운대구',\n",
       "      'resNm': '부산아쿠아리움',\n",
       "      'rnum': 5,\n",
       "      'sido': '부산광역시',\n",
       "      'ym': 201801},\n",
       "     {'addrCd': 2644,\n",
       "      'csForCnt': 0,\n",
       "      'csMvCnt': 67515,\n",
       "      'csNatCnt': 67515,\n",
       "      'gungu': '강서구',\n",
       "      'resNm': '한국마사회 렛츠런파크 부산경남',\n",
       "      'rnum': 6,\n",
       "      'sido': '부산광역시',\n",
       "      'ym': 201801},\n",
       "     {'addrCd': 2671,\n",
       "      'csMvCnt': 107335,\n",
       "      'gungu': '기장군',\n",
       "      'resNm': '국립부산과학관',\n",
       "      'rnum': 7,\n",
       "      'sido': '부산광역시',\n",
       "      'ym': 201801}]},\n",
       "   'numOfRows': 20,\n",
       "   'pageNo': 1,\n",
       "   'totalCount': 7}}}"
      ]
     },
     "execution_count": 14,
     "metadata": {},
     "output_type": "execute_result"
    }
   ],
   "source": [
    "dic_data = json.loads(ret_data)\n",
    "print(type(dic_data))\n",
    "dic_data"
   ]
  },
  {
   "cell_type": "code",
   "execution_count": 15,
   "metadata": {},
   "outputs": [],
   "source": [
    "data = dic_data['response']['body']['items']['item']"
   ]
  },
  {
   "cell_type": "code",
   "execution_count": 10,
   "metadata": {},
   "outputs": [
    {
     "name": "stdout",
     "output_type": "stream",
     "text": [
      "test.json저장 성공\n"
     ]
    }
   ],
   "source": [
    "json_write('test.json',data)"
   ]
  },
  {
   "cell_type": "code",
   "execution_count": null,
   "metadata": {},
   "outputs": [],
   "source": []
  },
  {
   "cell_type": "code",
   "execution_count": null,
   "metadata": {},
   "outputs": [],
   "source": []
  },
  {
   "cell_type": "code",
   "execution_count": null,
   "metadata": {},
   "outputs": [],
   "source": []
  },
  {
   "cell_type": "code",
   "execution_count": null,
   "metadata": {},
   "outputs": [],
   "source": []
  },
  {
   "cell_type": "code",
   "execution_count": null,
   "metadata": {},
   "outputs": [],
   "source": []
  },
  {
   "cell_type": "code",
   "execution_count": null,
   "metadata": {},
   "outputs": [],
   "source": []
  }
 ],
 "metadata": {
  "kernelspec": {
   "display_name": "Python 3 (ipykernel)",
   "language": "python",
   "name": "python3"
  },
  "language_info": {
   "codemirror_mode": {
    "name": "ipython",
    "version": 3
   },
   "file_extension": ".py",
   "mimetype": "text/x-python",
   "name": "python",
   "nbconvert_exporter": "python",
   "pygments_lexer": "ipython3",
   "version": "3.7.13"
  }
 },
 "nbformat": 4,
 "nbformat_minor": 2
}
