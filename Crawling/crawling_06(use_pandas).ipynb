{
 "cells": [
  {
   "cell_type": "code",
   "execution_count": 1,
   "metadata": {},
   "outputs": [],
   "source": [
    "import pandas as pd\n",
    "from matplotlib import pyplot as plt\n",
    "from pandas import DataFrame\n",
    "import requests\n",
    "import numpy as np\n",
    "def korean_font():\n",
    "    plt.rc('font', family='AppleGothic')\n",
    "    plt.rcParams['axes.unicode_minus'] = False\n",
    "    "
   ]
  },
  {
   "cell_type": "code",
   "execution_count": 2,
   "metadata": {},
   "outputs": [],
   "source": [
    "URL = 'http://kind.krx.co.kr/corpgeneral/corpList.do?method=download&searchType=13'\n",
    "df = pd.read_html(URL)[0]\n",
    "pd.set_option('display.max_columns',None)"
   ]
  },
  {
   "cell_type": "code",
   "execution_count": 3,
   "metadata": {},
   "outputs": [
    {
     "name": "stdout",
     "output_type": "stream",
     "text": [
      "            회사명    종목코드\n",
      "0         DRB동일  004840\n",
      "1           DSR  155660\n",
      "2            GS  078930\n",
      "3     HDC현대산업개발  294870\n",
      "4         KG케미칼  001390\n",
      "...         ...     ...\n",
      "2565     카이바이오텍  446600\n",
      "2566     코스텍시스템  169670\n",
      "2567       타임기술  318660\n",
      "2568   플럼라인생명과학  222670\n",
      "2569   한국미라클피플사  331660\n",
      "\n",
      "[2570 rows x 2 columns]\n"
     ]
    }
   ],
   "source": [
    "# print(df.head());print(df.tail()) \n",
    "# # print(df.info())\n",
    "# print(df.describe())\n",
    "# print(df.종목코드.map('{:06d}'.format))\n",
    "# print(df[['회사명','종목코드']]);\n",
    "# print(type(df[['회사명','종목코드']]));\n",
    "# print(df['회사명']); print(df['종목코드'].map('{:06d}'.format))\n",
    "\n",
    "# 회사명, 종목 코드만 추출\n",
    "df = df[['회사명','종목코드']]\n",
    "df['종목코드']=df['종목코드'].map('{:06d}'.format)\n",
    "print(df)"
   ]
  },
  {
   "cell_type": "code",
   "execution_count": 4,
   "metadata": {},
   "outputs": [
    {
     "name": "stdout",
     "output_type": "stream",
     "text": [
      "005930\n",
      "            회사명\n",
      "0         DRB동일\n",
      "1           DSR\n",
      "2            GS\n",
      "3     HDC현대산업개발\n",
      "4         KG케미칼\n",
      "...         ...\n",
      "2565     카이바이오텍\n",
      "2566     코스텍시스템\n",
      "2567       타임기술\n",
      "2568   플럼라인생명과학\n",
      "2569   한국미라클피플사\n",
      "\n",
      "[2570 rows x 1 columns]\n",
      "       회사명    종목코드\n",
      "1921  삼성전자  005930\n",
      "http://finance.naver.com/item/sise_day.nhn?code=005930\n",
      "            날짜       종가     전일비       시가       고가       저가         거래량\n",
      "0          NaN      NaN     NaN      NaN      NaN      NaN         NaN\n",
      "1   2023.01.25  63300.0  1500.0  63500.0  63700.0  63000.0   5345332.0\n",
      "2   2023.01.20  61800.0   300.0  62100.0  62300.0  61100.0   9646327.0\n",
      "3   2023.01.19  61500.0  1100.0  60500.0  61500.0  60400.0  12808490.0\n",
      "4   2023.01.18  60400.0   600.0  60700.0  61000.0  59900.0  11584041.0\n",
      "5   2023.01.17  61000.0   100.0  61200.0  61500.0  60600.0   9831456.0\n",
      "6          NaN      NaN     NaN      NaN      NaN      NaN         NaN\n",
      "7          NaN      NaN     NaN      NaN      NaN      NaN         NaN\n",
      "8          NaN      NaN     NaN      NaN      NaN      NaN         NaN\n",
      "9   2023.01.16  61100.0   300.0  61300.0  61600.0  60800.0  10039972.0\n",
      "10  2023.01.13  60800.0   300.0  60500.0  61200.0  60400.0  12510328.0\n",
      "11  2023.01.12  60500.0     0.0  61100.0  61200.0  59900.0  16102561.0\n",
      "12  2023.01.11  60500.0   100.0  61000.0  61200.0  60300.0  12310751.0\n",
      "13  2023.01.10  60400.0   300.0  60200.0  61100.0  59900.0  14859797.0\n",
      "14         NaN      NaN     NaN      NaN      NaN      NaN         NaN\n",
      "35\n"
     ]
    }
   ],
   "source": [
    "# print(df.head());print(df.tail()) \n",
    "# # print(df.info())\n",
    "# print(df.describe())\n",
    "# print(df.종목코드.map('{:06d}'.format))\n",
    "# print(df[['회사명','종목코드']]);\n",
    "# print(type(df[['회사명','종목코드']]));\n",
    "# print(df['회사명']); print(df['종목코드'].map('{:06d}'.format))\n",
    "# 리스트이므로 [0]번째 호출\n",
    "df = pd.read_html(URL)[0]\n",
    "\n",
    "pd.set_option('display.max_columns',None)\n",
    "\n",
    "# 회사명, 종목 코드만 추출\n",
    "df = df[['회사명','종목코드']]\n",
    "df['종목코드']=df['종목코드'].map('{:06d}'.format)\n",
    "#print(df)\n",
    "\n",
    "## 특정 코드 추출 방법\n",
    "code_name = '삼성전자'\n",
    "idx = df.index[df['회사명']== 'DSR'][0]\n",
    "idx = df.index[df['회사명']== code_name].tolist()[0]\n",
    "code = df.iloc[idx,1]\n",
    "print(code)\n",
    "print(df[['회사명']])\n",
    "print(df.iloc[np.where(df['회사명']==code_name)])\n",
    "\n",
    "# 사이트 검색\n",
    "header = {'User-agent':'Mozilla/5.0'}\n",
    "url = f'http://finance.naver.com/item/sise_day.nhn?code={code}'\n",
    "print(url)\n",
    "df_url = pd.read_html(requests.get(url, headers=header).text)[0]\n",
    "#df_url = df_url.dropna()\n",
    "print(df_url)\n",
    "\n",
    "# # NaN\n",
    "\n",
    "print(df_url.isnull().sum().sum()) # 결측치 카운팅\n",
    "# print(df_url.dropna()) #모든 결측치 제거\n",
    "# print(df_url.fillna(0)) # 모든 결측치 0으로 대체\n",
    "# tmp_df = df_url.fillna({'종가':df_url['종가'].mean()},inplace=False)\n",
    "# print(tmp_df)\n",
    "\n",
    "# #보간법 : linear(등간격), pad(기존값)\n",
    "# print(df_url.interpolate()) # 디폴트 linear\n",
    "# print(df_url.interpolate(method='pad'))\n",
    "\n"
   ]
  },
  {
   "cell_type": "markdown",
   "metadata": {},
   "source": [
    "### 회사명을 입력받아서 처리\n",
    "### 1~10 페이지 크롤링\n",
    "### 옵션 : 함수 처리"
   ]
  },
  {
   "cell_type": "code",
   "execution_count": null,
   "metadata": {},
   "outputs": [],
   "source": []
  }
 ],
 "metadata": {
  "kernelspec": {
   "display_name": "Python 3 (ipykernel)",
   "language": "python",
   "name": "python3"
  },
  "language_info": {
   "codemirror_mode": {
    "name": "ipython",
    "version": 3
   },
   "file_extension": ".py",
   "mimetype": "text/x-python",
   "name": "python",
   "nbconvert_exporter": "python",
   "pygments_lexer": "ipython3",
   "version": "3.7.13"
  }
 },
 "nbformat": 4,
 "nbformat_minor": 2
}
