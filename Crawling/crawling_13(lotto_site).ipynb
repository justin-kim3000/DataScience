{
 "cells": [
  {
   "cell_type": "code",
   "execution_count": 4,
   "metadata": {},
   "outputs": [],
   "source": [
    "from selenium import webdriver\n",
    "from bs4 import BeautifulSoup"
   ]
  },
  {
   "cell_type": "code",
   "execution_count": 9,
   "metadata": {},
   "outputs": [
    {
     "name": "stdout",
     "output_type": "stream",
     "text": [
      "[<strong>1052회</strong>]\n"
     ]
    }
   ],
   "source": [
    "driver = webdriver.Chrome('/Users/heewonkim/Desktop/chromedriver_mac64/chromedriver')\n",
    "URL = 'https://dhlottery.co.kr/gameResult.do?method=byWin&wiselog=H_C_1_1'\n",
    "driver.get(URL)\n",
    "html = driver.page_source\n",
    "# print(html)\n",
    "soup = BeautifulSoup(html, 'html.parser')\n",
    "# print(soup)\n",
    "print(soup.select('div.win_result > h4 > strong'))\n",
    "driver.close()"
   ]
  },
  {
   "cell_type": "code",
   "execution_count": 22,
   "metadata": {},
   "outputs": [],
   "source": [
    "lotto_num=soup.select('div.win_result > h4 > strong')[0].get_text()[:-1]"
   ]
  },
  {
   "cell_type": "code",
   "execution_count": 23,
   "metadata": {},
   "outputs": [
    {
     "data": {
      "text/plain": [
       "'1052'"
      ]
     },
     "execution_count": 23,
     "metadata": {},
     "output_type": "execute_result"
    }
   ],
   "source": [
    "lotto_num"
   ]
  },
  {
   "cell_type": "code",
   "execution_count": 45,
   "metadata": {},
   "outputs": [
    {
     "name": "stdout",
     "output_type": "stream",
     "text": [
      "[<ul class=\"list_text_common\">\n",
      "<li>당첨금 지급기한 : 지급개시일로부터 1년 (휴일인 경우 익영업일)</li>\n",
      "<li>총판매금액 : <strong>107,565,461,000원</strong></li>\n",
      "</ul>, <ul class=\"list_text_common\">\n",
      "<li>새로고침 또는 뒤로가기를 하면 다시 대기시간이 부여됩니다.</li>\n",
      "</ul>]\n"
     ]
    }
   ],
   "source": [
    "print(soup.select('ul.list_text_common'))"
   ]
  },
  {
   "cell_type": "code",
   "execution_count": 37,
   "metadata": {},
   "outputs": [
    {
     "name": "stdout",
     "output_type": "stream",
     "text": [
      "107,565,461,000원\n"
     ]
    }
   ],
   "source": [
    "print(soup.select('ul.list_text_common > li > strong')[0].get_text())"
   ]
  },
  {
   "cell_type": "code",
   "execution_count": 46,
   "metadata": {},
   "outputs": [
    {
     "name": "stdout",
     "output_type": "stream",
     "text": [
      "[<div class=\"nums\">\n",
      "<div class=\"num win\">\n",
      "<strong>당첨번호</strong>\n",
      "<p>\n",
      "<span class=\"ball_645 lrg ball1\">5</span>\n",
      "<span class=\"ball_645 lrg ball2\">17</span>\n",
      "<span class=\"ball_645 lrg ball3\">26</span>\n",
      "<span class=\"ball_645 lrg ball3\">27</span>\n",
      "<span class=\"ball_645 lrg ball4\">35</span>\n",
      "<span class=\"ball_645 lrg ball4\">38</span>\n",
      "</p>\n",
      "</div>\n",
      "<div class=\"num bonus\">\n",
      "<strong>보너스</strong>\n",
      "<p><span class=\"ball_645 lrg ball1\">1</span></p>\n",
      "</div>\n",
      "</div>]\n"
     ]
    }
   ],
   "source": [
    "print(soup.select('div.nums'))"
   ]
  },
  {
   "cell_type": "code",
   "execution_count": 50,
   "metadata": {},
   "outputs": [
    {
     "name": "stdout",
     "output_type": "stream",
     "text": [
      "[]\n"
     ]
    }
   ],
   "source": [
    "print(soup.select('div.nums > strong'))"
   ]
  },
  {
   "cell_type": "code",
   "execution_count": 55,
   "metadata": {},
   "outputs": [
    {
     "name": "stdout",
     "output_type": "stream",
     "text": [
      "5\n",
      "17\n",
      "26\n",
      "35\n"
     ]
    }
   ],
   "source": [
    "\n",
    "print(soup.select('span.ball_645.lrg.ball1')[0].get_text())\n",
    "print(soup.select('span.ball_645.lrg.ball2')[0].get_text())\n",
    "print(soup.select('span.ball_645.lrg.ball3')[0].get_text())\n",
    "print(soup.select('span.ball_645.lrg.ball4')[0].get_text())\n"
   ]
  },
  {
   "cell_type": "code",
   "execution_count": 64,
   "metadata": {},
   "outputs": [
    {
     "name": "stdout",
     "output_type": "stream",
     "text": [
      "당첨번호  5  당첨번호  17  당첨번호  26  당첨번호  27  당첨번호  35  당첨번호  38  \n",
      "보너스 번호 1  "
     ]
    }
   ],
   "source": [
    "# 당첨 번호\n",
    "nums = soup.select('span.ball_645')\n",
    "inx = 0\n",
    "for i in nums:\n",
    "    if inx < len(nums)-1:\n",
    "        print('당첨번호 ',i.get_text(),end='  ')\n",
    "        inx +=1\n",
    "    else:\n",
    "        print()\n",
    "        print('보너스 번호',i.get_text(),end='  ')"
   ]
  },
  {
   "cell_type": "code",
   "execution_count": 91,
   "metadata": {},
   "outputs": [
    {
     "name": "stdout",
     "output_type": "stream",
     "text": [
      "<tbody>\n",
      "<tr>\n",
      "<td>1등</td>\n",
      "<td class=\"tar\"><strong class=\"color_key1\">25,758,510,382원</strong></td>\n",
      "<td>11</td>\n",
      "<td class=\"tar\">2,341,682,762원</td>\n",
      "<td>당첨번호 <strong class=\"length\">6개</strong> 숫자일치</td>\n",
      "<td rowspan=\"5\">\n",
      "                             \n",
      "                                 1등<br/>\n",
      "                                 \n",
      "\t\t\t\t\t\t\t\t\t자동5<br/>\n",
      "                                 \n",
      "                                 \n",
      "                                 \t수동5<br/>\n",
      "                                 \n",
      "\t\t\t\t\t\t\t\t \n",
      "\t\t\t\t\t\t\t\t\t반자동1\n",
      "\t\t\t\t\t\t\t\t \n",
      "\t\t\t\t\t\t\t                                  \n",
      "                             </td>\n",
      "</tr>\n",
      "<tr>\n",
      "<td>2등</td>\n",
      "<td class=\"tar\"><strong class=\"color_key1\">4,293,085,104원</strong></td>\n",
      "<td>108</td>\n",
      "<td class=\"tar\">39,750,788원</td>\n",
      "<td class=\"nobd_right\">당첨번호 <strong class=\"length\">5개</strong> 숫자일치<br/>+<strong class=\"length\">보너스</strong> 숫자일치</td>\n",
      "</tr>\n",
      "<tr>\n",
      "<td>3등</td>\n",
      "<td class=\"tar\"><strong class=\"color_key1\">4,293,085,720원</strong></td>\n",
      "<td>2,926</td>\n",
      "<td class=\"tar\">1,467,220원</td>\n",
      "<td class=\"nobd_right\">당첨번호 <strong class=\"length\">5개</strong> 숫자일치</td>\n",
      "</tr>\n",
      "<tr>\n",
      "<td>4등</td>\n",
      "<td class=\"tar\"><strong class=\"color_key1\">7,408,900,000원</strong></td>\n",
      "<td>148,178</td>\n",
      "<td class=\"tar\">50,000원</td>\n",
      "<td class=\"nobd_right\">당첨번호 <strong class=\"length\">4개</strong> 숫자일치</td>\n",
      "</tr>\n",
      "<tr>\n",
      "<td>5등</td>\n",
      "<td class=\"tar\"><strong class=\"color_key1\">12,029,150,000원</strong></td>\n",
      "<td>2,405,830</td>\n",
      "<td class=\"tar\">5,000원</td>\n",
      "<td class=\"nobd_right\">당첨번호 <strong class=\"length\">3개</strong> 숫자일치</td>\n",
      "</tr>\n",
      "</tbody>\t------------------------\n"
     ]
    }
   ],
   "source": [
    "## 회차, 순위, 순위별 총 당첨금액, 당첨자 수, 개별 당첨금액 리스트 담아서 출력\n",
    "score = soup.select('tbody')\n",
    "\n",
    "for i in score:\n",
    "    print(i, end='\\t')\n",
    "    print('------------------------')"
   ]
  },
  {
   "cell_type": "code",
   "execution_count": 110,
   "metadata": {},
   "outputs": [
    {
     "data": {
      "text/plain": [
       "[[0, 0, 0, 0, 0],\n",
       " [0, 0, 0, 0, 0],\n",
       " [0, 0, 0, 0, 0],\n",
       " [0, 3, 0, 0, 0],\n",
       " [0, 0, 0, 0, 0]]"
      ]
     },
     "execution_count": 110,
     "metadata": {},
     "output_type": "execute_result"
    }
   ],
   "source": [
    "li1=[[0 for _ in range(5)] for _ in range(5)]\n",
    "li1[3][1] = 3\n",
    "li1"
   ]
  },
  {
   "cell_type": "code",
   "execution_count": 133,
   "metadata": {},
   "outputs": [],
   "source": [
    "def soup_select(i,j):\n",
    "    word = f'table.tbl_data>tbody > tr> td:nth-of-type({i})'\n",
    "    return soup.select(word)[j].get_text()"
   ]
  },
  {
   "cell_type": "code",
   "execution_count": 143,
   "metadata": {},
   "outputs": [
    {
     "name": "stdout",
     "output_type": "stream",
     "text": [
      "[<td>1등</td>, <td>2등</td>, <td>3등</td>, <td>4등</td>, <td>5등</td>]\n"
     ]
    },
    {
     "data": {
      "text/plain": [
       "['1등', '25,758,510,382원', '11', '2,341,682,762원', '당첨번호 6개 숫자일치']"
      ]
     },
     "execution_count": 143,
     "metadata": {},
     "output_type": "execute_result"
    }
   ],
   "source": [
    "## 회차, 순위, 순위별 총 당첨금액, 당첨자 수, 개별 당첨금액 리스트 담아서 출력\n",
    "a = soup.select('table.tbl_data>tbody > tr> td:nth-of-type(1)')\n",
    "b = soup.select('table.tbl_data>tbody > tr> td:nth-of-type(2)')\n",
    "c = soup.select('table.tbl_data>tbody > tr> td:nth-of-type(3)')\n",
    "d = soup.select('table.tbl_data>tbody > tr> td:nth-of-type(4)')\n",
    "f = soup.select('table.tbl_data>tbody > tr> td:nth-of-type(5)')\n",
    "\n",
    "\n",
    "print(a)\n",
    "# td:nth-of-type(1) ~ td:nth-of-type(n)\n",
    "#article > div:nth-child(2) > div > table > tbody > tr:nth-child(1) > td:nth-child(1)\n",
    "li1=[[0 for _ in range(5)] for _ in range(5)]\n",
    "\n",
    "for i in range(5):\n",
    "    for j in range(5):\n",
    "        li1[j][i] = soup_select(i+1,j)\n",
    "li1[0]"
   ]
  },
  {
   "cell_type": "code",
   "execution_count": 145,
   "metadata": {},
   "outputs": [
    {
     "name": "stdout",
     "output_type": "stream",
     "text": [
      "1등\n",
      "25,758,510,382원\n",
      "11\n",
      "2,341,682,762원\n",
      "당첨번호 6개 숫자일치\n"
     ]
    },
    {
     "data": {
      "text/plain": [
       "[['1등', '25,758,510,382원', '11', '2,341,682,762원', '당첨번호 6개 숫자일치'],\n",
       " ['2등', '4,293,085,104원', '108', '39,750,788원', '당첨번호 5개 숫자일치+보너스 숫자일치'],\n",
       " ['3등', '4,293,085,720원', '2,926', '1,467,220원', '당첨번호 5개 숫자일치'],\n",
       " ['4등', '7,408,900,000원', '148,178', '50,000원', '당첨번호 4개 숫자일치'],\n",
       " ['5등', '12,029,150,000원', '2,405,830', '5,000원', '당첨번호 3개 숫자일치']]"
      ]
     },
     "execution_count": 145,
     "metadata": {},
     "output_type": "execute_result"
    }
   ],
   "source": [
    "print(li1[0][0])\n",
    "print(li1[0][1])\n",
    "print(li1[0][2])\n",
    "print(li1[0][3])\n",
    "print(li1[0][4])\n",
    "li1"
   ]
  },
  {
   "cell_type": "code",
   "execution_count": 100,
   "metadata": {},
   "outputs": [
    {
     "data": {
      "text/plain": [
       "<td>1등</td>"
      ]
     },
     "execution_count": 100,
     "metadata": {},
     "output_type": "execute_result"
    }
   ],
   "source": [
    "li1[0].select('td')[0]"
   ]
  },
  {
   "cell_type": "code",
   "execution_count": 85,
   "metadata": {},
   "outputs": [
    {
     "name": "stdout",
     "output_type": "stream",
     "text": [
      "1등\n",
      "----------------------------------------------------------------------------------------------------\n",
      "25,758,510,382원\n",
      "----------------------------------------------------------------------------------------------------\n",
      "11\n",
      "----------------------------------------------------------------------------------------------------\n",
      "2,341,682,762원\n",
      "----------------------------------------------------------------------------------------------------\n",
      "당첨번호 6개 숫자일치\n",
      "----------------------------------------------------------------------------------------------------\n",
      "1등\n",
      "                                 \n",
      "\t\t\t\t\t\t\t\t\t자동5\n",
      "                                 \n",
      "                                 \n",
      "                                 \t수동5\n",
      "                                 \n",
      "\t\t\t\t\t\t\t\t \n",
      "\t\t\t\t\t\t\t\t\t반자동1\n",
      "----------------------------------------------------------------------------------------------------\n",
      "2등\n",
      "----------------------------------------------------------------------------------------------------\n",
      "4,293,085,104원\n",
      "----------------------------------------------------------------------------------------------------\n",
      "108\n",
      "----------------------------------------------------------------------------------------------------\n",
      "39,750,788원\n",
      "----------------------------------------------------------------------------------------------------\n",
      "당첨번호 5개 숫자일치+보너스 숫자일치\n",
      "----------------------------------------------------------------------------------------------------\n",
      "3등\n",
      "----------------------------------------------------------------------------------------------------\n",
      "4,293,085,720원\n",
      "----------------------------------------------------------------------------------------------------\n",
      "2,926\n",
      "----------------------------------------------------------------------------------------------------\n",
      "1,467,220원\n",
      "----------------------------------------------------------------------------------------------------\n",
      "당첨번호 5개 숫자일치\n",
      "----------------------------------------------------------------------------------------------------\n",
      "4등\n",
      "----------------------------------------------------------------------------------------------------\n",
      "7,408,900,000원\n",
      "----------------------------------------------------------------------------------------------------\n",
      "148,178\n",
      "----------------------------------------------------------------------------------------------------\n",
      "50,000원\n",
      "----------------------------------------------------------------------------------------------------\n",
      "당첨번호 4개 숫자일치\n",
      "----------------------------------------------------------------------------------------------------\n",
      "5등\n",
      "----------------------------------------------------------------------------------------------------\n",
      "12,029,150,000원\n",
      "----------------------------------------------------------------------------------------------------\n",
      "2,405,830\n",
      "----------------------------------------------------------------------------------------------------\n",
      "5,000원\n",
      "----------------------------------------------------------------------------------------------------\n",
      "당첨번호 3개 숫자일치\n",
      "----------------------------------------------------------------------------------------------------\n"
     ]
    }
   ],
   "source": [
    "## 회차, 순위, 순위별 총 당첨금액, 당첨자 수, 개별 당첨금액 리스트 담아서 출력\n",
    "score = soup.select('tbody > tr > td')\n",
    "li = []\n",
    "for i in score:\n",
    "    li.append(i.get_text())\n",
    "    print(i.get_text().strip(), sep='\\t')\n",
    "    print(\"----------------------------------------------------------------------------------------------------\")"
   ]
  },
  {
   "cell_type": "code",
   "execution_count": 87,
   "metadata": {},
   "outputs": [
    {
     "data": {
      "text/plain": [
       "'1등'"
      ]
     },
     "execution_count": 87,
     "metadata": {},
     "output_type": "execute_result"
    }
   ],
   "source": [
    "li[0]"
   ]
  },
  {
   "cell_type": "code",
   "execution_count": null,
   "metadata": {},
   "outputs": [],
   "source": []
  }
 ],
 "metadata": {
  "kernelspec": {
   "display_name": "Python 3 (ipykernel)",
   "language": "python",
   "name": "python3"
  },
  "language_info": {
   "codemirror_mode": {
    "name": "ipython",
    "version": 3
   },
   "file_extension": ".py",
   "mimetype": "text/x-python",
   "name": "python",
   "nbconvert_exporter": "python",
   "pygments_lexer": "ipython3",
   "version": "3.7.13"
  }
 },
 "nbformat": 4,
 "nbformat_minor": 2
}
