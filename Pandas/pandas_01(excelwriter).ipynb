{
 "cells": [
  {
   "cell_type": "code",
   "execution_count": 20,
   "metadata": {},
   "outputs": [],
   "source": [
    "import pandas as pd\n",
    "from matplotlib import pyplot as plt\n",
    "from pandas import DataFrame"
   ]
  },
  {
   "cell_type": "code",
   "execution_count": 8,
   "metadata": {},
   "outputs": [],
   "source": [
    "def korean_font():\n",
    "    plt.rc('font', family='AppleGothic')\n",
    "    plt.rcParams['axes.unicode_minus'] = False"
   ]
  },
  {
   "cell_type": "code",
   "execution_count": 18,
   "metadata": {},
   "outputs": [],
   "source": [
    "def pandas_basic():\n",
    "    df = pd.read_csv('/Users/heewonkim/Desktop/createProgram/crawling/test.csv', sep=',')\n",
    "    print(df)\n",
    "    print(type(df))\n",
    "    ax = df.plot(kind='bar')\n",
    "    ax.set_title('학생 성적표',fontsize = 16)\n",
    "    ax.set_xlabel('학생 이름')\n",
    "    ax.set_ylabel('각과목 점수')\n",
    "    #ax.legend(loc='center')\n",
    "    plt.show()"
   ]
  },
  {
   "cell_type": "code",
   "execution_count": 23,
   "metadata": {},
   "outputs": [],
   "source": [
    "def xml_writer():\n",
    "    df = DataFrame({'온도':[20.2,32.2,34.5,14.7]})\n",
    "    writer = pd.ExcelWriter('pd_writer.xlsx',engine='xlsxwriter')\n",
    "    df.to_excel(writer,sheet_name='Sheet1')\n",
    "    writer.close()"
   ]
  },
  {
   "cell_type": "code",
   "execution_count": 38,
   "metadata": {},
   "outputs": [],
   "source": [
    "def xml_writer2():\n",
    "    temp = [20.2,32.2,34.5,14.7,12,14,33,23,21,21.4,15,7]\n",
    "    df = DataFrame({'온도':temp})\n",
    "    writer = pd.ExcelWriter('pd_writer.xlsx',engine='xlsxwriter')\n",
    "    df.to_excel(writer,sheet_name='Sheet1')\n",
    "    workbook = writer.book\n",
    "    worksheet = writer.sheets['Sheet1']\n",
    "    # chart 객체 생성\n",
    "    chart = workbook.add_chart({'type':'column'})\n",
    "    # 차트에 출력할 데이터 선택\n",
    "    chart.add_series({'values':f'=Sheet1!$B$2:$B${len(temp)+1}'})\n",
    "    # 특정 위치에 차트 추가\n",
    "    worksheet.insert_chart('D2',chart)\n",
    "    \n",
    "    writer.close()"
   ]
  },
  {
   "cell_type": "markdown",
   "metadata": {},
   "source": [
    "#### ㅇㅇ#####"
   ]
  },
  {
   "cell_type": "code",
   "execution_count": 66,
   "metadata": {},
   "outputs": [],
   "source": [
    "# 이름, 전화번호, 성별, 나이, 주소, 직업\n",
    "# 데이터 3개를 가지는 dataFrame 생성\n",
    "# excel에 저장 및 차트 추가\n",
    "def xml_writer3():\n",
    "    name = [20.2,32.2,34.5,14.7]\n",
    "    tel = ['010-2021-0212','010-2123-5755','010-7574-6343','010-4336-2346']\n",
    "    gend = ['남','남','여','여']\n",
    "    age = [12,13,56,13]\n",
    "    add = ['대구시','서울시','광주시','경기도']\n",
    "    job = ['의사','판사','변호사','교사']\n",
    "    \n",
    "    df = DataFrame({'이름':name,\n",
    "                     '전화번호':tel,\n",
    "                     '성별':gend,\n",
    "                     '나이':age,\n",
    "                     '주소':add,\n",
    "                     '직업':job})\n",
    "    \n",
    "    writer = pd.ExcelWriter('pd_writer.xlsx',engine='xlsxwriter')\n",
    "    df.to_excel(writer,sheet_name='Sheet1')\n",
    "    workbook = writer.book\n",
    "    worksheet = writer.sheets['Sheet1']\n",
    "    # chart 객체 생성\n",
    "    chart = workbook.add_chart({'type':'column'})\n",
    "    # 차트에 출력할 데이터 선택\n",
    "    chart.add_series({'values':f'=Sheet1!$B$2:$B${len(name)+1}'})\n",
    "    # 특정 위치에 차트 추가\n",
    "    worksheet.insert_chart('A7',chart)\n",
    "    \n",
    "    writer.close()"
   ]
  },
  {
   "cell_type": "code",
   "execution_count": 67,
   "metadata": {},
   "outputs": [],
   "source": [
    "if __name__ == '__main__':\n",
    "    korean_font()\n",
    "    #pandas_basic()\n",
    "    xml_writer3()"
   ]
  },
  {
   "cell_type": "code",
   "execution_count": null,
   "metadata": {},
   "outputs": [],
   "source": []
  },
  {
   "cell_type": "code",
   "execution_count": null,
   "metadata": {},
   "outputs": [],
   "source": []
  },
  {
   "cell_type": "code",
   "execution_count": null,
   "metadata": {},
   "outputs": [],
   "source": []
  },
  {
   "cell_type": "code",
   "execution_count": null,
   "metadata": {},
   "outputs": [],
   "source": []
  },
  {
   "cell_type": "code",
   "execution_count": null,
   "metadata": {},
   "outputs": [],
   "source": []
  }
 ],
 "metadata": {
  "kernelspec": {
   "display_name": "Python 3 (ipykernel)",
   "language": "python",
   "name": "python3"
  },
  "language_info": {
   "codemirror_mode": {
    "name": "ipython",
    "version": 3
   },
   "file_extension": ".py",
   "mimetype": "text/x-python",
   "name": "python",
   "nbconvert_exporter": "python",
   "pygments_lexer": "ipython3",
   "version": "3.7.13"
  }
 },
 "nbformat": 4,
 "nbformat_minor": 2
}
