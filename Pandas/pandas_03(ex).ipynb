{
 "cells": [
  {
   "cell_type": "code",
   "execution_count": 61,
   "metadata": {},
   "outputs": [],
   "source": [
    "import pandas as pd\n",
    "from matplotlib import pyplot as plt\n",
    "from pandas import DataFrame\n",
    "import numpy as np\n",
    "def korean_font():\n",
    "    plt.rc('font', family='AppleGothic')\n",
    "    plt.rcParams['axes.unicode_minus'] = False"
   ]
  },
  {
   "cell_type": "code",
   "execution_count": 13,
   "metadata": {},
   "outputs": [],
   "source": [
    "\n",
    "def frame_slicing():\n",
    "    dic ={\n",
    "        'a': [1,2,3,4],\n",
    "        'b': [4,5,6,7],\n",
    "        'c': ['a','b','c','d']}\n",
    "    df = pd.DataFrame(dic)\n",
    "    print(df.c)\n",
    "    print(df['c']); print(type(df['c']))\n",
    "    \n",
    "    print(df.loc[:,'a':'c'])\n",
    "    print(df.iloc[:,:2])"
   ]
  },
  {
   "cell_type": "markdown",
   "metadata": {},
   "source": [
    "### 1. b 컬럼의 데이터 출력\n",
    "### 2. a ~ b 컬럼의 데이터 출력\n",
    "### 3. row:0~1, col:a,c 만 출력"
   ]
  },
  {
   "cell_type": "code",
   "execution_count": 62,
   "metadata": {},
   "outputs": [],
   "source": [
    "def frame_slicing_ex():\n",
    "    dic ={\n",
    "        'a': [1,2,3,4],\n",
    "        'b': [4,5,6,7],\n",
    "        'c': ['a','b','c','d']}\n",
    "    df = pd.DataFrame(dic)\n",
    "    #1.\n",
    "    print(df.loc[:,['b']])\n",
    "    #2.\n",
    "    print(df.loc[:,'a':'b'])\n",
    "    print(df.iloc[0:2,0:2])\n",
    "    print()\n",
    "    print(df[['a','b']])\n",
    "    \n",
    "    #3.\n",
    "    print(df.loc[1:2,['a','c']])\n",
    "    print(df.iloc[[0,1],[0,2]])\n",
    "    print(df.iloc[:2,::2])\n",
    "    \n",
    "\n",
    "    "
   ]
  },
  {
   "cell_type": "code",
   "execution_count": 85,
   "metadata": {},
   "outputs": [],
   "source": [
    "def frame_slicing_ex2():\n",
    "    dic ={\n",
    "        'a': [1,2,3,4],\n",
    "        'b': [4,5,6,7],\n",
    "        'c': ['a','b','c','d']}\n",
    "    df = pd.DataFrame(dic)\n",
    "    \n",
    "        # c 컬럼에서 a와 같은 행 정보 출력\n",
    "#     print(df[df['c']]=='a')\n",
    "#     print(df.iloc[np.where(df['c']=='a')])\n",
    "    # 1. c컬럼에서 a와 같은 정보행 출력하되, 컬럼 a정보만 출력\n",
    "    print(df.iloc[np.where(df['c']=='a')].loc[:,'a'])\n",
    "    # 2. c컬럼에서 a와 같은 정보행 출력하되, 컬럼 a,b 출력\n",
    "    print(df.iloc[np.where(df['c']=='a')].iloc[:,0:2])\n",
    "    # 3. c컬럼에서 a와 같은 정보행 출력하되, 컬럼 a,c 출력\n",
    "    print(df.iloc[np.where(df['c']=='a')].loc[:,['a','c']])\n",
    "    print(np.where(df['c']=='d'))"
   ]
  },
  {
   "cell_type": "code",
   "execution_count": 86,
   "metadata": {},
   "outputs": [
    {
     "name": "stdout",
     "output_type": "stream",
     "text": [
      "0    1\n",
      "Name: a, dtype: int64\n",
      "   a  b\n",
      "0  1  4\n",
      "   a  c\n",
      "0  1  a\n",
      "(array([3]),)\n"
     ]
    }
   ],
   "source": [
    "if __name__ == '__main__':\n",
    "    #frame_slicing()    \n",
    "    #frame_slicing_ex()\n",
    "    frame_slicing_ex2()    "
   ]
  },
  {
   "cell_type": "code",
   "execution_count": null,
   "metadata": {},
   "outputs": [],
   "source": []
  },
  {
   "cell_type": "code",
   "execution_count": null,
   "metadata": {},
   "outputs": [],
   "source": []
  },
  {
   "cell_type": "code",
   "execution_count": null,
   "metadata": {},
   "outputs": [],
   "source": []
  },
  {
   "cell_type": "code",
   "execution_count": null,
   "metadata": {},
   "outputs": [],
   "source": []
  },
  {
   "cell_type": "code",
   "execution_count": null,
   "metadata": {},
   "outputs": [],
   "source": []
  },
  {
   "cell_type": "code",
   "execution_count": null,
   "metadata": {},
   "outputs": [],
   "source": []
  },
  {
   "cell_type": "code",
   "execution_count": null,
   "metadata": {},
   "outputs": [],
   "source": []
  }
 ],
 "metadata": {
  "kernelspec": {
   "display_name": "Python 3 (ipykernel)",
   "language": "python",
   "name": "python3"
  },
  "language_info": {
   "codemirror_mode": {
    "name": "ipython",
    "version": 3
   },
   "file_extension": ".py",
   "mimetype": "text/x-python",
   "name": "python",
   "nbconvert_exporter": "python",
   "pygments_lexer": "ipython3",
   "version": "3.7.13"
  }
 },
 "nbformat": 4,
 "nbformat_minor": 2
}
