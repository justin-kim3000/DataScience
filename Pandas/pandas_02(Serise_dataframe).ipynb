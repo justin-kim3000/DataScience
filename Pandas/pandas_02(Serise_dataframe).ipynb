{
 "cells": [
  {
   "cell_type": "code",
   "execution_count": 1,
   "metadata": {},
   "outputs": [],
   "source": [
    "import pandas as pd\n",
    "from matplotlib import pyplot as plt\n",
    "from pandas import DataFrame"
   ]
  },
  {
   "cell_type": "code",
   "execution_count": 2,
   "metadata": {},
   "outputs": [],
   "source": [
    "def korean_font():\n",
    "    plt.rc('font', family='AppleGothic')\n",
    "    plt.rcParams['axes.unicode_minus'] = False"
   ]
  },
  {
   "cell_type": "markdown",
   "metadata": {},
   "source": [
    "## 스칼라: 상수, vector:1차원, matrix:2차원, tensor:3차원 이상\n",
    "### series: vector, dataFrame: matrix"
   ]
  },
  {
   "cell_type": "code",
   "execution_count": 36,
   "metadata": {},
   "outputs": [],
   "source": [
    "def serise_pa():\n",
    "    # 2015년도 각 도시의 인구\n",
    "    s = pd.Series([131313,131213,124112,121123],\n",
    "                 index=['서울','부산','인천','대구'])\n",
    "#     print(s)\n",
    "#     print(s.values)\n",
    "#     print('벡터화 연산: \\n', s/10000)\n",
    "#     print(f's[1]:{s[1]},s[\"부산\"]:{s[\"부산\"]}')\n",
    "    # 부분 인덱싱\n",
    "#     s_idx = s[[0,3,1]]\n",
    "#     print(s_idx)\n",
    "#     s_idx2 = s[['서울','대구']]    \n",
    "#     print(s_idx2)\n",
    "#     print()\n",
    "    # slicing\n",
    "#     print(s[1:3])\n",
    "#     print(s[1:-1])          \n",
    "#     print(s[::-1])\n",
    "#     print(s[::3])\n",
    "    # 객체처럼 . 으로 접근\n",
    "    print(f'대구:{s.대구} 부산:{s.부산}')\n",
    "    print('서울 검색', '서울' in s)\n",
    "    \n",
    "    for key,value in s.items():\n",
    "        print(f'key:{key}, value: {value}')"
   ]
  },
  {
   "cell_type": "code",
   "execution_count": 75,
   "metadata": {},
   "outputs": [],
   "source": [
    "def frame_pd():\n",
    "    data = {\n",
    "        '2015':[131313,131213,124112,121123],\n",
    "        '2016':[921313,211213,354112,341223],\n",
    "        '2017':[141313,641213,654112,341523],\n",
    "        '2018':[891313,891213,864112,561123],\n",
    "        '지역':['수도권','경기도','충청도','전라도'],\n",
    "        '2015~2018증가율':[0.022,0.031,0.042,0.033]\n",
    "    }\n",
    "    index = ['서울','대구','천안','광주']\n",
    "    df = pd.DataFrame(data, index=index)\n",
    "    df['2015~2018증가율']=df['2015~2018증가율']*100\n",
    "    df['2017~2018증가율']=(df['2018']-df['2017'])/df['2017']*100\n",
    "    \n",
    "    #print(type(df))\n",
    "    #print(type(df['지역']))#Serise\n",
    "    #print(df['지역'])#DataFrame\n",
    "    #print(df[['지역']])#DataFrame\n",
    "    #print(df.values)\n",
    "    \n",
    "    # loc:컬럼명, ilco:인덱스\n",
    "    #print(df.loc['서울'])\n",
    "    #print(df.loc['서울'].values)\n",
    "    #print(df.loc['서울']['2018'])\n",
    "    #print(df.iloc[0])\n",
    "    \n",
    "    # 전치행렬\n",
    "    print(df)\n",
    "    print(df.T)"
   ]
  },
  {
   "cell_type": "markdown",
   "metadata": {},
   "source": [
    "## Ex_1_frame\n",
    "    # columns = 국어, 영어, 수학\n",
    "    # 4명(춘향, 몽룡, 향단, 방자)의 점수를 임으로 설정하고,\n",
    "    # 1. 모든 학생의 수학 점수 출력\n",
    "    # 2. 모든 학생의 국어, 영어 점수 출력\n",
    "    # 3. 모든 학생의 각 과목 평균 점수를 새로운 컬럼에 추가\n",
    "    # 4. 방자의 영어 점수를 80점으로 수정하고 평균 점수 새로 계산하여 출력"
   ]
  },
  {
   "cell_type": "code",
   "execution_count": 106,
   "metadata": {},
   "outputs": [],
   "source": [
    "def ex_1_frame():\n",
    "    data = {\n",
    "        '국어':[80,76,57,97],\n",
    "        '영어':[70,34,54,75],\n",
    "        '수학':[80,56,78,89]\n",
    "    }\n",
    "    index = ['춘향','몽룡','향단','방자']\n",
    "    df = pd.DataFrame(data,index=index)\n",
    "    print(df['수학'])\n",
    "    print(df.loc[:,'수학'])\n",
    "    \n",
    "    print(df.loc[:,['국어','영어']])\n",
    "    df['평균점수'] = round((df['국어']+df['영어']+df['수학'])/3,2)\n",
    "#    df['평균점수'] = round((df.mean(axis=1),2)\n",
    "    \n",
    "    print(df)\n",
    "    \n",
    "    df.loc['방자','영어']=80\n",
    "    print(df)\n",
    "    "
   ]
  },
  {
   "cell_type": "code",
   "execution_count": 107,
   "metadata": {},
   "outputs": [
    {
     "name": "stdout",
     "output_type": "stream",
     "text": [
      "춘향    80\n",
      "몽룡    56\n",
      "향단    78\n",
      "방자    89\n",
      "Name: 수학, dtype: int64\n",
      "춘향    80\n",
      "몽룡    56\n",
      "향단    78\n",
      "방자    89\n",
      "Name: 수학, dtype: int64\n",
      "    국어  영어\n",
      "춘향  80  70\n",
      "몽룡  76  34\n",
      "향단  57  54\n",
      "방자  97  75\n",
      "    국어  영어  수학   평균점수\n",
      "춘향  80  70  80  76.67\n",
      "몽룡  76  34  56  55.33\n",
      "향단  57  54  78  63.00\n",
      "방자  97  75  89  87.00\n",
      "    국어  영어  수학   평균점수\n",
      "춘향  80  70  80  76.67\n",
      "몽룡  76  34  56  55.33\n",
      "향단  57  54  78  63.00\n",
      "방자  97  80  89  87.00\n"
     ]
    }
   ],
   "source": [
    "if __name__ =='__main__':\n",
    "    #serise_pa()\n",
    "    #frame_pd()\n",
    "    ex_1_frame()"
   ]
  },
  {
   "cell_type": "code",
   "execution_count": null,
   "metadata": {},
   "outputs": [],
   "source": []
  },
  {
   "cell_type": "code",
   "execution_count": null,
   "metadata": {},
   "outputs": [],
   "source": []
  },
  {
   "cell_type": "code",
   "execution_count": null,
   "metadata": {},
   "outputs": [],
   "source": []
  },
  {
   "cell_type": "code",
   "execution_count": null,
   "metadata": {},
   "outputs": [],
   "source": []
  },
  {
   "cell_type": "code",
   "execution_count": null,
   "metadata": {},
   "outputs": [],
   "source": []
  },
  {
   "cell_type": "code",
   "execution_count": null,
   "metadata": {},
   "outputs": [],
   "source": []
  }
 ],
 "metadata": {
  "kernelspec": {
   "display_name": "Python 3 (ipykernel)",
   "language": "python",
   "name": "python3"
  },
  "language_info": {
   "codemirror_mode": {
    "name": "ipython",
    "version": 3
   },
   "file_extension": ".py",
   "mimetype": "text/x-python",
   "name": "python",
   "nbconvert_exporter": "python",
   "pygments_lexer": "ipython3",
   "version": "3.7.13"
  }
 },
 "nbformat": 4,
 "nbformat_minor": 2
}
