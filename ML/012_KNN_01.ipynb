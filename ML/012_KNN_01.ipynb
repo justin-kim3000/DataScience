{
  "nbformat": 4,
  "nbformat_minor": 0,
  "metadata": {
    "colab": {
      "provenance": []
    },
    "kernelspec": {
      "name": "python3",
      "display_name": "Python 3"
    },
    "language_info": {
      "name": "python"
    }
  },
  "cells": [
    {
      "cell_type": "code",
      "execution_count": null,
      "metadata": {
        "id": "GIHiU9RHZqgE"
      },
      "outputs": [],
      "source": [
        "# !sudo apt-get install -y fonts-nanum\n",
        "# !sudo fc-cache -fv\n",
        "# !rm ~/.cache/matplotlib -rf"
      ]
    },
    {
      "cell_type": "code",
      "source": [
        "import numpy as np\n",
        "import pandas as pd\n",
        "import matplotlib.pyplot as plt\n",
        "import matplotlib as mpl\n",
        "import seaborn as sns\n",
        "from sklearn.datasets import load_iris\n",
        "from sklearn.model_selection import train_test_split\n",
        "from sklearn.neighbors import KNeighborsClassifier"
      ],
      "metadata": {
        "id": "dN80Kivpasnh"
      },
      "execution_count": 8,
      "outputs": []
    },
    {
      "cell_type": "code",
      "source": [
        "iris_df = load_iris()\n",
        "X = iris_df.data\n",
        "target = iris_df.target"
      ],
      "metadata": {
        "id": "WOs2r3ijZvco"
      },
      "execution_count": 4,
      "outputs": []
    },
    {
      "cell_type": "code",
      "source": [
        "X_train, X_test, y_train, y_test = train_test_split(X, target, test_size= 0.3, random_state=20)\n",
        "pd.DataFrame(X_train).head()"
      ],
      "metadata": {
        "colab": {
          "base_uri": "https://localhost:8080/",
          "height": 206
        },
        "id": "4NtbKfowaNrO",
        "outputId": "f60b49aa-8085-4856-db05-71d36b11ad64"
      },
      "execution_count": 11,
      "outputs": [
        {
          "output_type": "execute_result",
          "data": {
            "text/plain": [
              "     0    1    2    3\n",
              "0  4.7  3.2  1.3  0.2\n",
              "1  5.4  3.9  1.7  0.4\n",
              "2  5.0  3.3  1.4  0.2\n",
              "3  5.7  2.5  5.0  2.0\n",
              "4  5.1  3.8  1.9  0.4"
            ],
            "text/html": [
              "\n",
              "  <div id=\"df-2369d3ca-db58-4a8e-8db5-d0172c94e532\">\n",
              "    <div class=\"colab-df-container\">\n",
              "      <div>\n",
              "<style scoped>\n",
              "    .dataframe tbody tr th:only-of-type {\n",
              "        vertical-align: middle;\n",
              "    }\n",
              "\n",
              "    .dataframe tbody tr th {\n",
              "        vertical-align: top;\n",
              "    }\n",
              "\n",
              "    .dataframe thead th {\n",
              "        text-align: right;\n",
              "    }\n",
              "</style>\n",
              "<table border=\"1\" class=\"dataframe\">\n",
              "  <thead>\n",
              "    <tr style=\"text-align: right;\">\n",
              "      <th></th>\n",
              "      <th>0</th>\n",
              "      <th>1</th>\n",
              "      <th>2</th>\n",
              "      <th>3</th>\n",
              "    </tr>\n",
              "  </thead>\n",
              "  <tbody>\n",
              "    <tr>\n",
              "      <th>0</th>\n",
              "      <td>4.7</td>\n",
              "      <td>3.2</td>\n",
              "      <td>1.3</td>\n",
              "      <td>0.2</td>\n",
              "    </tr>\n",
              "    <tr>\n",
              "      <th>1</th>\n",
              "      <td>5.4</td>\n",
              "      <td>3.9</td>\n",
              "      <td>1.7</td>\n",
              "      <td>0.4</td>\n",
              "    </tr>\n",
              "    <tr>\n",
              "      <th>2</th>\n",
              "      <td>5.0</td>\n",
              "      <td>3.3</td>\n",
              "      <td>1.4</td>\n",
              "      <td>0.2</td>\n",
              "    </tr>\n",
              "    <tr>\n",
              "      <th>3</th>\n",
              "      <td>5.7</td>\n",
              "      <td>2.5</td>\n",
              "      <td>5.0</td>\n",
              "      <td>2.0</td>\n",
              "    </tr>\n",
              "    <tr>\n",
              "      <th>4</th>\n",
              "      <td>5.1</td>\n",
              "      <td>3.8</td>\n",
              "      <td>1.9</td>\n",
              "      <td>0.4</td>\n",
              "    </tr>\n",
              "  </tbody>\n",
              "</table>\n",
              "</div>\n",
              "      <button class=\"colab-df-convert\" onclick=\"convertToInteractive('df-2369d3ca-db58-4a8e-8db5-d0172c94e532')\"\n",
              "              title=\"Convert this dataframe to an interactive table.\"\n",
              "              style=\"display:none;\">\n",
              "        \n",
              "  <svg xmlns=\"http://www.w3.org/2000/svg\" height=\"24px\"viewBox=\"0 0 24 24\"\n",
              "       width=\"24px\">\n",
              "    <path d=\"M0 0h24v24H0V0z\" fill=\"none\"/>\n",
              "    <path d=\"M18.56 5.44l.94 2.06.94-2.06 2.06-.94-2.06-.94-.94-2.06-.94 2.06-2.06.94zm-11 1L8.5 8.5l.94-2.06 2.06-.94-2.06-.94L8.5 2.5l-.94 2.06-2.06.94zm10 10l.94 2.06.94-2.06 2.06-.94-2.06-.94-.94-2.06-.94 2.06-2.06.94z\"/><path d=\"M17.41 7.96l-1.37-1.37c-.4-.4-.92-.59-1.43-.59-.52 0-1.04.2-1.43.59L10.3 9.45l-7.72 7.72c-.78.78-.78 2.05 0 2.83L4 21.41c.39.39.9.59 1.41.59.51 0 1.02-.2 1.41-.59l7.78-7.78 2.81-2.81c.8-.78.8-2.07 0-2.86zM5.41 20L4 18.59l7.72-7.72 1.47 1.35L5.41 20z\"/>\n",
              "  </svg>\n",
              "      </button>\n",
              "      \n",
              "  <style>\n",
              "    .colab-df-container {\n",
              "      display:flex;\n",
              "      flex-wrap:wrap;\n",
              "      gap: 12px;\n",
              "    }\n",
              "\n",
              "    .colab-df-convert {\n",
              "      background-color: #E8F0FE;\n",
              "      border: none;\n",
              "      border-radius: 50%;\n",
              "      cursor: pointer;\n",
              "      display: none;\n",
              "      fill: #1967D2;\n",
              "      height: 32px;\n",
              "      padding: 0 0 0 0;\n",
              "      width: 32px;\n",
              "    }\n",
              "\n",
              "    .colab-df-convert:hover {\n",
              "      background-color: #E2EBFA;\n",
              "      box-shadow: 0px 1px 2px rgba(60, 64, 67, 0.3), 0px 1px 3px 1px rgba(60, 64, 67, 0.15);\n",
              "      fill: #174EA6;\n",
              "    }\n",
              "\n",
              "    [theme=dark] .colab-df-convert {\n",
              "      background-color: #3B4455;\n",
              "      fill: #D2E3FC;\n",
              "    }\n",
              "\n",
              "    [theme=dark] .colab-df-convert:hover {\n",
              "      background-color: #434B5C;\n",
              "      box-shadow: 0px 1px 3px 1px rgba(0, 0, 0, 0.15);\n",
              "      filter: drop-shadow(0px 1px 2px rgba(0, 0, 0, 0.3));\n",
              "      fill: #FFFFFF;\n",
              "    }\n",
              "  </style>\n",
              "\n",
              "      <script>\n",
              "        const buttonEl =\n",
              "          document.querySelector('#df-2369d3ca-db58-4a8e-8db5-d0172c94e532 button.colab-df-convert');\n",
              "        buttonEl.style.display =\n",
              "          google.colab.kernel.accessAllowed ? 'block' : 'none';\n",
              "\n",
              "        async function convertToInteractive(key) {\n",
              "          const element = document.querySelector('#df-2369d3ca-db58-4a8e-8db5-d0172c94e532');\n",
              "          const dataTable =\n",
              "            await google.colab.kernel.invokeFunction('convertToInteractive',\n",
              "                                                     [key], {});\n",
              "          if (!dataTable) return;\n",
              "\n",
              "          const docLinkHtml = 'Like what you see? Visit the ' +\n",
              "            '<a target=\"_blank\" href=https://colab.research.google.com/notebooks/data_table.ipynb>data table notebook</a>'\n",
              "            + ' to learn more about interactive tables.';\n",
              "          element.innerHTML = '';\n",
              "          dataTable['output_type'] = 'display_data';\n",
              "          await google.colab.output.renderOutput(dataTable, element);\n",
              "          const docLink = document.createElement('div');\n",
              "          docLink.innerHTML = docLinkHtml;\n",
              "          element.appendChild(docLink);\n",
              "        }\n",
              "      </script>\n",
              "    </div>\n",
              "  </div>\n",
              "  "
            ]
          },
          "metadata": {},
          "execution_count": 11
        }
      ]
    },
    {
      "cell_type": "code",
      "source": [
        "model = KNeighborsClassifier()\n",
        "model.fit(X_train, y_train)\n",
        "model.score(X_train,y_train)"
      ],
      "metadata": {
        "colab": {
          "base_uri": "https://localhost:8080/"
        },
        "id": "cHfuKK07aZ04",
        "outputId": "005b6033-bc75-4791-c56d-fa895b715238"
      },
      "execution_count": 15,
      "outputs": [
        {
          "output_type": "execute_result",
          "data": {
            "text/plain": [
              "0.9809523809523809"
            ]
          },
          "metadata": {},
          "execution_count": 15
        }
      ]
    },
    {
      "cell_type": "code",
      "source": [
        "x_pred = np.array([[5,3.2,5.1,1.8]])\n",
        "y_pred = model.predict(x_pred)\n",
        "iris_df['target_names'][y_pred]"
      ],
      "metadata": {
        "colab": {
          "base_uri": "https://localhost:8080/"
        },
        "id": "fWDNTxDrcTAg",
        "outputId": "ce56b395-03ea-442f-a4da-cfa6adfd54a4"
      },
      "execution_count": 16,
      "outputs": [
        {
          "output_type": "execute_result",
          "data": {
            "text/plain": [
              "array(['virginica'], dtype='<U10')"
            ]
          },
          "metadata": {},
          "execution_count": 16
        }
      ]
    },
    {
      "cell_type": "code",
      "source": [
        "y_pred = model.predict(X_test)\n",
        "for i in range(len(y_pred)):\n",
        "  y_pred2 = y_pred[i]\n",
        "  print(f'{X_test[i]}:{iris_df[\"target_names\"][y_pred2]}')\n",
        "\n",
        "model.score(X_test, y_test)"
      ],
      "metadata": {
        "colab": {
          "base_uri": "https://localhost:8080/"
        },
        "id": "I0GgwR_6c8KM",
        "outputId": "03709144-0441-44b7-93ac-d36343f5fb65"
      },
      "execution_count": 22,
      "outputs": [
        {
          "output_type": "stream",
          "name": "stdout",
          "text": [
            "[4.6 3.2 1.4 0.2]:setosa\n",
            "[6.1 2.8 4.7 1.2]:versicolor\n",
            "[6.4 2.9 4.3 1.3]:versicolor\n",
            "[7.2 3.  5.8 1.6]:virginica\n",
            "[5.8 2.7 4.1 1. ]:versicolor\n",
            "[5.5 2.5 4.  1.3]:versicolor\n",
            "[6.8 3.2 5.9 2.3]:virginica\n",
            "[5.1 3.7 1.5 0.4]:setosa\n",
            "[6.7 2.5 5.8 1.8]:virginica\n",
            "[4.8 3.  1.4 0.1]:setosa\n",
            "[6.5 3.  5.2 2. ]:virginica\n",
            "[6.8 2.8 4.8 1.4]:versicolor\n",
            "[6.  2.2 5.  1.5]:virginica\n",
            "[5.  3.2 1.2 0.2]:setosa\n",
            "[5.2 3.4 1.4 0.2]:setosa\n",
            "[7.7 2.8 6.7 2. ]:virginica\n",
            "[4.3 3.  1.1 0.1]:setosa\n",
            "[6.6 2.9 4.6 1.3]:versicolor\n",
            "[5.8 2.8 5.1 2.4]:virginica\n",
            "[4.9 2.4 3.3 1. ]:versicolor\n",
            "[7.  3.2 4.7 1.4]:versicolor\n",
            "[5.9 3.  5.1 1.8]:virginica\n",
            "[6.4 2.7 5.3 1.9]:virginica\n",
            "[5.4 3.4 1.7 0.2]:setosa\n",
            "[6.3 2.5 4.9 1.5]:virginica\n",
            "[5.5 2.4 3.7 1. ]:versicolor\n",
            "[5.1 2.5 3.  1.1]:versicolor\n",
            "[4.9 3.1 1.5 0.2]:setosa\n",
            "[6.5 3.  5.8 2.2]:virginica\n",
            "[6.3 2.8 5.1 1.5]:virginica\n",
            "[5.7 3.  4.2 1.2]:versicolor\n",
            "[5.6 3.  4.1 1.3]:versicolor\n",
            "[5.1 3.5 1.4 0.2]:setosa\n",
            "[5.1 3.8 1.6 0.2]:setosa\n",
            "[4.8 3.4 1.6 0.2]:setosa\n",
            "[4.9 2.5 4.5 1.7]:versicolor\n",
            "[6.  3.4 4.5 1.6]:versicolor\n",
            "[4.9 3.  1.4 0.2]:setosa\n",
            "[6.4 3.2 4.5 1.5]:versicolor\n",
            "[7.4 2.8 6.1 1.9]:virginica\n",
            "[5.7 2.8 4.5 1.3]:versicolor\n",
            "[6.1 2.6 5.6 1.4]:virginica\n",
            "[4.9 3.6 1.4 0.1]:setosa\n",
            "[6.7 3.1 4.4 1.4]:versicolor\n",
            "[6.3 3.3 4.7 1.6]:versicolor\n"
          ]
        },
        {
          "output_type": "execute_result",
          "data": {
            "text/plain": [
              "0.9555555555555556"
            ]
          },
          "metadata": {},
          "execution_count": 22
        }
      ]
    },
    {
      "cell_type": "code",
      "source": [],
      "metadata": {
        "id": "v6GvPq-ogmq3"
      },
      "execution_count": null,
      "outputs": []
    }
  ]
}