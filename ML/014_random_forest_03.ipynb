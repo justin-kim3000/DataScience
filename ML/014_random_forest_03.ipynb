{
  "nbformat": 4,
  "nbformat_minor": 0,
  "metadata": {
    "colab": {
      "provenance": []
    },
    "kernelspec": {
      "name": "python3",
      "display_name": "Python 3"
    },
    "language_info": {
      "name": "python"
    },
    "gpuClass": "standard"
  },
  "cells": [
    {
      "cell_type": "code",
      "execution_count": 1,
      "metadata": {
        "id": "ZWNegMFXn22b"
      },
      "outputs": [],
      "source": [
        "import pandas as pd\n",
        "import numpy as np\n",
        "import matplotlib.pyplot as plt\n",
        "from sklearn import datasets, metrics\n",
        "from sklearn.ensemble import RandomForestClassifier\n",
        "from sklearn.metrics import accuracy_score, roc_auc_score, confusion_matrix, classification_report\n",
        "from sklearn.model_selection import train_test_split, GridSearchCV\n",
        "from sklearn.preprocessing import StandardScaler"
      ]
    },
    {
      "cell_type": "code",
      "source": [
        "iris = datasets.load_iris()\n",
        "X = iris.data\n",
        "y = iris.target"
      ],
      "metadata": {
        "id": "AyegcW6pn6d4"
      },
      "execution_count": 2,
      "outputs": []
    },
    {
      "cell_type": "code",
      "source": [
        "X_train, X_test, y_train, y_test = train_test_split(X, y,\n",
        "                                                    test_size=0.3, random_state=20)"
      ],
      "metadata": {
        "id": "x9wK0TVCo_93"
      },
      "execution_count": 3,
      "outputs": []
    },
    {
      "cell_type": "markdown",
      "source": [
        "### 교차 검증!"
      ],
      "metadata": {
        "id": "bGvYCfKftHrd"
      }
    },
    {
      "cell_type": "code",
      "source": [
        "def RandTree_grid_search(X, y, kfolds=5):\n",
        "  rf_params = {\n",
        "      'n_estimators':[50, 80, 100],\n",
        "      'max_depth':[3, 5, 7, 9],\n",
        "      'min_samples_leaf':[1,3,5,8],\n",
        "      'max_features':[2,3,4]\n",
        "  }\n",
        "  dtmodel = RandomForestClassifier()\n",
        "  \n",
        "  # 교차 검증\n",
        "  dt_gscv = GridSearchCV(dtmodel, rf_params, cv=kfolds)\n",
        "  dt_gscv.fit(X, y)\n",
        "  return dt_gscv.best_params_, dt_gscv.best_score_"
      ],
      "metadata": {
        "id": "3kL4S81-tyFZ"
      },
      "execution_count": 25,
      "outputs": []
    },
    {
      "cell_type": "code",
      "source": [
        "bparam = RandTree_grid_search(X_train, y_train, 3)"
      ],
      "metadata": {
        "id": "AK8s8hyyussr"
      },
      "execution_count": 26,
      "outputs": []
    },
    {
      "cell_type": "code",
      "source": [
        "print('최적화: ', bparam[0])\n",
        "print('예측 성능: ', bparam[1])"
      ],
      "metadata": {
        "colab": {
          "base_uri": "https://localhost:8080/"
        },
        "id": "xlCmEq8U4ttZ",
        "outputId": "0f779682-599e-4fa6-87aa-4dfb069d68c8"
      },
      "execution_count": 27,
      "outputs": [
        {
          "output_type": "stream",
          "name": "stdout",
          "text": [
            "최적화:  {'max_depth': 3, 'max_features': 2, 'min_samples_leaf': 1, 'n_estimators': 80}\n",
            "예측 성능:  0.980952380952381\n"
          ]
        }
      ]
    },
    {
      "cell_type": "markdown",
      "source": [
        "# 적용"
      ],
      "metadata": {
        "id": "tLBPAIe05CuT"
      }
    },
    {
      "cell_type": "code",
      "source": [
        "# 최대 뎁스, 최대 사용 cpu수 -1\n",
        "model = RandomForestClassifier(max_depth = 3,max_features=2, min_samples_leaf=1,\n",
        "                               n_estimators=80, n_jobs=-1)"
      ],
      "metadata": {
        "id": "_q0Igspnqeqp"
      },
      "execution_count": 28,
      "outputs": []
    },
    {
      "cell_type": "code",
      "source": [
        "model.fit(X_train, y_train)\n",
        "y_pred = model.predict(X_test)\n",
        "print('정확도:',accuracy_score(y_test, y_pred))\n",
        "print('R2 score:', model.score(X_test,y_test))\n",
        "print('R2 score:', model.score(X_train,y_train))\n"
      ],
      "metadata": {
        "colab": {
          "base_uri": "https://localhost:8080/"
        },
        "id": "x9arSU9lqqq2",
        "outputId": "0b1cc657-62a7-4223-fb1d-1c4eb7077df7"
      },
      "execution_count": 33,
      "outputs": [
        {
          "output_type": "stream",
          "name": "stdout",
          "text": [
            "정확도: 0.8888888888888888\n",
            "R2 score: 0.8888888888888888\n",
            "R2 score: 0.9904761904761905\n"
          ]
        }
      ]
    },
    {
      "cell_type": "code",
      "source": [
        "feature_imp = pd.Series(model.feature_importances_, index=iris.feature_names).sort_values(ascending=False)"
      ],
      "metadata": {
        "id": "gJGSc2J8rLf_"
      },
      "execution_count": 23,
      "outputs": []
    },
    {
      "cell_type": "code",
      "source": [
        "import seaborn as sns"
      ],
      "metadata": {
        "id": "8_KhnqTusJse"
      },
      "execution_count": 19,
      "outputs": []
    },
    {
      "cell_type": "code",
      "source": [
        "sns.barplot(x=feature_imp, y=feature_imp.index)\n",
        "plt.xlabel('Feature Importance Score')\n",
        "plt.ylabel('Features')"
      ],
      "metadata": {
        "colab": {
          "base_uri": "https://localhost:8080/",
          "height": 296
        },
        "id": "vzW5ontUsSXf",
        "outputId": "e97b08fa-1c0d-422a-ec3c-7eb2b945ba7e"
      },
      "execution_count": 24,
      "outputs": [
        {
          "output_type": "execute_result",
          "data": {
            "text/plain": [
              "Text(0, 0.5, 'Features')"
            ]
          },
          "metadata": {},
          "execution_count": 24
        },
        {
          "output_type": "display_data",
          "data": {
            "text/plain": [
              "<Figure size 432x288 with 1 Axes>"
            ],
            "image/png": "[encoded data removed]"
          },
          "metadata": {
            "needs_background": "light"
          }
        }
      ]
    },
    {
      "cell_type": "code",
      "source": [],
      "metadata": {
        "id": "oy8TFuXTskMU"
      },
      "execution_count": 20,
      "outputs": []
    }
  ]
}