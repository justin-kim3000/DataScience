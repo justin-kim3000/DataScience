{
  "nbformat": 4,
  "nbformat_minor": 0,
  "metadata": {
    "colab": {
      "provenance": []
    },
    "kernelspec": {
      "name": "python3",
      "display_name": "Python 3"
    },
    "language_info": {
      "name": "python"
    }
  },
  "cells": [
    {
      "cell_type": "markdown",
      "source": [
        "### pandas.map"
      ],
      "metadata": {
        "id": "bcTzIqV7VRmo"
      }
    },
    {
      "cell_type": "code",
      "source": [
        "import pandas as pd\n",
        "from sklearn.preprocessing import LabelEncoder\n",
        "from sklearn.preprocessing import OneHotEncoder"
      ],
      "metadata": {
        "id": "J3h3MvrsU1zA"
      },
      "execution_count": null,
      "outputs": []
    },
    {
      "cell_type": "code",
      "execution_count": null,
      "metadata": {
        "colab": {
          "base_uri": "https://localhost:8080/"
        },
        "id": "j3JdbtHaUuZ_",
        "outputId": "7ff19c78-c1a3-4c6a-c463-5b0a6439f2ff"
      },
      "outputs": [
        {
          "output_type": "execute_result",
          "data": {
            "text/plain": [
              "0    0\n",
              "1    0\n",
              "2    1\n",
              "3    3\n",
              "4    1\n",
              "5    3\n",
              "6    2\n",
              "Name: 0, dtype: int64"
            ]
          },
          "metadata": {},
          "execution_count": 4
        }
      ],
      "source": [
        "item = ['TV','TV','냉장고','컴퓨터','냉장고','컴퓨터','에어컨']\n",
        "item_df = pd.DataFrame(item)\n",
        "item_df = item_df[0].map({'TV':0, '냉장고':1, '에어컨':2, '컴퓨터':3})\n",
        "item_df"
      ]
    },
    {
      "cell_type": "markdown",
      "source": [
        "### LabelEncoder"
      ],
      "metadata": {
        "id": "H-peDlRHXdfL"
      }
    },
    {
      "cell_type": "code",
      "source": [
        "item2 = ['TV','TV','냉장고','컴퓨터','냉장고','컴퓨터','에어컨']\n",
        "lbe = LabelEncoder()\n",
        "item2_lbe = lbe.fit_transform(pd.DataFrame(item2))\n",
        "\n",
        "print(item2_lbe)\n",
        "lbe.classes_\n"
      ],
      "metadata": {
        "colab": {
          "base_uri": "https://localhost:8080/"
        },
        "id": "9JfUxW03Vibb",
        "outputId": "1a38d31e-8e1b-44ed-e92b-192af3a4ec43"
      },
      "execution_count": null,
      "outputs": [
        {
          "output_type": "stream",
          "name": "stdout",
          "text": [
            "[0 0 1 3 1 3 2]\n"
          ]
        },
        {
          "output_type": "stream",
          "name": "stderr",
          "text": [
            "/usr/local/lib/python3.8/dist-packages/sklearn/preprocessing/_label.py:115: DataConversionWarning: A column-vector y was passed when a 1d array was expected. Please change the shape of y to (n_samples, ), for example using ravel().\n",
            "  y = column_or_1d(y, warn=True)\n"
          ]
        },
        {
          "output_type": "execute_result",
          "data": {
            "text/plain": [
              "array(['TV', '냉장고', '에어컨', '컴퓨터'], dtype=object)"
            ]
          },
          "metadata": {},
          "execution_count": 14
        }
      ]
    },
    {
      "cell_type": "markdown",
      "source": [
        "### OneHotEncoder"
      ],
      "metadata": {
        "id": "hEty7dA4XiJG"
      }
    },
    {
      "cell_type": "code",
      "source": [
        "item3 = ['TV','TV','냉장고','컴퓨터','냉장고','컴퓨터','에어컨']\n",
        "ohe = OneHotEncoder(sparse=False)\n",
        "item3_ohe = ohe.fit_transform(pd.DataFrame(item3))\n",
        "item3_ohe"
      ],
      "metadata": {
        "colab": {
          "base_uri": "https://localhost:8080/"
        },
        "id": "dQGEdLP_Vmv3",
        "outputId": "a25a3c4f-76e8-47fa-e1b5-f28969145762"
      },
      "execution_count": null,
      "outputs": [
        {
          "output_type": "execute_result",
          "data": {
            "text/plain": [
              "array([[1., 0., 0., 0.],\n",
              "       [1., 0., 0., 0.],\n",
              "       [0., 1., 0., 0.],\n",
              "       [0., 0., 0., 1.],\n",
              "       [0., 1., 0., 0.],\n",
              "       [0., 0., 0., 1.],\n",
              "       [0., 0., 1., 0.]])"
            ]
          },
          "metadata": {},
          "execution_count": 16
        }
      ]
    },
    {
      "cell_type": "code",
      "source": [],
      "metadata": {
        "id": "QhkB14ygYSCo"
      },
      "execution_count": null,
      "outputs": []
    }
  ]
}