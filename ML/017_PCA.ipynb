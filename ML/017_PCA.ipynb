{
  "nbformat": 4,
  "nbformat_minor": 0,
  "metadata": {
    "colab": {
      "provenance": []
    },
    "kernelspec": {
      "name": "python3",
      "display_name": "Python 3"
    },
    "language_info": {
      "name": "python"
    }
  },
  "cells": [
    {
      "cell_type": "code",
      "execution_count": 20,
      "metadata": {
        "id": "guHpVscW4Gxk"
      },
      "outputs": [],
      "source": [
        "import numpy as np\n",
        "import pandas as pd\n",
        "import matplotlib.pyplot as plt\n",
        "from sklearn import datasets\n",
        "from sklearn.preprocessing import StandardScaler\n",
        "from sklearn.model_selection import train_test_split\n",
        "from sklearn.decomposition import KernelPCA\n",
        "from sklearn.ensemble import RandomForestClassifier\n"
      ]
    },
    {
      "cell_type": "code",
      "source": [
        "wine = datasets.load_wine()\n",
        "X = wine.data\n",
        "y = wine.target"
      ],
      "metadata": {
        "id": "6_xJyWUK5mWZ"
      },
      "execution_count": 2,
      "outputs": []
    },
    {
      "cell_type": "code",
      "source": [
        "X_train, X_test, y_train, y_test = train_test_split(X,y, random_state=20)"
      ],
      "metadata": {
        "id": "A3fhSp8G5xcE"
      },
      "execution_count": 3,
      "outputs": []
    },
    {
      "cell_type": "code",
      "source": [
        "sc = StandardScaler()\n",
        "X_train_sc = sc.fit_transform(X_train)\n",
        "X_test_sc = sc.transform(X_test)\n",
        "\n",
        "print('축소전:', X_train_sc.shape)\n",
        "print(X_test_sc.shape)"
      ],
      "metadata": {
        "colab": {
          "base_uri": "https://localhost:8080/"
        },
        "id": "AsEXp_m-54GY",
        "outputId": "fa967784-3e60-4785-d12c-722aca77510c"
      },
      "execution_count": 12,
      "outputs": [
        {
          "output_type": "stream",
          "name": "stdout",
          "text": [
            "축소전: (133, 13)\n",
            "(45, 13)\n"
          ]
        }
      ]
    },
    {
      "cell_type": "code",
      "source": [
        "# kernel: 커널함수(비선형)을 이용하여 비선형 데이터를 고차원에 mapping\n",
        "k_pca = KernelPCA(n_components=2, kernel='poly')\n",
        "k_pca.fit(X_train_sc)\n",
        "X_train_kpca= k_pca.transform(X_train_sc)\n",
        "X_test_kpca= k_pca.transform(X_test_sc)\n",
        "print('축소후:', X_train_kpca.shape)\n",
        "print(X_test_kpca.shape)"
      ],
      "metadata": {
        "colab": {
          "base_uri": "https://localhost:8080/"
        },
        "id": "gp-zaTVL59tW",
        "outputId": "99d13e25-fb8b-4cda-985a-1748c9259829"
      },
      "execution_count": 13,
      "outputs": [
        {
          "output_type": "stream",
          "name": "stdout",
          "text": [
            "축소후: (133, 2)\n",
            "(45, 2)\n"
          ]
        }
      ]
    },
    {
      "cell_type": "code",
      "source": [
        "# 고유값, 고유 벡터"
      ],
      "metadata": {
        "id": "cZE8V0km7iIx"
      },
      "execution_count": 15,
      "outputs": []
    },
    {
      "cell_type": "code",
      "source": [
        "kpca_columns = ['kpca_comp1', 'kpca_comp2']\n",
        "X_train_kpca_df = pd.DataFrame(X_train_kpca, columns=kpca_columns)\n",
        "X_train_kpca_df['target'] = y_train"
      ],
      "metadata": {
        "id": "ZJDIu5Nq-Dev"
      },
      "execution_count": 16,
      "outputs": []
    },
    {
      "cell_type": "code",
      "source": [
        "df = X_train_kpca_df\n",
        "markers = ['o', 'x', '^']\n",
        "for i, mark in enumerate(markers):\n",
        "  X_i = df[df['target']==i]\n",
        "  target_i = wine.target_names[i]\n",
        "  X1 = X_i['kpca_comp1']\n",
        "  X2 = X_i['kpca_comp2']\n",
        "  plt.scatter(X1, X2, marker=mark, label=target_i)\n",
        "\n",
        "plt.xlabel('kpca_comp1')\n",
        "plt.ylabel('kpca_comp2')\n",
        "plt.legend()\n",
        "plt.show()\n",
        "\n"
      ],
      "metadata": {
        "colab": {
          "base_uri": "https://localhost:8080/",
          "height": 280
        },
        "id": "XuU0l51h-dYA",
        "outputId": "23f35464-9cc8-443a-b315-847d61657988"
      },
      "execution_count": 18,
      "outputs": [
        {
          "output_type": "display_data",
          "data": {
            "text/plain": [
              "<Figure size 432x288 with 1 Axes>"
            ],
            "image/png": "[encoded data removed]"
          },
          "metadata": {
            "needs_background": "light"
          }
        }
      ]
    },
    {
      "cell_type": "code",
      "source": [
        "rfc_kpca = RandomForestClassifier(max_depth=2,\n",
        "                                  random_state=20)\n",
        "rfc_kpca.fit(X_train_kpca, y_train)\n",
        "y_pred = rfc_kpca.predict(X_test_kpca)\n",
        "\n",
        "from sklearn.metrics import accuracy_score\n",
        "accuracy_score(y_test, y_pred)"
      ],
      "metadata": {
        "colab": {
          "base_uri": "https://localhost:8080/"
        },
        "id": "MF5MYdvs_BRu",
        "outputId": "38ad1584-6954-47f7-fa2b-008e59679ac8"
      },
      "execution_count": 21,
      "outputs": [
        {
          "output_type": "execute_result",
          "data": {
            "text/plain": [
              "1.0"
            ]
          },
          "metadata": {},
          "execution_count": 21
        }
      ]
    },
    {
      "cell_type": "code",
      "source": [],
      "metadata": {
        "id": "alXXjRieCDDL"
      },
      "execution_count": null,
      "outputs": []
    }
  ]
}