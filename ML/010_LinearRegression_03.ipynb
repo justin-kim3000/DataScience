{
  "nbformat": 4,
  "nbformat_minor": 0,
  "metadata": {
    "colab": {
      "provenance": []
    },
    "kernelspec": {
      "name": "python3",
      "display_name": "Python 3"
    },
    "language_info": {
      "name": "python"
    }
  },
  "cells": [
    {
      "cell_type": "code",
      "execution_count": null,
      "metadata": {
        "id": "vPGNFS5xsIAh"
      },
      "outputs": [],
      "source": [
        "# !sudo apt-get install -y fonts-nanum\n",
        "# !sudo fc-cache -fv\n",
        "# !rm ~/.cache/matplotlib -rf\n",
        "# !pip install pyreadstat\n",
        "# !pip install --upgrade pandas"
      ]
    },
    {
      "cell_type": "code",
      "source": [
        "import numpy as np\n",
        "import matplotlib.pyplot as plt\n",
        "from sklearn.datasets import make_classification\n",
        "from sklearn.linear_model import LogisticRegression\n",
        "from sklearn.model_selection import train_test_split, cross_val_score"
      ],
      "metadata": {
        "id": "6BwBGmjksN-_"
      },
      "execution_count": null,
      "outputs": []
    },
    {
      "cell_type": "code",
      "source": [
        "sample = 100\n",
        "X, y = make_classification(n_samples=sample,\n",
        "                           n_features=2,\n",
        "                           n_informative=2,\n",
        "                           n_redundant=0,\n",
        "                           n_clusters_per_class=1)\n",
        "fig, ax = plt.subplots(1,1)\n",
        "\n",
        "ax.grid()\n",
        "ax.set_xlabel('X')\n",
        "ax.set_ylabel('y')\n",
        "\n",
        "for i in range(sample):\n",
        "  if y[i]==0:\n",
        "    ax.scatter(X[i,0],X[i,1], edgecolors='k',alpha=0.5, marker='^',color='r')\n",
        "  else:\n",
        "    ax.scatter(X[i,0], X[i,1], edgecolors='k',alpha=0.5, marker='v',color='b')\n"
      ],
      "metadata": {
        "colab": {
          "base_uri": "https://localhost:8080/",
          "height": 279
        },
        "id": "8dkCVsTotI5X",
        "outputId": "9fb3a197-6353-47a3-83e1-d27866b534ec"
      },
      "execution_count": null,
      "outputs": [
        {
          "output_type": "display_data",
          "data": {
            "text/plain": [
              "<Figure size 432x288 with 1 Axes>"
            ],
            "image/png": "[encoded data removed]"
          },
          "metadata": {
            "needs_background": "light"
          }
        }
      ]
    },
    {
      "cell_type": "code",
      "source": [
        "X_train, X_test, y_train, y_test = train_test_split(X, y, test_size=0.2)\n",
        "\n",
        "model = LogisticRegression()\n",
        "model.fit(X_train, y_train)\n",
        "model.score(X_train, y_train)\n",
        "# model.score(X_test, y_test)"
      ],
      "metadata": {
        "colab": {
          "base_uri": "https://localhost:8080/"
        },
        "id": "DzjvcvnDttIo",
        "outputId": "250a5429-ea5d-4a08-ecbc-10236bfb9b97"
      },
      "execution_count": null,
      "outputs": [
        {
          "output_type": "execute_result",
          "data": {
            "text/plain": [
              "0.9125"
            ]
          },
          "metadata": {},
          "execution_count": 14
        }
      ]
    },
    {
      "cell_type": "code",
      "source": [
        "scores = cross_val_score(model, X, y, scoring='accuracy', cv=10)"
      ],
      "metadata": {
        "id": "fYHQSTzxwren"
      },
      "execution_count": null,
      "outputs": []
    },
    {
      "cell_type": "code",
      "source": [
        "scores.mean()"
      ],
      "metadata": {
        "colab": {
          "base_uri": "https://localhost:8080/"
        },
        "id": "Xk9SQEdJxfAz",
        "outputId": "d2da128e-e1da-4829-b2cf-525a6bc0b8b9"
      },
      "execution_count": null,
      "outputs": [
        {
          "output_type": "execute_result",
          "data": {
            "text/plain": [
              "0.9099999999999999"
            ]
          },
          "metadata": {},
          "execution_count": 18
        }
      ]
    },
    {
      "cell_type": "code",
      "source": [
        "model.intercept_"
      ],
      "metadata": {
        "colab": {
          "base_uri": "https://localhost:8080/"
        },
        "id": "89dN4WRkx7Cu",
        "outputId": "ea20cf38-f8e2-4ba8-92f5-859b20c68621"
      },
      "execution_count": null,
      "outputs": [
        {
          "output_type": "execute_result",
          "data": {
            "text/plain": [
              "array([-0.07045021])"
            ]
          },
          "metadata": {},
          "execution_count": 19
        }
      ]
    },
    {
      "cell_type": "code",
      "source": [
        "model.coef_"
      ],
      "metadata": {
        "colab": {
          "base_uri": "https://localhost:8080/"
        },
        "id": "PBUi7NSwykI7",
        "outputId": "9e0acdd5-2b67-4984-86c0-5bafa198106c"
      },
      "execution_count": null,
      "outputs": [
        {
          "output_type": "execute_result",
          "data": {
            "text/plain": [
              "array([[ 2.5451514 , -0.21793111]])"
            ]
          },
          "metadata": {},
          "execution_count": 20
        }
      ]
    },
    {
      "cell_type": "code",
      "source": [
        "x_min, x_max = X[:,0].min()-0.5, X[:,0].max()+0.5\n",
        "y_min, y_max = X[:,1].min()-0.5, X[:,1].max()+0.5\n",
        "\n",
        "# 직사각형 그리드 생성\n",
        "xx, yy = np.meshgrid(np.arange(x_min, x_max, 0.02),\n",
        "                     np.arange(y_min, y_max, 0.02))\n",
        "xx.shape\n",
        "\n",
        "# ravel():2차원배열 -> 1차원배열 (평탄화 작업 -> 다차원을 1차원으로)\n",
        "# flatten()\n",
        "Z = model.predict(np.c_[xx.ravel(), yy.ravel()])\n",
        "Z.shape\n",
        "Z = Z.reshape(xx.shape)\n",
        "plt.pcolormesh(xx, yy, Z, cmap=plt.cm.Pastel1)\n",
        "plt.scatter(X[:,0],X[:,1],c=np.abs(y-1),edgecolor='k',alpha=0.5, cmap=plt.cm.coolwarm)\n",
        "\n",
        "plt.xlabel('X')\n",
        "plt.ylabel('y')\n",
        "plt.xlim(xx.min(), xx.max())\n",
        "plt.ylim(yy.min(), yy.max())\n",
        "plt.xticks()\n",
        "plt.yticks()\n",
        "\n"
      ],
      "metadata": {
        "colab": {
          "base_uri": "https://localhost:8080/",
          "height": 453
        },
        "id": "hpJpHhrmylTl",
        "outputId": "15441056-50aa-440a-d7f0-99e21596db4f"
      },
      "execution_count": null,
      "outputs": [
        {
          "output_type": "execute_result",
          "data": {
            "text/plain": [
              "(array([-3. , -2.5, -2. , -1.5, -1. , -0.5,  0. ,  0.5,  1. ]),\n",
              " [Text(0, 0, ''),\n",
              "  Text(0, 0, ''),\n",
              "  Text(0, 0, ''),\n",
              "  Text(0, 0, ''),\n",
              "  Text(0, 0, ''),\n",
              "  Text(0, 0, ''),\n",
              "  Text(0, 0, ''),\n",
              "  Text(0, 0, ''),\n",
              "  Text(0, 0, '')])"
            ]
          },
          "metadata": {},
          "execution_count": 36
        },
        {
          "output_type": "display_data",
          "data": {
            "text/plain": [
              "<Figure size 432x288 with 1 Axes>"
            ],
            "image/png": "[encoded data removed]"
          },
          "metadata": {
            "needs_background": "light"
          }
        }
      ]
    },
    {
      "cell_type": "code",
      "source": [],
      "metadata": {
        "id": "vYh4aHXazvlR"
      },
      "execution_count": null,
      "outputs": []
    }
  ]
}