{
  "nbformat": 4,
  "nbformat_minor": 0,
  "metadata": {
    "colab": {
      "provenance": []
    },
    "kernelspec": {
      "name": "python3",
      "display_name": "Python 3"
    },
    "language_info": {
      "name": "python"
    }
  },
  "cells": [
    {
      "cell_type": "code",
      "execution_count": null,
      "metadata": {
        "id": "8CrB61pFDczO"
      },
      "outputs": [],
      "source": [
        "import numpy as np\n",
        "import matplotlib.pyplot as plt\n",
        "from sklearn import datasets, metrics\n",
        "from sklearn.ensemble import RandomForestClassifier\n",
        "from sklearn.metrics import roc_auc_score\n",
        "from sklearn.model_selection import train_test_split"
      ]
    },
    {
      "cell_type": "code",
      "source": [
        "iris = datasets.load_iris()\n",
        "X = iris.data\n",
        "y = iris.target"
      ],
      "metadata": {
        "id": "oAZzdWj7Dn4c"
      },
      "execution_count": null,
      "outputs": []
    },
    {
      "cell_type": "code",
      "source": [
        "X_train, X_test, y_train, y_test = train_test_split(X,y, test_size=0.3)\n"
      ],
      "metadata": {
        "id": "AVXfOjZ6E_2q"
      },
      "execution_count": null,
      "outputs": []
    },
    {
      "cell_type": "code",
      "source": [
        "# tree 개수: 8, -1: 가용할수있는 모든 cpu\n",
        "model = RandomForestClassifier(criterion='entropy',\n",
        "                               n_estimators=8,\n",
        "                               n_jobs=-1)\n",
        "model.fit(X_train,y_train)\n",
        "print(model.score(X_train, y_train))\n",
        "model.score(X_test, y_test)"
      ],
      "metadata": {
        "colab": {
          "base_uri": "https://localhost:8080/"
        },
        "id": "xLfdHNIqEELa",
        "outputId": "47f7a83a-fcf0-4e68-f81c-1a2151d23d2a"
      },
      "execution_count": null,
      "outputs": [
        {
          "output_type": "stream",
          "name": "stdout",
          "text": [
            "0.9809523809523809\n"
          ]
        },
        {
          "output_type": "execute_result",
          "data": {
            "text/plain": [
              "0.9111111111111111"
            ]
          },
          "metadata": {},
          "execution_count": 21
        }
      ]
    },
    {
      "cell_type": "code",
      "source": [
        "new_data = [[2.3, 3.1, 4.7, 7.1],[3.1, 4.3, 5.8, 2.7]]\n",
        "new_pred = model.predict(new_data)\n",
        "for i in new_pred:\n",
        "  print(i, iris.target_names[i])"
      ],
      "metadata": {
        "colab": {
          "base_uri": "https://localhost:8080/"
        },
        "id": "1WanA1ZYETns",
        "outputId": "ce70769d-29cc-42ac-f3ec-5b04c695dcf6"
      },
      "execution_count": null,
      "outputs": [
        {
          "output_type": "stream",
          "name": "stdout",
          "text": [
            "1 versicolor\n",
            "2 virginica\n"
          ]
        }
      ]
    },
    {
      "cell_type": "code",
      "source": [
        "y_pred = model.predict(X_test)\n",
        "pred = metrics.classification_report(y_test, y_pred, target_names=iris.target_names)\n",
        "print(pred)"
      ],
      "metadata": {
        "colab": {
          "base_uri": "https://localhost:8080/"
        },
        "id": "HCCLhoN7E1hn",
        "outputId": "15e9a3a0-0376-4e95-cb6d-27a607270194"
      },
      "execution_count": null,
      "outputs": [
        {
          "output_type": "stream",
          "name": "stdout",
          "text": [
            "              precision    recall  f1-score   support\n",
            "\n",
            "      setosa       1.00      1.00      1.00        15\n",
            "  versicolor       0.84      0.94      0.89        17\n",
            "   virginica       0.91      0.77      0.83        13\n",
            "\n",
            "    accuracy                           0.91        45\n",
            "   macro avg       0.92      0.90      0.91        45\n",
            "weighted avg       0.91      0.91      0.91        45\n",
            "\n"
          ]
        }
      ]
    },
    {
      "cell_type": "code",
      "source": [],
      "metadata": {
        "id": "-zmBBVKhGDle"
      },
      "execution_count": null,
      "outputs": []
    }
  ]
}